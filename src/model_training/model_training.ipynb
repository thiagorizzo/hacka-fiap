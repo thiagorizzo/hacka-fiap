{
  "cells": [
    {
      "cell_type": "code",
      "execution_count": 1,
      "metadata": {
        "colab": {
          "base_uri": "https://localhost:8080/"
        },
        "id": "TqaZXRMfjvHv",
        "outputId": "a599cadd-56bd-49d7-e96b-336bd683b6ec"
      },
      "outputs": [
        {
          "name": "stdout",
          "output_type": "stream",
          "text": [
            "Mounted at /content/gdrive\n"
          ]
        }
      ],
      "source": [
        "# Conectar ao Google Drive\n",
        "from google.colab import drive\n",
        "drive.mount(\"/content/gdrive\")\n",
        "\n",
        "# Mudar para o diretório do projeto\n",
        "# OBS: ajuste o caminho conforme a estrutura de diretórios do seu projeto no Google Drive\n",
        "%cd /content/gdrive/MyDrive/FIAP\n",
        "\n",
        "# create file it's not exist\n",
        "import os\n",
        "if not os.path.isdir(\"Hackathon\"):\n",
        "  os.makedirs(\"Hackathon\")\n",
        "  \n",
        "# change directory to the created directory\n",
        "%cd /content/gdrive/MyDrive/FIAP/Hackathon"
      ]
    },
    {
      "cell_type": "code",
      "execution_count": 3,
      "metadata": {
        "colab": {
          "base_uri": "https://localhost:8080/"
        },
        "collapsed": true,
        "id": "G9A2HS6FmGga",
        "outputId": "39dff600-cd21-4fb3-a5f1-b8ed395c0306"
      },
      "outputs": [
        {
          "name": "stdout",
          "output_type": "stream",
          "text": [
            "Collecting ultralytics\n",
            "  Downloading ultralytics-8.3.71-py3-none-any.whl.metadata (35 kB)\n",
            "Requirement already satisfied: numpy<=2.1.1,>=1.23.0 in /usr/local/lib/python3.11/dist-packages (from ultralytics) (1.26.4)\n",
            "Requirement already satisfied: matplotlib>=3.3.0 in /usr/local/lib/python3.11/dist-packages (from ultralytics) (3.10.0)\n",
            "Requirement already satisfied: opencv-python>=4.6.0 in /usr/local/lib/python3.11/dist-packages (from ultralytics) (4.10.0.84)\n",
            "Requirement already satisfied: pillow>=7.1.2 in /usr/local/lib/python3.11/dist-packages (from ultralytics) (11.1.0)\n",
            "Requirement already satisfied: pyyaml>=5.3.1 in /usr/local/lib/python3.11/dist-packages (from ultralytics) (6.0.2)\n",
            "Requirement already satisfied: requests>=2.23.0 in /usr/local/lib/python3.11/dist-packages (from ultralytics) (2.32.3)\n",
            "Requirement already satisfied: scipy>=1.4.1 in /usr/local/lib/python3.11/dist-packages (from ultralytics) (1.13.1)\n",
            "Requirement already satisfied: torch>=1.8.0 in /usr/local/lib/python3.11/dist-packages (from ultralytics) (2.5.1+cu124)\n",
            "Requirement already satisfied: torchvision>=0.9.0 in /usr/local/lib/python3.11/dist-packages (from ultralytics) (0.20.1+cu124)\n",
            "Requirement already satisfied: tqdm>=4.64.0 in /usr/local/lib/python3.11/dist-packages (from ultralytics) (4.67.1)\n",
            "Requirement already satisfied: psutil in /usr/local/lib/python3.11/dist-packages (from ultralytics) (5.9.5)\n",
            "Requirement already satisfied: py-cpuinfo in /usr/local/lib/python3.11/dist-packages (from ultralytics) (9.0.0)\n",
            "Requirement already satisfied: pandas>=1.1.4 in /usr/local/lib/python3.11/dist-packages (from ultralytics) (2.2.2)\n",
            "Requirement already satisfied: seaborn>=0.11.0 in /usr/local/lib/python3.11/dist-packages (from ultralytics) (0.13.2)\n",
            "Collecting ultralytics-thop>=2.0.0 (from ultralytics)\n",
            "  Downloading ultralytics_thop-2.0.14-py3-none-any.whl.metadata (9.4 kB)\n",
            "Requirement already satisfied: contourpy>=1.0.1 in /usr/local/lib/python3.11/dist-packages (from matplotlib>=3.3.0->ultralytics) (1.3.1)\n",
            "Requirement already satisfied: cycler>=0.10 in /usr/local/lib/python3.11/dist-packages (from matplotlib>=3.3.0->ultralytics) (0.12.1)\n",
            "Requirement already satisfied: fonttools>=4.22.0 in /usr/local/lib/python3.11/dist-packages (from matplotlib>=3.3.0->ultralytics) (4.55.7)\n",
            "Requirement already satisfied: kiwisolver>=1.3.1 in /usr/local/lib/python3.11/dist-packages (from matplotlib>=3.3.0->ultralytics) (1.4.8)\n",
            "Requirement already satisfied: packaging>=20.0 in /usr/local/lib/python3.11/dist-packages (from matplotlib>=3.3.0->ultralytics) (24.2)\n",
            "Requirement already satisfied: pyparsing>=2.3.1 in /usr/local/lib/python3.11/dist-packages (from matplotlib>=3.3.0->ultralytics) (3.2.1)\n",
            "Requirement already satisfied: python-dateutil>=2.7 in /usr/local/lib/python3.11/dist-packages (from matplotlib>=3.3.0->ultralytics) (2.8.2)\n",
            "Requirement already satisfied: pytz>=2020.1 in /usr/local/lib/python3.11/dist-packages (from pandas>=1.1.4->ultralytics) (2024.2)\n",
            "Requirement already satisfied: tzdata>=2022.7 in /usr/local/lib/python3.11/dist-packages (from pandas>=1.1.4->ultralytics) (2025.1)\n",
            "Requirement already satisfied: charset-normalizer<4,>=2 in /usr/local/lib/python3.11/dist-packages (from requests>=2.23.0->ultralytics) (3.4.1)\n",
            "Requirement already satisfied: idna<4,>=2.5 in /usr/local/lib/python3.11/dist-packages (from requests>=2.23.0->ultralytics) (3.10)\n",
            "Requirement already satisfied: urllib3<3,>=1.21.1 in /usr/local/lib/python3.11/dist-packages (from requests>=2.23.0->ultralytics) (2.3.0)\n",
            "Requirement already satisfied: certifi>=2017.4.17 in /usr/local/lib/python3.11/dist-packages (from requests>=2.23.0->ultralytics) (2024.12.14)\n",
            "Requirement already satisfied: filelock in /usr/local/lib/python3.11/dist-packages (from torch>=1.8.0->ultralytics) (3.17.0)\n",
            "Requirement already satisfied: typing-extensions>=4.8.0 in /usr/local/lib/python3.11/dist-packages (from torch>=1.8.0->ultralytics) (4.12.2)\n",
            "Requirement already satisfied: networkx in /usr/local/lib/python3.11/dist-packages (from torch>=1.8.0->ultralytics) (3.4.2)\n",
            "Requirement already satisfied: jinja2 in /usr/local/lib/python3.11/dist-packages (from torch>=1.8.0->ultralytics) (3.1.5)\n",
            "Requirement already satisfied: fsspec in /usr/local/lib/python3.11/dist-packages (from torch>=1.8.0->ultralytics) (2024.10.0)\n",
            "Collecting nvidia-cuda-nvrtc-cu12==12.4.127 (from torch>=1.8.0->ultralytics)\n",
            "  Downloading nvidia_cuda_nvrtc_cu12-12.4.127-py3-none-manylinux2014_x86_64.whl.metadata (1.5 kB)\n",
            "Collecting nvidia-cuda-runtime-cu12==12.4.127 (from torch>=1.8.0->ultralytics)\n",
            "  Downloading nvidia_cuda_runtime_cu12-12.4.127-py3-none-manylinux2014_x86_64.whl.metadata (1.5 kB)\n",
            "Collecting nvidia-cuda-cupti-cu12==12.4.127 (from torch>=1.8.0->ultralytics)\n",
            "  Downloading nvidia_cuda_cupti_cu12-12.4.127-py3-none-manylinux2014_x86_64.whl.metadata (1.6 kB)\n",
            "Collecting nvidia-cudnn-cu12==9.1.0.70 (from torch>=1.8.0->ultralytics)\n",
            "  Downloading nvidia_cudnn_cu12-9.1.0.70-py3-none-manylinux2014_x86_64.whl.metadata (1.6 kB)\n",
            "Collecting nvidia-cublas-cu12==12.4.5.8 (from torch>=1.8.0->ultralytics)\n",
            "  Downloading nvidia_cublas_cu12-12.4.5.8-py3-none-manylinux2014_x86_64.whl.metadata (1.5 kB)\n",
            "Collecting nvidia-cufft-cu12==11.2.1.3 (from torch>=1.8.0->ultralytics)\n",
            "  Downloading nvidia_cufft_cu12-11.2.1.3-py3-none-manylinux2014_x86_64.whl.metadata (1.5 kB)\n",
            "Collecting nvidia-curand-cu12==10.3.5.147 (from torch>=1.8.0->ultralytics)\n",
            "  Downloading nvidia_curand_cu12-10.3.5.147-py3-none-manylinux2014_x86_64.whl.metadata (1.5 kB)\n",
            "Collecting nvidia-cusolver-cu12==11.6.1.9 (from torch>=1.8.0->ultralytics)\n",
            "  Downloading nvidia_cusolver_cu12-11.6.1.9-py3-none-manylinux2014_x86_64.whl.metadata (1.6 kB)\n",
            "Collecting nvidia-cusparse-cu12==12.3.1.170 (from torch>=1.8.0->ultralytics)\n",
            "  Downloading nvidia_cusparse_cu12-12.3.1.170-py3-none-manylinux2014_x86_64.whl.metadata (1.6 kB)\n",
            "Requirement already satisfied: nvidia-nccl-cu12==2.21.5 in /usr/local/lib/python3.11/dist-packages (from torch>=1.8.0->ultralytics) (2.21.5)\n",
            "Requirement already satisfied: nvidia-nvtx-cu12==12.4.127 in /usr/local/lib/python3.11/dist-packages (from torch>=1.8.0->ultralytics) (12.4.127)\n",
            "Collecting nvidia-nvjitlink-cu12==12.4.127 (from torch>=1.8.0->ultralytics)\n",
            "  Downloading nvidia_nvjitlink_cu12-12.4.127-py3-none-manylinux2014_x86_64.whl.metadata (1.5 kB)\n",
            "Requirement already satisfied: triton==3.1.0 in /usr/local/lib/python3.11/dist-packages (from torch>=1.8.0->ultralytics) (3.1.0)\n",
            "Requirement already satisfied: sympy==1.13.1 in /usr/local/lib/python3.11/dist-packages (from torch>=1.8.0->ultralytics) (1.13.1)\n",
            "Requirement already satisfied: mpmath<1.4,>=1.1.0 in /usr/local/lib/python3.11/dist-packages (from sympy==1.13.1->torch>=1.8.0->ultralytics) (1.3.0)\n",
            "Requirement already satisfied: six>=1.5 in /usr/local/lib/python3.11/dist-packages (from python-dateutil>=2.7->matplotlib>=3.3.0->ultralytics) (1.17.0)\n",
            "Requirement already satisfied: MarkupSafe>=2.0 in /usr/local/lib/python3.11/dist-packages (from jinja2->torch>=1.8.0->ultralytics) (3.0.2)\n",
            "Downloading ultralytics-8.3.71-py3-none-any.whl (914 kB)\n",
            "\u001b[2K   \u001b[90m━━━━━━━━━━━━━━━━━━━━━━━━━━━━━━━━━━━━━━━━\u001b[0m \u001b[32m914.9/914.9 kB\u001b[0m \u001b[31m16.8 MB/s\u001b[0m eta \u001b[36m0:00:00\u001b[0m\n",
            "\u001b[?25hDownloading nvidia_cublas_cu12-12.4.5.8-py3-none-manylinux2014_x86_64.whl (363.4 MB)\n",
            "\u001b[2K   \u001b[90m━━━━━━━━━━━━━━━━━━━━━━━━━━━━━━━━━━━━━━━━\u001b[0m \u001b[32m363.4/363.4 MB\u001b[0m \u001b[31m2.3 MB/s\u001b[0m eta \u001b[36m0:00:00\u001b[0m\n",
            "\u001b[?25hDownloading nvidia_cuda_cupti_cu12-12.4.127-py3-none-manylinux2014_x86_64.whl (13.8 MB)\n",
            "\u001b[2K   \u001b[90m━━━━━━━━━━━━━━━━━━━━━━━━━━━━━━━━━━━━━━━━\u001b[0m \u001b[32m13.8/13.8 MB\u001b[0m \u001b[31m112.1 MB/s\u001b[0m eta \u001b[36m0:00:00\u001b[0m\n",
            "\u001b[?25hDownloading nvidia_cuda_nvrtc_cu12-12.4.127-py3-none-manylinux2014_x86_64.whl (24.6 MB)\n",
            "\u001b[2K   \u001b[90m━━━━━━━━━━━━━━━━━━━━━━━━━━━━━━━━━━━━━━━━\u001b[0m \u001b[32m24.6/24.6 MB\u001b[0m \u001b[31m88.7 MB/s\u001b[0m eta \u001b[36m0:00:00\u001b[0m\n",
            "\u001b[?25hDownloading nvidia_cuda_runtime_cu12-12.4.127-py3-none-manylinux2014_x86_64.whl (883 kB)\n",
            "\u001b[2K   \u001b[90m━━━━━━━━━━━━━━━━━━━━━━━━━━━━━━━━━━━━━━━━\u001b[0m \u001b[32m883.7/883.7 kB\u001b[0m \u001b[31m55.3 MB/s\u001b[0m eta \u001b[36m0:00:00\u001b[0m\n",
            "\u001b[?25hDownloading nvidia_cudnn_cu12-9.1.0.70-py3-none-manylinux2014_x86_64.whl (664.8 MB)\n",
            "\u001b[2K   \u001b[90m━━━━━━━━━━━━━━━━━━━━━━━━━━━━━━━━━━━━━━━━\u001b[0m \u001b[32m664.8/664.8 MB\u001b[0m \u001b[31m1.3 MB/s\u001b[0m eta \u001b[36m0:00:00\u001b[0m\n",
            "\u001b[?25hDownloading nvidia_cufft_cu12-11.2.1.3-py3-none-manylinux2014_x86_64.whl (211.5 MB)\n",
            "\u001b[2K   \u001b[90m━━━━━━━━━━━━━━━━━━━━━━━━━━━━━━━━━━━━━━━━\u001b[0m \u001b[32m211.5/211.5 MB\u001b[0m \u001b[31m9.3 MB/s\u001b[0m eta \u001b[36m0:00:00\u001b[0m\n",
            "\u001b[?25hDownloading nvidia_curand_cu12-10.3.5.147-py3-none-manylinux2014_x86_64.whl (56.3 MB)\n",
            "\u001b[2K   \u001b[90m━━━━━━━━━━━━━━━━━━━━━━━━━━━━━━━━━━━━━━━━\u001b[0m \u001b[32m56.3/56.3 MB\u001b[0m \u001b[31m35.9 MB/s\u001b[0m eta \u001b[36m0:00:00\u001b[0m\n",
            "\u001b[?25hDownloading nvidia_cusolver_cu12-11.6.1.9-py3-none-manylinux2014_x86_64.whl (127.9 MB)\n",
            "\u001b[2K   \u001b[90m━━━━━━━━━━━━━━━━━━━━━━━━━━━━━━━━━━━━━━━━\u001b[0m \u001b[32m127.9/127.9 MB\u001b[0m \u001b[31m9.8 MB/s\u001b[0m eta \u001b[36m0:00:00\u001b[0m\n",
            "\u001b[?25hDownloading nvidia_cusparse_cu12-12.3.1.170-py3-none-manylinux2014_x86_64.whl (207.5 MB)\n",
            "\u001b[2K   \u001b[90m━━━━━━━━━━━━━━━━━━━━━━━━━━━━━━━━━━━━━━━━\u001b[0m \u001b[32m207.5/207.5 MB\u001b[0m \u001b[31m5.9 MB/s\u001b[0m eta \u001b[36m0:00:00\u001b[0m\n",
            "\u001b[?25hDownloading nvidia_nvjitlink_cu12-12.4.127-py3-none-manylinux2014_x86_64.whl (21.1 MB)\n",
            "\u001b[2K   \u001b[90m━━━━━━━━━━━━━━━━━━━━━━━━━━━━━━━━━━━━━━━━\u001b[0m \u001b[32m21.1/21.1 MB\u001b[0m \u001b[31m96.3 MB/s\u001b[0m eta \u001b[36m0:00:00\u001b[0m\n",
            "\u001b[?25hDownloading ultralytics_thop-2.0.14-py3-none-any.whl (26 kB)\n",
            "Installing collected packages: nvidia-nvjitlink-cu12, nvidia-curand-cu12, nvidia-cufft-cu12, nvidia-cuda-runtime-cu12, nvidia-cuda-nvrtc-cu12, nvidia-cuda-cupti-cu12, nvidia-cublas-cu12, nvidia-cusparse-cu12, nvidia-cudnn-cu12, nvidia-cusolver-cu12, ultralytics-thop, ultralytics\n",
            "  Attempting uninstall: nvidia-nvjitlink-cu12\n",
            "    Found existing installation: nvidia-nvjitlink-cu12 12.5.82\n",
            "    Uninstalling nvidia-nvjitlink-cu12-12.5.82:\n",
            "      Successfully uninstalled nvidia-nvjitlink-cu12-12.5.82\n",
            "  Attempting uninstall: nvidia-curand-cu12\n",
            "    Found existing installation: nvidia-curand-cu12 10.3.6.82\n",
            "    Uninstalling nvidia-curand-cu12-10.3.6.82:\n",
            "      Successfully uninstalled nvidia-curand-cu12-10.3.6.82\n",
            "  Attempting uninstall: nvidia-cufft-cu12\n",
            "    Found existing installation: nvidia-cufft-cu12 11.2.3.61\n",
            "    Uninstalling nvidia-cufft-cu12-11.2.3.61:\n",
            "      Successfully uninstalled nvidia-cufft-cu12-11.2.3.61\n",
            "  Attempting uninstall: nvidia-cuda-runtime-cu12\n",
            "    Found existing installation: nvidia-cuda-runtime-cu12 12.5.82\n",
            "    Uninstalling nvidia-cuda-runtime-cu12-12.5.82:\n",
            "      Successfully uninstalled nvidia-cuda-runtime-cu12-12.5.82\n",
            "  Attempting uninstall: nvidia-cuda-nvrtc-cu12\n",
            "    Found existing installation: nvidia-cuda-nvrtc-cu12 12.5.82\n",
            "    Uninstalling nvidia-cuda-nvrtc-cu12-12.5.82:\n",
            "      Successfully uninstalled nvidia-cuda-nvrtc-cu12-12.5.82\n",
            "  Attempting uninstall: nvidia-cuda-cupti-cu12\n",
            "    Found existing installation: nvidia-cuda-cupti-cu12 12.5.82\n",
            "    Uninstalling nvidia-cuda-cupti-cu12-12.5.82:\n",
            "      Successfully uninstalled nvidia-cuda-cupti-cu12-12.5.82\n",
            "  Attempting uninstall: nvidia-cublas-cu12\n",
            "    Found existing installation: nvidia-cublas-cu12 12.5.3.2\n",
            "    Uninstalling nvidia-cublas-cu12-12.5.3.2:\n",
            "      Successfully uninstalled nvidia-cublas-cu12-12.5.3.2\n",
            "  Attempting uninstall: nvidia-cusparse-cu12\n",
            "    Found existing installation: nvidia-cusparse-cu12 12.5.1.3\n",
            "    Uninstalling nvidia-cusparse-cu12-12.5.1.3:\n",
            "      Successfully uninstalled nvidia-cusparse-cu12-12.5.1.3\n",
            "  Attempting uninstall: nvidia-cudnn-cu12\n",
            "    Found existing installation: nvidia-cudnn-cu12 9.3.0.75\n",
            "    Uninstalling nvidia-cudnn-cu12-9.3.0.75:\n",
            "      Successfully uninstalled nvidia-cudnn-cu12-9.3.0.75\n",
            "  Attempting uninstall: nvidia-cusolver-cu12\n",
            "    Found existing installation: nvidia-cusolver-cu12 11.6.3.83\n",
            "    Uninstalling nvidia-cusolver-cu12-11.6.3.83:\n",
            "      Successfully uninstalled nvidia-cusolver-cu12-11.6.3.83\n",
            "Successfully installed nvidia-cublas-cu12-12.4.5.8 nvidia-cuda-cupti-cu12-12.4.127 nvidia-cuda-nvrtc-cu12-12.4.127 nvidia-cuda-runtime-cu12-12.4.127 nvidia-cudnn-cu12-9.1.0.70 nvidia-cufft-cu12-11.2.1.3 nvidia-curand-cu12-10.3.5.147 nvidia-cusolver-cu12-11.6.1.9 nvidia-cusparse-cu12-12.3.1.170 nvidia-nvjitlink-cu12-12.4.127 ultralytics-8.3.71 ultralytics-thop-2.0.14\n"
          ]
        }
      ],
      "source": [
        "# Instalar Ultralytics para rodar o YOLOv11\n",
        "!pip install ultralytics"
      ]
    },
    {
      "cell_type": "code",
      "execution_count": 4,
      "metadata": {
        "colab": {
          "base_uri": "https://localhost:8080/"
        },
        "collapsed": true,
        "id": "h7cKw-zmu2gv",
        "outputId": "fb649b45-cb15-49bf-aea9-a4b7911478cf"
      },
      "outputs": [
        {
          "name": "stdout",
          "output_type": "stream",
          "text": [
            "Creating new Ultralytics Settings v0.0.6 file ✅ \n",
            "View Ultralytics Settings with 'yolo settings' or at '/root/.config/Ultralytics/settings.json'\n",
            "Update Settings with 'yolo settings key=value', i.e. 'yolo settings runs_dir=path/to/dir'. For help see https://docs.ultralytics.com/quickstart/#ultralytics-settings.\n",
            "Ultralytics 8.3.71 🚀 Python-3.11.11 torch-2.5.1+cu124 CUDA:0 (NVIDIA A100-SXM4-40GB, 40507MiB)\n",
            "\u001b[34m\u001b[1mengine/trainer: \u001b[0mtask=detect, mode=train, model=yolo11n.pt, data=/content/gdrive/MyDrive/FIAP/Hackathon/data.yaml, epochs=100, time=None, patience=100, batch=32, imgsz=640, save=True, save_period=-1, cache=True, device=None, workers=8, project=None, name=best_20250204_192146, exist_ok=False, pretrained=True, optimizer=auto, verbose=True, seed=0, deterministic=True, single_cls=False, rect=False, cos_lr=False, close_mosaic=10, resume=False, amp=True, fraction=1.0, profile=False, freeze=None, multi_scale=False, overlap_mask=True, mask_ratio=4, dropout=0.0, val=True, split=val, save_json=False, save_hybrid=False, conf=None, iou=0.7, max_det=300, half=False, dnn=False, plots=True, source=None, vid_stride=1, stream_buffer=False, visualize=False, augment=False, agnostic_nms=False, classes=[1, 2, 3], retina_masks=False, embed=None, show=False, save_frames=False, save_txt=False, save_conf=False, save_crop=False, show_labels=True, show_conf=True, show_boxes=True, line_width=None, format=torchscript, keras=False, optimize=False, int8=False, dynamic=False, simplify=True, opset=None, workspace=None, nms=False, lr0=0.01, lrf=0.01, momentum=0.937, weight_decay=0.0005, warmup_epochs=3.0, warmup_momentum=0.8, warmup_bias_lr=0.1, box=7.5, cls=0.5, dfl=1.5, pose=12.0, kobj=1.0, nbs=64, hsv_h=0.015, hsv_s=0.7, hsv_v=0.4, degrees=0.0, translate=0.1, scale=0.5, shear=0.0, perspective=0.0, flipud=0.0, fliplr=0.5, bgr=0.0, mosaic=1.0, mixup=0.0, copy_paste=0.0, copy_paste_mode=flip, auto_augment=randaugment, erasing=0.4, crop_fraction=1.0, cfg=None, tracker=botsort.yaml, save_dir=runs/detect/best_20250204_192146\n",
            "Downloading https://ultralytics.com/assets/Arial.ttf to '/root/.config/Ultralytics/Arial.ttf'...\n"
          ]
        },
        {
          "name": "stderr",
          "output_type": "stream",
          "text": [
            "100%|██████████| 755k/755k [00:00<00:00, 11.4MB/s]\n"
          ]
        },
        {
          "name": "stdout",
          "output_type": "stream",
          "text": [
            "Overriding model.yaml nc=80 with nc=4\n",
            "\n",
            "                   from  n    params  module                                       arguments                     \n",
            "  0                  -1  1       464  ultralytics.nn.modules.conv.Conv             [3, 16, 3, 2]                 \n",
            "  1                  -1  1      4672  ultralytics.nn.modules.conv.Conv             [16, 32, 3, 2]                \n",
            "  2                  -1  1      6640  ultralytics.nn.modules.block.C3k2            [32, 64, 1, False, 0.25]      \n",
            "  3                  -1  1     36992  ultralytics.nn.modules.conv.Conv             [64, 64, 3, 2]                \n",
            "  4                  -1  1     26080  ultralytics.nn.modules.block.C3k2            [64, 128, 1, False, 0.25]     \n",
            "  5                  -1  1    147712  ultralytics.nn.modules.conv.Conv             [128, 128, 3, 2]              \n",
            "  6                  -1  1     87040  ultralytics.nn.modules.block.C3k2            [128, 128, 1, True]           \n",
            "  7                  -1  1    295424  ultralytics.nn.modules.conv.Conv             [128, 256, 3, 2]              \n",
            "  8                  -1  1    346112  ultralytics.nn.modules.block.C3k2            [256, 256, 1, True]           \n",
            "  9                  -1  1    164608  ultralytics.nn.modules.block.SPPF            [256, 256, 5]                 \n",
            " 10                  -1  1    249728  ultralytics.nn.modules.block.C2PSA           [256, 256, 1]                 \n",
            " 11                  -1  1         0  torch.nn.modules.upsampling.Upsample         [None, 2, 'nearest']          \n",
            " 12             [-1, 6]  1         0  ultralytics.nn.modules.conv.Concat           [1]                           \n",
            " 13                  -1  1    111296  ultralytics.nn.modules.block.C3k2            [384, 128, 1, False]          \n",
            " 14                  -1  1         0  torch.nn.modules.upsampling.Upsample         [None, 2, 'nearest']          \n",
            " 15             [-1, 4]  1         0  ultralytics.nn.modules.conv.Concat           [1]                           \n",
            " 16                  -1  1     32096  ultralytics.nn.modules.block.C3k2            [256, 64, 1, False]           \n",
            " 17                  -1  1     36992  ultralytics.nn.modules.conv.Conv             [64, 64, 3, 2]                \n",
            " 18            [-1, 13]  1         0  ultralytics.nn.modules.conv.Concat           [1]                           \n",
            " 19                  -1  1     86720  ultralytics.nn.modules.block.C3k2            [192, 128, 1, False]          \n",
            " 20                  -1  1    147712  ultralytics.nn.modules.conv.Conv             [128, 128, 3, 2]              \n",
            " 21            [-1, 10]  1         0  ultralytics.nn.modules.conv.Concat           [1]                           \n",
            " 22                  -1  1    378880  ultralytics.nn.modules.block.C3k2            [384, 256, 1, True]           \n",
            " 23        [16, 19, 22]  1    431452  ultralytics.nn.modules.head.Detect           [4, [64, 128, 256]]           \n",
            "YOLO11n summary: 319 layers, 2,590,620 parameters, 2,590,604 gradients, 6.4 GFLOPs\n",
            "\n",
            "Transferred 448/499 items from pretrained weights\n",
            "\u001b[34m\u001b[1mTensorBoard: \u001b[0mStart with 'tensorboard --logdir runs/detect/best_20250204_192146', view at http://localhost:6006/\n",
            "Freezing layer 'model.23.dfl.conv.weight'\n",
            "\u001b[34m\u001b[1mAMP: \u001b[0mrunning Automatic Mixed Precision (AMP) checks...\n",
            "\u001b[34m\u001b[1mAMP: \u001b[0mchecks passed ✅\n"
          ]
        },
        {
          "name": "stderr",
          "output_type": "stream",
          "text": [
            "\u001b[34m\u001b[1mtrain: \u001b[0mScanning /content/gdrive/MyDrive/FIAP/Hackathon/data/train/labels.cache... 5129 images, 456 backgrounds, 0 corrupt: 100%|██████████| 5321/5321 [00:00<?, ?it/s]\n"
          ]
        },
        {
          "name": "stdout",
          "output_type": "stream",
          "text": [
            "WARNING ⚠️ cache='ram' may produce non-deterministic training results. Consider cache='disk' as a deterministic alternative if your disk space allows.\n"
          ]
        },
        {
          "name": "stderr",
          "output_type": "stream",
          "text": [
            "\u001b[34m\u001b[1mtrain: \u001b[0mCaching images (4.6GB RAM): 100%|██████████| 5321/5321 [04:02<00:00, 21.99it/s] \n"
          ]
        },
        {
          "name": "stdout",
          "output_type": "stream",
          "text": [
            "\u001b[34m\u001b[1malbumentations: \u001b[0mBlur(p=0.01, blur_limit=(3, 7)), MedianBlur(p=0.01, blur_limit=(3, 7)), ToGray(p=0.01, num_output_channels=3, method='weighted_average'), CLAHE(p=0.01, clip_limit=(1.0, 4.0), tile_grid_size=(8, 8))\n"
          ]
        },
        {
          "name": "stderr",
          "output_type": "stream",
          "text": [
            "/usr/local/lib/python3.11/dist-packages/albumentations/__init__.py:24: UserWarning: A new version of Albumentations is available: 2.0.3 (you have 1.4.20). Upgrade using: pip install -U albumentations. To disable automatic update checks, set the environment variable NO_ALBUMENTATIONS_UPDATE to 1.\n",
            "  check_for_updates()\n",
            "\u001b[34m\u001b[1mval: \u001b[0mScanning /content/gdrive/MyDrive/FIAP/Hackathon/data/valid/labels.cache... 1440 images, 99 backgrounds, 0 corrupt: 100%|██████████| 1460/1460 [00:00<?, ?it/s]\n"
          ]
        },
        {
          "name": "stdout",
          "output_type": "stream",
          "text": [
            "WARNING ⚠️ cache='ram' may produce non-deterministic training results. Consider cache='disk' as a deterministic alternative if your disk space allows.\n"
          ]
        },
        {
          "name": "stderr",
          "output_type": "stream",
          "text": [
            "\u001b[34m\u001b[1mval: \u001b[0mCaching images (1.3GB RAM): 100%|██████████| 1460/1460 [00:04<00:00, 305.39it/s]\n"
          ]
        },
        {
          "name": "stdout",
          "output_type": "stream",
          "text": [
            "Plotting labels to runs/detect/best_20250204_192146/labels.jpg... \n",
            "\u001b[34m\u001b[1moptimizer:\u001b[0m 'optimizer=auto' found, ignoring 'lr0=0.01' and 'momentum=0.937' and determining best 'optimizer', 'lr0' and 'momentum' automatically... \n",
            "\u001b[34m\u001b[1moptimizer:\u001b[0m AdamW(lr=0.00125, momentum=0.9) with parameter groups 81 weight(decay=0.0), 88 weight(decay=0.0005), 87 bias(decay=0.0)\n",
            "\u001b[34m\u001b[1mTensorBoard: \u001b[0mmodel graph visualization added ✅\n",
            "Image sizes 640 train, 640 val\n",
            "Using 8 dataloader workers\n",
            "Logging results to \u001b[1mruns/detect/best_20250204_192146\u001b[0m\n",
            "Starting training for 100 epochs...\n",
            "\n",
            "      Epoch    GPU_mem   box_loss   cls_loss   dfl_loss  Instances       Size\n"
          ]
        },
        {
          "name": "stderr",
          "output_type": "stream",
          "text": [
            "      1/100      5.09G       1.28      2.861      1.504         35        640: 100%|██████████| 167/167 [00:26<00:00,  6.24it/s]\n",
            "                 Class     Images  Instances      Box(P          R      mAP50  mAP50-95): 100%|██████████| 23/23 [00:06<00:00,  3.60it/s]"
          ]
        },
        {
          "name": "stdout",
          "output_type": "stream",
          "text": [
            "                   all       1460       1829      0.302      0.278      0.209       0.11\n"
          ]
        },
        {
          "name": "stderr",
          "output_type": "stream",
          "text": [
            "\n"
          ]
        },
        {
          "name": "stdout",
          "output_type": "stream",
          "text": [
            "\n",
            "      Epoch    GPU_mem   box_loss   cls_loss   dfl_loss  Instances       Size\n"
          ]
        },
        {
          "name": "stderr",
          "output_type": "stream",
          "text": [
            "      2/100      5.05G      1.298      2.084      1.495         26        640: 100%|██████████| 167/167 [00:24<00:00,  6.72it/s]\n",
            "                 Class     Images  Instances      Box(P          R      mAP50  mAP50-95): 100%|██████████| 23/23 [00:05<00:00,  4.49it/s]\n"
          ]
        },
        {
          "name": "stdout",
          "output_type": "stream",
          "text": [
            "                   all       1460       1829      0.237       0.25      0.171     0.0832\n",
            "\n",
            "      Epoch    GPU_mem   box_loss   cls_loss   dfl_loss  Instances       Size\n"
          ]
        },
        {
          "name": "stderr",
          "output_type": "stream",
          "text": [
            "      3/100      5.12G       1.27      1.799      1.471         34        640: 100%|██████████| 167/167 [00:23<00:00,  7.10it/s]\n",
            "                 Class     Images  Instances      Box(P          R      mAP50  mAP50-95): 100%|██████████| 23/23 [00:04<00:00,  4.87it/s]\n"
          ]
        },
        {
          "name": "stdout",
          "output_type": "stream",
          "text": [
            "                   all       1460       1829      0.121      0.157     0.0668     0.0289\n",
            "\n",
            "      Epoch    GPU_mem   box_loss   cls_loss   dfl_loss  Instances       Size\n"
          ]
        },
        {
          "name": "stderr",
          "output_type": "stream",
          "text": [
            "      4/100      5.11G      1.285       1.73      1.485         15        640: 100%|██████████| 167/167 [00:23<00:00,  7.15it/s]\n",
            "                 Class     Images  Instances      Box(P          R      mAP50  mAP50-95): 100%|██████████| 23/23 [00:04<00:00,  5.04it/s]\n"
          ]
        },
        {
          "name": "stdout",
          "output_type": "stream",
          "text": [
            "                   all       1460       1829      0.334      0.293      0.233       0.12\n",
            "\n",
            "      Epoch    GPU_mem   box_loss   cls_loss   dfl_loss  Instances       Size\n"
          ]
        },
        {
          "name": "stderr",
          "output_type": "stream",
          "text": [
            "      5/100      5.12G      1.182       1.51       1.41         35        640: 100%|██████████| 167/167 [00:24<00:00,  6.95it/s]\n",
            "                 Class     Images  Instances      Box(P          R      mAP50  mAP50-95): 100%|██████████| 23/23 [00:04<00:00,  4.99it/s]\n"
          ]
        },
        {
          "name": "stdout",
          "output_type": "stream",
          "text": [
            "                   all       1460       1829      0.389      0.282       0.25      0.138\n",
            "\n",
            "      Epoch    GPU_mem   box_loss   cls_loss   dfl_loss  Instances       Size\n"
          ]
        },
        {
          "name": "stderr",
          "output_type": "stream",
          "text": [
            "      6/100      5.06G      1.121      1.374      1.359         29        640: 100%|██████████| 167/167 [00:23<00:00,  7.14it/s]\n",
            "                 Class     Images  Instances      Box(P          R      mAP50  mAP50-95): 100%|██████████| 23/23 [00:04<00:00,  4.93it/s]\n"
          ]
        },
        {
          "name": "stdout",
          "output_type": "stream",
          "text": [
            "                   all       1460       1829      0.403      0.393      0.339      0.183\n",
            "\n",
            "      Epoch    GPU_mem   box_loss   cls_loss   dfl_loss  Instances       Size\n"
          ]
        },
        {
          "name": "stderr",
          "output_type": "stream",
          "text": [
            "      7/100       5.1G      1.071      1.282      1.328         20        640: 100%|██████████| 167/167 [00:23<00:00,  7.09it/s]\n",
            "                 Class     Images  Instances      Box(P          R      mAP50  mAP50-95): 100%|██████████| 23/23 [00:04<00:00,  5.11it/s]"
          ]
        },
        {
          "name": "stdout",
          "output_type": "stream",
          "text": [
            "                   all       1460       1829       0.45      0.345      0.323      0.182\n"
          ]
        },
        {
          "name": "stderr",
          "output_type": "stream",
          "text": [
            "\n"
          ]
        },
        {
          "name": "stdout",
          "output_type": "stream",
          "text": [
            "\n",
            "      Epoch    GPU_mem   box_loss   cls_loss   dfl_loss  Instances       Size\n"
          ]
        },
        {
          "name": "stderr",
          "output_type": "stream",
          "text": [
            "      8/100      5.07G      1.035       1.22      1.305         17        640: 100%|██████████| 167/167 [00:23<00:00,  7.03it/s]\n",
            "                 Class     Images  Instances      Box(P          R      mAP50  mAP50-95): 100%|██████████| 23/23 [00:04<00:00,  4.97it/s]\n"
          ]
        },
        {
          "name": "stdout",
          "output_type": "stream",
          "text": [
            "                   all       1460       1829      0.432      0.417      0.376      0.211\n",
            "\n",
            "      Epoch    GPU_mem   box_loss   cls_loss   dfl_loss  Instances       Size\n"
          ]
        },
        {
          "name": "stderr",
          "output_type": "stream",
          "text": [
            "      9/100       5.1G     0.9952      1.161      1.281         31        640: 100%|██████████| 167/167 [00:23<00:00,  7.14it/s]\n",
            "                 Class     Images  Instances      Box(P          R      mAP50  mAP50-95): 100%|██████████| 23/23 [00:04<00:00,  5.02it/s]\n"
          ]
        },
        {
          "name": "stdout",
          "output_type": "stream",
          "text": [
            "                   all       1460       1829      0.516      0.416      0.427      0.233\n",
            "\n",
            "      Epoch    GPU_mem   box_loss   cls_loss   dfl_loss  Instances       Size\n"
          ]
        },
        {
          "name": "stderr",
          "output_type": "stream",
          "text": [
            "     10/100      5.07G     0.9514      1.086      1.245         26        640: 100%|██████████| 167/167 [00:24<00:00,  6.95it/s]\n",
            "                 Class     Images  Instances      Box(P          R      mAP50  mAP50-95): 100%|██████████| 23/23 [00:04<00:00,  5.05it/s]"
          ]
        },
        {
          "name": "stdout",
          "output_type": "stream",
          "text": [
            "                   all       1460       1829      0.502      0.397      0.386      0.209\n"
          ]
        },
        {
          "name": "stderr",
          "output_type": "stream",
          "text": [
            "\n"
          ]
        },
        {
          "name": "stdout",
          "output_type": "stream",
          "text": [
            "\n",
            "      Epoch    GPU_mem   box_loss   cls_loss   dfl_loss  Instances       Size\n"
          ]
        },
        {
          "name": "stderr",
          "output_type": "stream",
          "text": [
            "     11/100       5.1G     0.9298       1.04      1.231         25        640: 100%|██████████| 167/167 [00:23<00:00,  7.11it/s]\n",
            "                 Class     Images  Instances      Box(P          R      mAP50  mAP50-95): 100%|██████████| 23/23 [00:04<00:00,  4.96it/s]\n"
          ]
        },
        {
          "name": "stdout",
          "output_type": "stream",
          "text": [
            "                   all       1460       1829      0.578      0.451      0.467      0.272\n",
            "\n",
            "      Epoch    GPU_mem   box_loss   cls_loss   dfl_loss  Instances       Size\n"
          ]
        },
        {
          "name": "stderr",
          "output_type": "stream",
          "text": [
            "     12/100      5.03G     0.9053     0.9986      1.215         25        640: 100%|██████████| 167/167 [00:23<00:00,  7.18it/s]\n",
            "                 Class     Images  Instances      Box(P          R      mAP50  mAP50-95): 100%|██████████| 23/23 [00:04<00:00,  5.03it/s]"
          ]
        },
        {
          "name": "stdout",
          "output_type": "stream",
          "text": [
            "                   all       1460       1829      0.526      0.419       0.43      0.243\n"
          ]
        },
        {
          "name": "stderr",
          "output_type": "stream",
          "text": [
            "\n"
          ]
        },
        {
          "name": "stdout",
          "output_type": "stream",
          "text": [
            "\n",
            "      Epoch    GPU_mem   box_loss   cls_loss   dfl_loss  Instances       Size\n"
          ]
        },
        {
          "name": "stderr",
          "output_type": "stream",
          "text": [
            "     13/100      5.11G     0.8789     0.9729      1.196         23        640: 100%|██████████| 167/167 [00:23<00:00,  7.09it/s]\n",
            "                 Class     Images  Instances      Box(P          R      mAP50  mAP50-95): 100%|██████████| 23/23 [00:04<00:00,  5.06it/s]"
          ]
        },
        {
          "name": "stdout",
          "output_type": "stream",
          "text": [
            "                   all       1460       1829       0.58      0.475      0.479      0.277\n"
          ]
        },
        {
          "name": "stderr",
          "output_type": "stream",
          "text": [
            "\n"
          ]
        },
        {
          "name": "stdout",
          "output_type": "stream",
          "text": [
            "\n",
            "      Epoch    GPU_mem   box_loss   cls_loss   dfl_loss  Instances       Size\n"
          ]
        },
        {
          "name": "stderr",
          "output_type": "stream",
          "text": [
            "     14/100      5.06G     0.8659     0.9471      1.191         20        640: 100%|██████████| 167/167 [00:23<00:00,  7.16it/s]\n",
            "                 Class     Images  Instances      Box(P          R      mAP50  mAP50-95): 100%|██████████| 23/23 [00:04<00:00,  4.85it/s]\n"
          ]
        },
        {
          "name": "stdout",
          "output_type": "stream",
          "text": [
            "                   all       1460       1829      0.584      0.462      0.489      0.287\n",
            "\n",
            "      Epoch    GPU_mem   box_loss   cls_loss   dfl_loss  Instances       Size\n"
          ]
        },
        {
          "name": "stderr",
          "output_type": "stream",
          "text": [
            "     15/100       5.1G     0.8398     0.9203      1.178         15        640: 100%|██████████| 167/167 [00:23<00:00,  7.17it/s]\n",
            "                 Class     Images  Instances      Box(P          R      mAP50  mAP50-95): 100%|██████████| 23/23 [00:04<00:00,  5.05it/s]\n"
          ]
        },
        {
          "name": "stdout",
          "output_type": "stream",
          "text": [
            "                   all       1460       1829      0.614      0.457       0.51      0.305\n",
            "\n",
            "      Epoch    GPU_mem   box_loss   cls_loss   dfl_loss  Instances       Size\n"
          ]
        },
        {
          "name": "stderr",
          "output_type": "stream",
          "text": [
            "     16/100      5.02G     0.8165     0.8764      1.162         24        640: 100%|██████████| 167/167 [00:23<00:00,  7.08it/s]\n",
            "                 Class     Images  Instances      Box(P          R      mAP50  mAP50-95): 100%|██████████| 23/23 [00:04<00:00,  5.03it/s]"
          ]
        },
        {
          "name": "stdout",
          "output_type": "stream",
          "text": [
            "                   all       1460       1829      0.536      0.448      0.455      0.258\n"
          ]
        },
        {
          "name": "stderr",
          "output_type": "stream",
          "text": [
            "\n"
          ]
        },
        {
          "name": "stdout",
          "output_type": "stream",
          "text": [
            "\n",
            "      Epoch    GPU_mem   box_loss   cls_loss   dfl_loss  Instances       Size\n"
          ]
        },
        {
          "name": "stderr",
          "output_type": "stream",
          "text": [
            "     17/100      5.09G      0.804     0.8627      1.153         23        640: 100%|██████████| 167/167 [00:23<00:00,  7.18it/s]\n",
            "                 Class     Images  Instances      Box(P          R      mAP50  mAP50-95): 100%|██████████| 23/23 [00:04<00:00,  4.90it/s]"
          ]
        },
        {
          "name": "stdout",
          "output_type": "stream",
          "text": [
            "                   all       1460       1829      0.586      0.489      0.511      0.306\n"
          ]
        },
        {
          "name": "stderr",
          "output_type": "stream",
          "text": [
            "\n"
          ]
        },
        {
          "name": "stdout",
          "output_type": "stream",
          "text": [
            "\n",
            "      Epoch    GPU_mem   box_loss   cls_loss   dfl_loss  Instances       Size\n"
          ]
        },
        {
          "name": "stderr",
          "output_type": "stream",
          "text": [
            "     18/100      5.08G     0.7814     0.8232      1.136         31        640: 100%|██████████| 167/167 [00:23<00:00,  7.18it/s]\n",
            "                 Class     Images  Instances      Box(P          R      mAP50  mAP50-95): 100%|██████████| 23/23 [00:04<00:00,  5.06it/s]"
          ]
        },
        {
          "name": "stdout",
          "output_type": "stream",
          "text": [
            "                   all       1460       1829      0.635      0.506      0.544      0.323\n"
          ]
        },
        {
          "name": "stderr",
          "output_type": "stream",
          "text": [
            "\n"
          ]
        },
        {
          "name": "stdout",
          "output_type": "stream",
          "text": [
            "\n",
            "      Epoch    GPU_mem   box_loss   cls_loss   dfl_loss  Instances       Size\n"
          ]
        },
        {
          "name": "stderr",
          "output_type": "stream",
          "text": [
            "     19/100      5.09G     0.7666     0.8192      1.129         37        640: 100%|██████████| 167/167 [00:23<00:00,  6.99it/s]\n",
            "                 Class     Images  Instances      Box(P          R      mAP50  mAP50-95): 100%|██████████| 23/23 [00:04<00:00,  4.83it/s]"
          ]
        },
        {
          "name": "stdout",
          "output_type": "stream",
          "text": [
            "                   all       1460       1829      0.666      0.479      0.545      0.328\n"
          ]
        },
        {
          "name": "stderr",
          "output_type": "stream",
          "text": [
            "\n"
          ]
        },
        {
          "name": "stdout",
          "output_type": "stream",
          "text": [
            "\n",
            "      Epoch    GPU_mem   box_loss   cls_loss   dfl_loss  Instances       Size\n"
          ]
        },
        {
          "name": "stderr",
          "output_type": "stream",
          "text": [
            "     20/100      5.07G     0.7543     0.8052      1.124         29        640: 100%|██████████| 167/167 [00:23<00:00,  7.15it/s]\n",
            "                 Class     Images  Instances      Box(P          R      mAP50  mAP50-95): 100%|██████████| 23/23 [00:04<00:00,  4.91it/s]\n"
          ]
        },
        {
          "name": "stdout",
          "output_type": "stream",
          "text": [
            "                   all       1460       1829      0.624      0.521      0.559      0.336\n",
            "\n",
            "      Epoch    GPU_mem   box_loss   cls_loss   dfl_loss  Instances       Size\n"
          ]
        },
        {
          "name": "stderr",
          "output_type": "stream",
          "text": [
            "     21/100       5.1G      0.738     0.7878      1.112         23        640: 100%|██████████| 167/167 [00:23<00:00,  7.16it/s]\n",
            "                 Class     Images  Instances      Box(P          R      mAP50  mAP50-95): 100%|██████████| 23/23 [00:04<00:00,  5.05it/s]"
          ]
        },
        {
          "name": "stdout",
          "output_type": "stream",
          "text": [
            "                   all       1460       1829      0.643      0.508      0.556      0.333\n"
          ]
        },
        {
          "name": "stderr",
          "output_type": "stream",
          "text": [
            "\n"
          ]
        },
        {
          "name": "stdout",
          "output_type": "stream",
          "text": [
            "\n",
            "      Epoch    GPU_mem   box_loss   cls_loss   dfl_loss  Instances       Size\n"
          ]
        },
        {
          "name": "stderr",
          "output_type": "stream",
          "text": [
            "     22/100      5.04G     0.7314     0.7664      1.107         29        640: 100%|██████████| 167/167 [00:23<00:00,  7.08it/s]\n",
            "                 Class     Images  Instances      Box(P          R      mAP50  mAP50-95): 100%|██████████| 23/23 [00:04<00:00,  4.96it/s]"
          ]
        },
        {
          "name": "stdout",
          "output_type": "stream",
          "text": [
            "                   all       1460       1829      0.654      0.548      0.582      0.358\n"
          ]
        },
        {
          "name": "stderr",
          "output_type": "stream",
          "text": [
            "\n"
          ]
        },
        {
          "name": "stdout",
          "output_type": "stream",
          "text": [
            "\n",
            "      Epoch    GPU_mem   box_loss   cls_loss   dfl_loss  Instances       Size\n"
          ]
        },
        {
          "name": "stderr",
          "output_type": "stream",
          "text": [
            "     23/100      5.12G     0.7228     0.7587      1.104         22        640: 100%|██████████| 167/167 [00:23<00:00,  7.19it/s]\n",
            "                 Class     Images  Instances      Box(P          R      mAP50  mAP50-95): 100%|██████████| 23/23 [00:04<00:00,  5.10it/s]"
          ]
        },
        {
          "name": "stdout",
          "output_type": "stream",
          "text": [
            "                   all       1460       1829      0.667      0.539      0.591      0.355\n"
          ]
        },
        {
          "name": "stderr",
          "output_type": "stream",
          "text": [
            "\n"
          ]
        },
        {
          "name": "stdout",
          "output_type": "stream",
          "text": [
            "\n",
            "      Epoch    GPU_mem   box_loss   cls_loss   dfl_loss  Instances       Size\n"
          ]
        },
        {
          "name": "stderr",
          "output_type": "stream",
          "text": [
            "     24/100      5.09G     0.7117     0.7452      1.099         35        640: 100%|██████████| 167/167 [00:23<00:00,  7.05it/s]\n",
            "                 Class     Images  Instances      Box(P          R      mAP50  mAP50-95): 100%|██████████| 23/23 [00:04<00:00,  5.09it/s]"
          ]
        },
        {
          "name": "stdout",
          "output_type": "stream",
          "text": [
            "                   all       1460       1829      0.678      0.543      0.591      0.359\n"
          ]
        },
        {
          "name": "stderr",
          "output_type": "stream",
          "text": [
            "\n"
          ]
        },
        {
          "name": "stdout",
          "output_type": "stream",
          "text": [
            "\n",
            "      Epoch    GPU_mem   box_loss   cls_loss   dfl_loss  Instances       Size\n"
          ]
        },
        {
          "name": "stderr",
          "output_type": "stream",
          "text": [
            "     25/100      5.05G     0.6925     0.7154      1.083         18        640: 100%|██████████| 167/167 [00:23<00:00,  7.22it/s]\n",
            "                 Class     Images  Instances      Box(P          R      mAP50  mAP50-95): 100%|██████████| 23/23 [00:04<00:00,  4.94it/s]\n"
          ]
        },
        {
          "name": "stdout",
          "output_type": "stream",
          "text": [
            "                   all       1460       1829      0.693      0.534      0.592      0.362\n",
            "\n",
            "      Epoch    GPU_mem   box_loss   cls_loss   dfl_loss  Instances       Size\n"
          ]
        },
        {
          "name": "stderr",
          "output_type": "stream",
          "text": [
            "     26/100      5.04G     0.6935     0.7209      1.085         24        640: 100%|██████████| 167/167 [00:23<00:00,  7.13it/s]\n",
            "                 Class     Images  Instances      Box(P          R      mAP50  mAP50-95): 100%|██████████| 23/23 [00:04<00:00,  5.09it/s]"
          ]
        },
        {
          "name": "stdout",
          "output_type": "stream",
          "text": [
            "                   all       1460       1829        0.7       0.54      0.603      0.379\n"
          ]
        },
        {
          "name": "stderr",
          "output_type": "stream",
          "text": [
            "\n"
          ]
        },
        {
          "name": "stdout",
          "output_type": "stream",
          "text": [
            "\n",
            "      Epoch    GPU_mem   box_loss   cls_loss   dfl_loss  Instances       Size\n"
          ]
        },
        {
          "name": "stderr",
          "output_type": "stream",
          "text": [
            "     27/100      5.12G      0.678     0.7003      1.076         26        640: 100%|██████████| 167/167 [00:23<00:00,  7.00it/s]\n",
            "                 Class     Images  Instances      Box(P          R      mAP50  mAP50-95): 100%|██████████| 23/23 [00:04<00:00,  4.96it/s]"
          ]
        },
        {
          "name": "stdout",
          "output_type": "stream",
          "text": [
            "                   all       1460       1829        0.7      0.534      0.593      0.362\n"
          ]
        },
        {
          "name": "stderr",
          "output_type": "stream",
          "text": [
            "\n"
          ]
        },
        {
          "name": "stdout",
          "output_type": "stream",
          "text": [
            "\n",
            "      Epoch    GPU_mem   box_loss   cls_loss   dfl_loss  Instances       Size\n"
          ]
        },
        {
          "name": "stderr",
          "output_type": "stream",
          "text": [
            "     28/100      5.07G     0.6649     0.6812      1.068         35        640: 100%|██████████| 167/167 [00:23<00:00,  7.15it/s]\n",
            "                 Class     Images  Instances      Box(P          R      mAP50  mAP50-95): 100%|██████████| 23/23 [00:04<00:00,  4.98it/s]"
          ]
        },
        {
          "name": "stdout",
          "output_type": "stream",
          "text": [
            "                   all       1460       1829      0.674      0.523       0.57       0.35\n"
          ]
        },
        {
          "name": "stderr",
          "output_type": "stream",
          "text": [
            "\n"
          ]
        },
        {
          "name": "stdout",
          "output_type": "stream",
          "text": [
            "\n",
            "      Epoch    GPU_mem   box_loss   cls_loss   dfl_loss  Instances       Size\n"
          ]
        },
        {
          "name": "stderr",
          "output_type": "stream",
          "text": [
            "     29/100       5.1G      0.665     0.6741       1.07         19        640: 100%|██████████| 167/167 [00:23<00:00,  6.96it/s]\n",
            "                 Class     Images  Instances      Box(P          R      mAP50  mAP50-95): 100%|██████████| 23/23 [00:04<00:00,  5.09it/s]"
          ]
        },
        {
          "name": "stdout",
          "output_type": "stream",
          "text": [
            "                   all       1460       1829      0.675      0.564      0.627      0.388\n"
          ]
        },
        {
          "name": "stderr",
          "output_type": "stream",
          "text": [
            "\n"
          ]
        },
        {
          "name": "stdout",
          "output_type": "stream",
          "text": [
            "\n",
            "      Epoch    GPU_mem   box_loss   cls_loss   dfl_loss  Instances       Size\n"
          ]
        },
        {
          "name": "stderr",
          "output_type": "stream",
          "text": [
            "     30/100      5.07G     0.6524      0.667      1.061         26        640: 100%|██████████| 167/167 [00:23<00:00,  7.07it/s]\n",
            "                 Class     Images  Instances      Box(P          R      mAP50  mAP50-95): 100%|██████████| 23/23 [00:04<00:00,  5.02it/s]"
          ]
        },
        {
          "name": "stdout",
          "output_type": "stream",
          "text": [
            "                   all       1460       1829      0.674      0.549      0.611      0.378\n"
          ]
        },
        {
          "name": "stderr",
          "output_type": "stream",
          "text": [
            "\n"
          ]
        },
        {
          "name": "stdout",
          "output_type": "stream",
          "text": [
            "\n",
            "      Epoch    GPU_mem   box_loss   cls_loss   dfl_loss  Instances       Size\n"
          ]
        },
        {
          "name": "stderr",
          "output_type": "stream",
          "text": [
            "     31/100      5.09G     0.6457     0.6571      1.057         29        640: 100%|██████████| 167/167 [00:23<00:00,  7.19it/s]\n",
            "                 Class     Images  Instances      Box(P          R      mAP50  mAP50-95): 100%|██████████| 23/23 [00:04<00:00,  5.05it/s]"
          ]
        },
        {
          "name": "stdout",
          "output_type": "stream",
          "text": [
            "                   all       1460       1829      0.699      0.568      0.621      0.375\n"
          ]
        },
        {
          "name": "stderr",
          "output_type": "stream",
          "text": [
            "\n"
          ]
        },
        {
          "name": "stdout",
          "output_type": "stream",
          "text": [
            "\n",
            "      Epoch    GPU_mem   box_loss   cls_loss   dfl_loss  Instances       Size\n"
          ]
        },
        {
          "name": "stderr",
          "output_type": "stream",
          "text": [
            "     32/100       5.1G     0.6396     0.6539      1.054         32        640: 100%|██████████| 167/167 [00:23<00:00,  7.22it/s]\n",
            "                 Class     Images  Instances      Box(P          R      mAP50  mAP50-95): 100%|██████████| 23/23 [00:04<00:00,  4.87it/s]\n"
          ]
        },
        {
          "name": "stdout",
          "output_type": "stream",
          "text": [
            "                   all       1460       1829      0.681      0.539      0.595      0.371\n",
            "\n",
            "      Epoch    GPU_mem   box_loss   cls_loss   dfl_loss  Instances       Size\n"
          ]
        },
        {
          "name": "stderr",
          "output_type": "stream",
          "text": [
            "     33/100      5.13G     0.6335     0.6385       1.05         29        640: 100%|██████████| 167/167 [00:23<00:00,  7.09it/s]\n",
            "                 Class     Images  Instances      Box(P          R      mAP50  mAP50-95): 100%|██████████| 23/23 [00:04<00:00,  5.11it/s]"
          ]
        },
        {
          "name": "stdout",
          "output_type": "stream",
          "text": [
            "                   all       1460       1829      0.718      0.583      0.639      0.401\n"
          ]
        },
        {
          "name": "stderr",
          "output_type": "stream",
          "text": [
            "\n"
          ]
        },
        {
          "name": "stdout",
          "output_type": "stream",
          "text": [
            "\n",
            "      Epoch    GPU_mem   box_loss   cls_loss   dfl_loss  Instances       Size\n"
          ]
        },
        {
          "name": "stderr",
          "output_type": "stream",
          "text": [
            "     34/100       5.1G     0.6232     0.6383      1.047         21        640: 100%|██████████| 167/167 [00:23<00:00,  7.20it/s]\n",
            "                 Class     Images  Instances      Box(P          R      mAP50  mAP50-95): 100%|██████████| 23/23 [00:04<00:00,  5.03it/s]"
          ]
        },
        {
          "name": "stdout",
          "output_type": "stream",
          "text": [
            "                   all       1460       1829        0.7      0.564      0.626      0.391\n"
          ]
        },
        {
          "name": "stderr",
          "output_type": "stream",
          "text": [
            "\n"
          ]
        },
        {
          "name": "stdout",
          "output_type": "stream",
          "text": [
            "\n",
            "      Epoch    GPU_mem   box_loss   cls_loss   dfl_loss  Instances       Size\n"
          ]
        },
        {
          "name": "stderr",
          "output_type": "stream",
          "text": [
            "     35/100      5.06G     0.6174     0.6256      1.043         22        640: 100%|██████████| 167/167 [00:23<00:00,  7.05it/s]\n",
            "                 Class     Images  Instances      Box(P          R      mAP50  mAP50-95): 100%|██████████| 23/23 [00:04<00:00,  5.06it/s]"
          ]
        },
        {
          "name": "stdout",
          "output_type": "stream",
          "text": [
            "                   all       1460       1829      0.727      0.545      0.631      0.394\n"
          ]
        },
        {
          "name": "stderr",
          "output_type": "stream",
          "text": [
            "\n"
          ]
        },
        {
          "name": "stdout",
          "output_type": "stream",
          "text": [
            "\n",
            "      Epoch    GPU_mem   box_loss   cls_loss   dfl_loss  Instances       Size\n"
          ]
        },
        {
          "name": "stderr",
          "output_type": "stream",
          "text": [
            "     36/100      5.04G     0.6087     0.6163      1.038         19        640: 100%|██████████| 167/167 [00:23<00:00,  7.18it/s]\n",
            "                 Class     Images  Instances      Box(P          R      mAP50  mAP50-95): 100%|██████████| 23/23 [00:04<00:00,  5.01it/s]"
          ]
        },
        {
          "name": "stdout",
          "output_type": "stream",
          "text": [
            "                   all       1460       1829      0.698      0.583      0.639      0.398\n"
          ]
        },
        {
          "name": "stderr",
          "output_type": "stream",
          "text": [
            "\n"
          ]
        },
        {
          "name": "stdout",
          "output_type": "stream",
          "text": [
            "\n",
            "      Epoch    GPU_mem   box_loss   cls_loss   dfl_loss  Instances       Size\n"
          ]
        },
        {
          "name": "stderr",
          "output_type": "stream",
          "text": [
            "     37/100      5.09G      0.608     0.6123      1.042         33        640: 100%|██████████| 167/167 [00:23<00:00,  7.13it/s]\n",
            "                 Class     Images  Instances      Box(P          R      mAP50  mAP50-95): 100%|██████████| 23/23 [00:04<00:00,  5.09it/s]"
          ]
        },
        {
          "name": "stdout",
          "output_type": "stream",
          "text": [
            "                   all       1460       1829      0.763      0.584      0.662      0.411\n"
          ]
        },
        {
          "name": "stderr",
          "output_type": "stream",
          "text": [
            "\n"
          ]
        },
        {
          "name": "stdout",
          "output_type": "stream",
          "text": [
            "\n",
            "      Epoch    GPU_mem   box_loss   cls_loss   dfl_loss  Instances       Size\n"
          ]
        },
        {
          "name": "stderr",
          "output_type": "stream",
          "text": [
            "     38/100      5.07G     0.5944     0.5937      1.028         17        640: 100%|██████████| 167/167 [00:23<00:00,  7.05it/s]\n",
            "                 Class     Images  Instances      Box(P          R      mAP50  mAP50-95): 100%|██████████| 23/23 [00:04<00:00,  4.96it/s]"
          ]
        },
        {
          "name": "stdout",
          "output_type": "stream",
          "text": [
            "                   all       1460       1829       0.72      0.609       0.66      0.411\n"
          ]
        },
        {
          "name": "stderr",
          "output_type": "stream",
          "text": [
            "\n"
          ]
        },
        {
          "name": "stdout",
          "output_type": "stream",
          "text": [
            "\n",
            "      Epoch    GPU_mem   box_loss   cls_loss   dfl_loss  Instances       Size\n"
          ]
        },
        {
          "name": "stderr",
          "output_type": "stream",
          "text": [
            "     39/100      5.03G     0.5959     0.5973      1.032         19        640: 100%|██████████| 167/167 [00:23<00:00,  7.10it/s]\n",
            "                 Class     Images  Instances      Box(P          R      mAP50  mAP50-95): 100%|██████████| 23/23 [00:04<00:00,  5.19it/s]"
          ]
        },
        {
          "name": "stdout",
          "output_type": "stream",
          "text": [
            "                   all       1460       1829       0.74      0.586      0.648      0.411\n"
          ]
        },
        {
          "name": "stderr",
          "output_type": "stream",
          "text": [
            "\n"
          ]
        },
        {
          "name": "stdout",
          "output_type": "stream",
          "text": [
            "\n",
            "      Epoch    GPU_mem   box_loss   cls_loss   dfl_loss  Instances       Size\n"
          ]
        },
        {
          "name": "stderr",
          "output_type": "stream",
          "text": [
            "     40/100      5.03G     0.5839     0.5895      1.027         24        640: 100%|██████████| 167/167 [00:23<00:00,  7.21it/s]\n",
            "                 Class     Images  Instances      Box(P          R      mAP50  mAP50-95): 100%|██████████| 23/23 [00:04<00:00,  5.09it/s]"
          ]
        },
        {
          "name": "stdout",
          "output_type": "stream",
          "text": [
            "                   all       1460       1829      0.741      0.611      0.668      0.422\n"
          ]
        },
        {
          "name": "stderr",
          "output_type": "stream",
          "text": [
            "\n"
          ]
        },
        {
          "name": "stdout",
          "output_type": "stream",
          "text": [
            "\n",
            "      Epoch    GPU_mem   box_loss   cls_loss   dfl_loss  Instances       Size\n"
          ]
        },
        {
          "name": "stderr",
          "output_type": "stream",
          "text": [
            "     41/100      5.06G     0.5775     0.5775      1.024         26        640: 100%|██████████| 167/167 [00:23<00:00,  7.06it/s]\n",
            "                 Class     Images  Instances      Box(P          R      mAP50  mAP50-95): 100%|██████████| 23/23 [00:04<00:00,  5.15it/s]"
          ]
        },
        {
          "name": "stdout",
          "output_type": "stream",
          "text": [
            "                   all       1460       1829      0.739      0.604      0.671      0.426\n"
          ]
        },
        {
          "name": "stderr",
          "output_type": "stream",
          "text": [
            "\n"
          ]
        },
        {
          "name": "stdout",
          "output_type": "stream",
          "text": [
            "\n",
            "      Epoch    GPU_mem   box_loss   cls_loss   dfl_loss  Instances       Size\n"
          ]
        },
        {
          "name": "stderr",
          "output_type": "stream",
          "text": [
            "     42/100      5.06G     0.5651     0.5677      1.013         14        640: 100%|██████████| 167/167 [00:23<00:00,  7.13it/s]\n",
            "                 Class     Images  Instances      Box(P          R      mAP50  mAP50-95): 100%|██████████| 23/23 [00:04<00:00,  5.03it/s]"
          ]
        },
        {
          "name": "stdout",
          "output_type": "stream",
          "text": [
            "                   all       1460       1829      0.723      0.587      0.659      0.413\n"
          ]
        },
        {
          "name": "stderr",
          "output_type": "stream",
          "text": [
            "\n"
          ]
        },
        {
          "name": "stdout",
          "output_type": "stream",
          "text": [
            "\n",
            "      Epoch    GPU_mem   box_loss   cls_loss   dfl_loss  Instances       Size\n"
          ]
        },
        {
          "name": "stderr",
          "output_type": "stream",
          "text": [
            "     43/100      5.06G     0.5701     0.5678      1.015         36        640: 100%|██████████| 167/167 [00:23<00:00,  7.08it/s]\n",
            "                 Class     Images  Instances      Box(P          R      mAP50  mAP50-95): 100%|██████████| 23/23 [00:04<00:00,  5.08it/s]"
          ]
        },
        {
          "name": "stdout",
          "output_type": "stream",
          "text": [
            "                   all       1460       1829      0.722      0.614      0.673      0.421\n"
          ]
        },
        {
          "name": "stderr",
          "output_type": "stream",
          "text": [
            "\n"
          ]
        },
        {
          "name": "stdout",
          "output_type": "stream",
          "text": [
            "\n",
            "      Epoch    GPU_mem   box_loss   cls_loss   dfl_loss  Instances       Size\n"
          ]
        },
        {
          "name": "stderr",
          "output_type": "stream",
          "text": [
            "     44/100      5.06G     0.5683     0.5718      1.017         30        640: 100%|██████████| 167/167 [00:23<00:00,  7.16it/s]\n",
            "                 Class     Images  Instances      Box(P          R      mAP50  mAP50-95): 100%|██████████| 23/23 [00:04<00:00,  5.13it/s]"
          ]
        },
        {
          "name": "stdout",
          "output_type": "stream",
          "text": [
            "                   all       1460       1829      0.731      0.611      0.675      0.431\n"
          ]
        },
        {
          "name": "stderr",
          "output_type": "stream",
          "text": [
            "\n"
          ]
        },
        {
          "name": "stdout",
          "output_type": "stream",
          "text": [
            "\n",
            "      Epoch    GPU_mem   box_loss   cls_loss   dfl_loss  Instances       Size\n"
          ]
        },
        {
          "name": "stderr",
          "output_type": "stream",
          "text": [
            "     45/100      5.06G     0.5621     0.5608      1.013         32        640: 100%|██████████| 167/167 [00:23<00:00,  7.12it/s]\n",
            "                 Class     Images  Instances      Box(P          R      mAP50  mAP50-95): 100%|██████████| 23/23 [00:04<00:00,  5.00it/s]"
          ]
        },
        {
          "name": "stdout",
          "output_type": "stream",
          "text": [
            "                   all       1460       1829      0.739      0.607      0.677      0.433\n"
          ]
        },
        {
          "name": "stderr",
          "output_type": "stream",
          "text": [
            "\n"
          ]
        },
        {
          "name": "stdout",
          "output_type": "stream",
          "text": [
            "\n",
            "      Epoch    GPU_mem   box_loss   cls_loss   dfl_loss  Instances       Size\n"
          ]
        },
        {
          "name": "stderr",
          "output_type": "stream",
          "text": [
            "     46/100      5.07G     0.5463     0.5439      1.005         39        640: 100%|██████████| 167/167 [00:23<00:00,  7.20it/s]\n",
            "                 Class     Images  Instances      Box(P          R      mAP50  mAP50-95): 100%|██████████| 23/23 [00:04<00:00,  5.11it/s]"
          ]
        },
        {
          "name": "stdout",
          "output_type": "stream",
          "text": [
            "                   all       1460       1829      0.762      0.591      0.673      0.424\n"
          ]
        },
        {
          "name": "stderr",
          "output_type": "stream",
          "text": [
            "\n"
          ]
        },
        {
          "name": "stdout",
          "output_type": "stream",
          "text": [
            "\n",
            "      Epoch    GPU_mem   box_loss   cls_loss   dfl_loss  Instances       Size\n"
          ]
        },
        {
          "name": "stderr",
          "output_type": "stream",
          "text": [
            "     47/100      5.06G     0.5499     0.5473      1.005         32        640: 100%|██████████| 167/167 [00:23<00:00,  7.11it/s]\n",
            "                 Class     Images  Instances      Box(P          R      mAP50  mAP50-95): 100%|██████████| 23/23 [00:04<00:00,  4.91it/s]"
          ]
        },
        {
          "name": "stdout",
          "output_type": "stream",
          "text": [
            "                   all       1460       1829      0.732      0.617      0.673      0.423\n"
          ]
        },
        {
          "name": "stderr",
          "output_type": "stream",
          "text": [
            "\n"
          ]
        },
        {
          "name": "stdout",
          "output_type": "stream",
          "text": [
            "\n",
            "      Epoch    GPU_mem   box_loss   cls_loss   dfl_loss  Instances       Size\n"
          ]
        },
        {
          "name": "stderr",
          "output_type": "stream",
          "text": [
            "     48/100      5.06G     0.5392     0.5312     0.9984         30        640: 100%|██████████| 167/167 [00:23<00:00,  6.97it/s]\n",
            "                 Class     Images  Instances      Box(P          R      mAP50  mAP50-95): 100%|██████████| 23/23 [00:04<00:00,  5.03it/s]"
          ]
        },
        {
          "name": "stdout",
          "output_type": "stream",
          "text": [
            "                   all       1460       1829      0.736      0.639      0.692      0.446\n"
          ]
        },
        {
          "name": "stderr",
          "output_type": "stream",
          "text": [
            "\n"
          ]
        },
        {
          "name": "stdout",
          "output_type": "stream",
          "text": [
            "\n",
            "      Epoch    GPU_mem   box_loss   cls_loss   dfl_loss  Instances       Size\n"
          ]
        },
        {
          "name": "stderr",
          "output_type": "stream",
          "text": [
            "     49/100      5.07G      0.532     0.5225     0.9933         26        640: 100%|██████████| 167/167 [00:23<00:00,  7.16it/s]\n",
            "                 Class     Images  Instances      Box(P          R      mAP50  mAP50-95): 100%|██████████| 23/23 [00:04<00:00,  5.18it/s]"
          ]
        },
        {
          "name": "stdout",
          "output_type": "stream",
          "text": [
            "                   all       1460       1829      0.735        0.6      0.678       0.44\n"
          ]
        },
        {
          "name": "stderr",
          "output_type": "stream",
          "text": [
            "\n"
          ]
        },
        {
          "name": "stdout",
          "output_type": "stream",
          "text": [
            "\n",
            "      Epoch    GPU_mem   box_loss   cls_loss   dfl_loss  Instances       Size\n"
          ]
        },
        {
          "name": "stderr",
          "output_type": "stream",
          "text": [
            "     50/100      5.06G     0.5295     0.5205     0.9945         27        640: 100%|██████████| 167/167 [00:23<00:00,  7.07it/s]\n",
            "                 Class     Images  Instances      Box(P          R      mAP50  mAP50-95): 100%|██████████| 23/23 [00:04<00:00,  5.12it/s]"
          ]
        },
        {
          "name": "stdout",
          "output_type": "stream",
          "text": [
            "                   all       1460       1829      0.761      0.628      0.699      0.445\n"
          ]
        },
        {
          "name": "stderr",
          "output_type": "stream",
          "text": [
            "\n"
          ]
        },
        {
          "name": "stdout",
          "output_type": "stream",
          "text": [
            "\n",
            "      Epoch    GPU_mem   box_loss   cls_loss   dfl_loss  Instances       Size\n"
          ]
        },
        {
          "name": "stderr",
          "output_type": "stream",
          "text": [
            "     51/100      5.03G     0.5329     0.5191     0.9954         21        640: 100%|██████████| 167/167 [00:23<00:00,  7.11it/s]\n",
            "                 Class     Images  Instances      Box(P          R      mAP50  mAP50-95): 100%|██████████| 23/23 [00:04<00:00,  5.04it/s]"
          ]
        },
        {
          "name": "stdout",
          "output_type": "stream",
          "text": [
            "                   all       1460       1829      0.751      0.627      0.696       0.45\n"
          ]
        },
        {
          "name": "stderr",
          "output_type": "stream",
          "text": [
            "\n"
          ]
        },
        {
          "name": "stdout",
          "output_type": "stream",
          "text": [
            "\n",
            "      Epoch    GPU_mem   box_loss   cls_loss   dfl_loss  Instances       Size\n"
          ]
        },
        {
          "name": "stderr",
          "output_type": "stream",
          "text": [
            "     52/100      5.09G     0.5213     0.5142     0.9882         31        640: 100%|██████████| 167/167 [00:23<00:00,  7.23it/s]\n",
            "                 Class     Images  Instances      Box(P          R      mAP50  mAP50-95): 100%|██████████| 23/23 [00:04<00:00,  5.11it/s]"
          ]
        },
        {
          "name": "stdout",
          "output_type": "stream",
          "text": [
            "                   all       1460       1829      0.745       0.62      0.689      0.446\n"
          ]
        },
        {
          "name": "stderr",
          "output_type": "stream",
          "text": [
            "\n"
          ]
        },
        {
          "name": "stdout",
          "output_type": "stream",
          "text": [
            "\n",
            "      Epoch    GPU_mem   box_loss   cls_loss   dfl_loss  Instances       Size\n"
          ]
        },
        {
          "name": "stderr",
          "output_type": "stream",
          "text": [
            "     53/100      5.09G     0.5148     0.5022      0.985         26        640: 100%|██████████| 167/167 [00:23<00:00,  7.05it/s]\n",
            "                 Class     Images  Instances      Box(P          R      mAP50  mAP50-95): 100%|██████████| 23/23 [00:04<00:00,  5.12it/s]"
          ]
        },
        {
          "name": "stdout",
          "output_type": "stream",
          "text": [
            "                   all       1460       1829       0.76      0.617      0.697      0.448\n"
          ]
        },
        {
          "name": "stderr",
          "output_type": "stream",
          "text": [
            "\n"
          ]
        },
        {
          "name": "stdout",
          "output_type": "stream",
          "text": [
            "\n",
            "      Epoch    GPU_mem   box_loss   cls_loss   dfl_loss  Instances       Size\n"
          ]
        },
        {
          "name": "stderr",
          "output_type": "stream",
          "text": [
            "     54/100      5.07G     0.5133     0.5067     0.9846         29        640: 100%|██████████| 167/167 [00:23<00:00,  7.17it/s]\n",
            "                 Class     Images  Instances      Box(P          R      mAP50  mAP50-95): 100%|██████████| 23/23 [00:04<00:00,  5.04it/s]"
          ]
        },
        {
          "name": "stdout",
          "output_type": "stream",
          "text": [
            "                   all       1460       1829      0.753      0.631      0.697      0.456\n"
          ]
        },
        {
          "name": "stderr",
          "output_type": "stream",
          "text": [
            "\n"
          ]
        },
        {
          "name": "stdout",
          "output_type": "stream",
          "text": [
            "\n",
            "      Epoch    GPU_mem   box_loss   cls_loss   dfl_loss  Instances       Size\n"
          ]
        },
        {
          "name": "stderr",
          "output_type": "stream",
          "text": [
            "     55/100      5.05G     0.5119     0.5052     0.9844         31        640: 100%|██████████| 167/167 [00:23<00:00,  7.16it/s]\n",
            "                 Class     Images  Instances      Box(P          R      mAP50  mAP50-95): 100%|██████████| 23/23 [00:04<00:00,  5.10it/s]"
          ]
        },
        {
          "name": "stdout",
          "output_type": "stream",
          "text": [
            "                   all       1460       1829       0.79      0.609      0.692      0.448\n"
          ]
        },
        {
          "name": "stderr",
          "output_type": "stream",
          "text": [
            "\n"
          ]
        },
        {
          "name": "stdout",
          "output_type": "stream",
          "text": [
            "\n",
            "      Epoch    GPU_mem   box_loss   cls_loss   dfl_loss  Instances       Size\n"
          ]
        },
        {
          "name": "stderr",
          "output_type": "stream",
          "text": [
            "     56/100      5.08G     0.5035     0.4986     0.9856         26        640: 100%|██████████| 167/167 [00:23<00:00,  7.05it/s]\n",
            "                 Class     Images  Instances      Box(P          R      mAP50  mAP50-95): 100%|██████████| 23/23 [00:04<00:00,  5.09it/s]"
          ]
        },
        {
          "name": "stdout",
          "output_type": "stream",
          "text": [
            "                   all       1460       1829      0.778      0.626       0.71       0.46\n"
          ]
        },
        {
          "name": "stderr",
          "output_type": "stream",
          "text": [
            "\n"
          ]
        },
        {
          "name": "stdout",
          "output_type": "stream",
          "text": [
            "\n",
            "      Epoch    GPU_mem   box_loss   cls_loss   dfl_loss  Instances       Size\n"
          ]
        },
        {
          "name": "stderr",
          "output_type": "stream",
          "text": [
            "     57/100      5.11G     0.5005     0.4912     0.9772         23        640: 100%|██████████| 167/167 [00:23<00:00,  7.08it/s]\n",
            "                 Class     Images  Instances      Box(P          R      mAP50  mAP50-95): 100%|██████████| 23/23 [00:04<00:00,  4.90it/s]"
          ]
        },
        {
          "name": "stdout",
          "output_type": "stream",
          "text": [
            "                   all       1460       1829      0.795      0.616      0.716      0.466\n"
          ]
        },
        {
          "name": "stderr",
          "output_type": "stream",
          "text": [
            "\n"
          ]
        },
        {
          "name": "stdout",
          "output_type": "stream",
          "text": [
            "\n",
            "      Epoch    GPU_mem   box_loss   cls_loss   dfl_loss  Instances       Size\n"
          ]
        },
        {
          "name": "stderr",
          "output_type": "stream",
          "text": [
            "     58/100      5.07G     0.4977     0.4855     0.9811         18        640: 100%|██████████| 167/167 [00:23<00:00,  7.14it/s]\n",
            "                 Class     Images  Instances      Box(P          R      mAP50  mAP50-95): 100%|██████████| 23/23 [00:04<00:00,  5.13it/s]"
          ]
        },
        {
          "name": "stdout",
          "output_type": "stream",
          "text": [
            "                   all       1460       1829       0.78      0.635      0.724      0.472\n"
          ]
        },
        {
          "name": "stderr",
          "output_type": "stream",
          "text": [
            "\n"
          ]
        },
        {
          "name": "stdout",
          "output_type": "stream",
          "text": [
            "\n",
            "      Epoch    GPU_mem   box_loss   cls_loss   dfl_loss  Instances       Size\n"
          ]
        },
        {
          "name": "stderr",
          "output_type": "stream",
          "text": [
            "     59/100      5.07G     0.4971     0.4877     0.9823         19        640: 100%|██████████| 167/167 [00:23<00:00,  7.08it/s]\n",
            "                 Class     Images  Instances      Box(P          R      mAP50  mAP50-95): 100%|██████████| 23/23 [00:04<00:00,  5.09it/s]"
          ]
        },
        {
          "name": "stdout",
          "output_type": "stream",
          "text": [
            "                   all       1460       1829      0.752      0.647      0.718      0.464\n"
          ]
        },
        {
          "name": "stderr",
          "output_type": "stream",
          "text": [
            "\n"
          ]
        },
        {
          "name": "stdout",
          "output_type": "stream",
          "text": [
            "\n",
            "      Epoch    GPU_mem   box_loss   cls_loss   dfl_loss  Instances       Size\n"
          ]
        },
        {
          "name": "stderr",
          "output_type": "stream",
          "text": [
            "     60/100      5.04G     0.4912     0.4748     0.9761         19        640: 100%|██████████| 167/167 [00:23<00:00,  7.15it/s]\n",
            "                 Class     Images  Instances      Box(P          R      mAP50  mAP50-95): 100%|██████████| 23/23 [00:04<00:00,  5.23it/s]"
          ]
        },
        {
          "name": "stdout",
          "output_type": "stream",
          "text": [
            "                   all       1460       1829      0.768       0.64      0.709      0.463\n"
          ]
        },
        {
          "name": "stderr",
          "output_type": "stream",
          "text": [
            "\n"
          ]
        },
        {
          "name": "stdout",
          "output_type": "stream",
          "text": [
            "\n",
            "      Epoch    GPU_mem   box_loss   cls_loss   dfl_loss  Instances       Size\n"
          ]
        },
        {
          "name": "stderr",
          "output_type": "stream",
          "text": [
            "     61/100      5.07G     0.4876     0.4731     0.9748         17        640: 100%|██████████| 167/167 [00:23<00:00,  7.14it/s]\n",
            "                 Class     Images  Instances      Box(P          R      mAP50  mAP50-95): 100%|██████████| 23/23 [00:04<00:00,  5.12it/s]"
          ]
        },
        {
          "name": "stdout",
          "output_type": "stream",
          "text": [
            "                   all       1460       1829      0.758      0.649      0.716      0.468\n"
          ]
        },
        {
          "name": "stderr",
          "output_type": "stream",
          "text": [
            "\n"
          ]
        },
        {
          "name": "stdout",
          "output_type": "stream",
          "text": [
            "\n",
            "      Epoch    GPU_mem   box_loss   cls_loss   dfl_loss  Instances       Size\n"
          ]
        },
        {
          "name": "stderr",
          "output_type": "stream",
          "text": [
            "     62/100      5.06G     0.4807     0.4739     0.9744         26        640: 100%|██████████| 167/167 [00:23<00:00,  7.05it/s]\n",
            "                 Class     Images  Instances      Box(P          R      mAP50  mAP50-95): 100%|██████████| 23/23 [00:04<00:00,  5.00it/s]"
          ]
        },
        {
          "name": "stdout",
          "output_type": "stream",
          "text": [
            "                   all       1460       1829      0.778      0.641      0.714      0.466\n"
          ]
        },
        {
          "name": "stderr",
          "output_type": "stream",
          "text": [
            "\n"
          ]
        },
        {
          "name": "stdout",
          "output_type": "stream",
          "text": [
            "\n",
            "      Epoch    GPU_mem   box_loss   cls_loss   dfl_loss  Instances       Size\n"
          ]
        },
        {
          "name": "stderr",
          "output_type": "stream",
          "text": [
            "     63/100       5.1G     0.4893     0.4754     0.9781         31        640: 100%|██████████| 167/167 [00:23<00:00,  7.22it/s]\n",
            "                 Class     Images  Instances      Box(P          R      mAP50  mAP50-95): 100%|██████████| 23/23 [00:04<00:00,  4.91it/s]"
          ]
        },
        {
          "name": "stdout",
          "output_type": "stream",
          "text": [
            "                   all       1460       1829      0.774      0.654      0.724      0.475\n"
          ]
        },
        {
          "name": "stderr",
          "output_type": "stream",
          "text": [
            "\n"
          ]
        },
        {
          "name": "stdout",
          "output_type": "stream",
          "text": [
            "\n",
            "      Epoch    GPU_mem   box_loss   cls_loss   dfl_loss  Instances       Size\n"
          ]
        },
        {
          "name": "stderr",
          "output_type": "stream",
          "text": [
            "     64/100      5.08G     0.4716     0.4624     0.9695         19        640: 100%|██████████| 167/167 [00:23<00:00,  7.17it/s]\n",
            "                 Class     Images  Instances      Box(P          R      mAP50  mAP50-95): 100%|██████████| 23/23 [00:04<00:00,  5.17it/s]"
          ]
        },
        {
          "name": "stdout",
          "output_type": "stream",
          "text": [
            "                   all       1460       1829      0.791      0.654      0.728      0.482\n"
          ]
        },
        {
          "name": "stderr",
          "output_type": "stream",
          "text": [
            "\n"
          ]
        },
        {
          "name": "stdout",
          "output_type": "stream",
          "text": [
            "\n",
            "      Epoch    GPU_mem   box_loss   cls_loss   dfl_loss  Instances       Size\n"
          ]
        },
        {
          "name": "stderr",
          "output_type": "stream",
          "text": [
            "     65/100      5.06G     0.4751     0.4553     0.9725         23        640: 100%|██████████| 167/167 [00:23<00:00,  7.02it/s]\n",
            "                 Class     Images  Instances      Box(P          R      mAP50  mAP50-95): 100%|██████████| 23/23 [00:04<00:00,  5.18it/s]"
          ]
        },
        {
          "name": "stdout",
          "output_type": "stream",
          "text": [
            "                   all       1460       1829      0.786      0.641      0.726      0.476\n"
          ]
        },
        {
          "name": "stderr",
          "output_type": "stream",
          "text": [
            "\n"
          ]
        },
        {
          "name": "stdout",
          "output_type": "stream",
          "text": [
            "\n",
            "      Epoch    GPU_mem   box_loss   cls_loss   dfl_loss  Instances       Size\n"
          ]
        },
        {
          "name": "stderr",
          "output_type": "stream",
          "text": [
            "     66/100      5.06G     0.4638     0.4506     0.9654         18        640: 100%|██████████| 167/167 [00:23<00:00,  7.18it/s]\n",
            "                 Class     Images  Instances      Box(P          R      mAP50  mAP50-95): 100%|██████████| 23/23 [00:04<00:00,  5.09it/s]"
          ]
        },
        {
          "name": "stdout",
          "output_type": "stream",
          "text": [
            "                   all       1460       1829      0.792      0.656      0.728      0.484\n"
          ]
        },
        {
          "name": "stderr",
          "output_type": "stream",
          "text": [
            "\n"
          ]
        },
        {
          "name": "stdout",
          "output_type": "stream",
          "text": [
            "\n",
            "      Epoch    GPU_mem   box_loss   cls_loss   dfl_loss  Instances       Size\n"
          ]
        },
        {
          "name": "stderr",
          "output_type": "stream",
          "text": [
            "     67/100      5.02G     0.4622     0.4475     0.9639         18        640: 100%|██████████| 167/167 [00:24<00:00,  6.92it/s]\n",
            "                 Class     Images  Instances      Box(P          R      mAP50  mAP50-95): 100%|██████████| 23/23 [00:04<00:00,  5.22it/s]"
          ]
        },
        {
          "name": "stdout",
          "output_type": "stream",
          "text": [
            "                   all       1460       1829      0.806      0.638      0.727      0.482\n"
          ]
        },
        {
          "name": "stderr",
          "output_type": "stream",
          "text": [
            "\n"
          ]
        },
        {
          "name": "stdout",
          "output_type": "stream",
          "text": [
            "\n",
            "      Epoch    GPU_mem   box_loss   cls_loss   dfl_loss  Instances       Size\n"
          ]
        },
        {
          "name": "stderr",
          "output_type": "stream",
          "text": [
            "     68/100      5.06G     0.4573     0.4447      0.961         24        640: 100%|██████████| 167/167 [00:23<00:00,  7.13it/s]\n",
            "                 Class     Images  Instances      Box(P          R      mAP50  mAP50-95): 100%|██████████| 23/23 [00:04<00:00,  5.19it/s]"
          ]
        },
        {
          "name": "stdout",
          "output_type": "stream",
          "text": [
            "                   all       1460       1829      0.766       0.68      0.735      0.485\n"
          ]
        },
        {
          "name": "stderr",
          "output_type": "stream",
          "text": [
            "\n"
          ]
        },
        {
          "name": "stdout",
          "output_type": "stream",
          "text": [
            "\n",
            "      Epoch    GPU_mem   box_loss   cls_loss   dfl_loss  Instances       Size\n"
          ]
        },
        {
          "name": "stderr",
          "output_type": "stream",
          "text": [
            "     69/100      5.06G     0.4587     0.4446     0.9641         22        640: 100%|██████████| 167/167 [00:23<00:00,  7.15it/s]\n",
            "                 Class     Images  Instances      Box(P          R      mAP50  mAP50-95): 100%|██████████| 23/23 [00:04<00:00,  5.16it/s]"
          ]
        },
        {
          "name": "stdout",
          "output_type": "stream",
          "text": [
            "                   all       1460       1829      0.781      0.661      0.736      0.488\n"
          ]
        },
        {
          "name": "stderr",
          "output_type": "stream",
          "text": [
            "\n"
          ]
        },
        {
          "name": "stdout",
          "output_type": "stream",
          "text": [
            "\n",
            "      Epoch    GPU_mem   box_loss   cls_loss   dfl_loss  Instances       Size\n"
          ]
        },
        {
          "name": "stderr",
          "output_type": "stream",
          "text": [
            "     70/100      5.08G      0.451      0.439     0.9592         20        640: 100%|██████████| 167/167 [00:23<00:00,  7.14it/s]\n",
            "                 Class     Images  Instances      Box(P          R      mAP50  mAP50-95): 100%|██████████| 23/23 [00:04<00:00,  5.20it/s]"
          ]
        },
        {
          "name": "stdout",
          "output_type": "stream",
          "text": [
            "                   all       1460       1829      0.807      0.652      0.741      0.494\n"
          ]
        },
        {
          "name": "stderr",
          "output_type": "stream",
          "text": [
            "\n"
          ]
        },
        {
          "name": "stdout",
          "output_type": "stream",
          "text": [
            "\n",
            "      Epoch    GPU_mem   box_loss   cls_loss   dfl_loss  Instances       Size\n"
          ]
        },
        {
          "name": "stderr",
          "output_type": "stream",
          "text": [
            "     71/100      5.09G     0.4436     0.4309     0.9577         29        640: 100%|██████████| 167/167 [00:23<00:00,  7.08it/s]\n",
            "                 Class     Images  Instances      Box(P          R      mAP50  mAP50-95): 100%|██████████| 23/23 [00:04<00:00,  5.14it/s]"
          ]
        },
        {
          "name": "stdout",
          "output_type": "stream",
          "text": [
            "                   all       1460       1829      0.783      0.666      0.742      0.492\n"
          ]
        },
        {
          "name": "stderr",
          "output_type": "stream",
          "text": [
            "\n"
          ]
        },
        {
          "name": "stdout",
          "output_type": "stream",
          "text": [
            "\n",
            "      Epoch    GPU_mem   box_loss   cls_loss   dfl_loss  Instances       Size\n"
          ]
        },
        {
          "name": "stderr",
          "output_type": "stream",
          "text": [
            "     72/100      5.04G      0.441     0.4312     0.9548         25        640: 100%|██████████| 167/167 [00:23<00:00,  7.25it/s]\n",
            "                 Class     Images  Instances      Box(P          R      mAP50  mAP50-95): 100%|██████████| 23/23 [00:04<00:00,  5.16it/s]"
          ]
        },
        {
          "name": "stdout",
          "output_type": "stream",
          "text": [
            "                   all       1460       1829      0.778      0.674      0.743       0.49\n"
          ]
        },
        {
          "name": "stderr",
          "output_type": "stream",
          "text": [
            "\n"
          ]
        },
        {
          "name": "stdout",
          "output_type": "stream",
          "text": [
            "\n",
            "      Epoch    GPU_mem   box_loss   cls_loss   dfl_loss  Instances       Size\n"
          ]
        },
        {
          "name": "stderr",
          "output_type": "stream",
          "text": [
            "     73/100       5.1G     0.4436     0.4335     0.9552         25        640: 100%|██████████| 167/167 [00:23<00:00,  7.08it/s]\n",
            "                 Class     Images  Instances      Box(P          R      mAP50  mAP50-95): 100%|██████████| 23/23 [00:04<00:00,  5.22it/s]"
          ]
        },
        {
          "name": "stdout",
          "output_type": "stream",
          "text": [
            "                   all       1460       1829      0.796      0.656      0.736      0.488\n"
          ]
        },
        {
          "name": "stderr",
          "output_type": "stream",
          "text": [
            "\n"
          ]
        },
        {
          "name": "stdout",
          "output_type": "stream",
          "text": [
            "\n",
            "      Epoch    GPU_mem   box_loss   cls_loss   dfl_loss  Instances       Size\n"
          ]
        },
        {
          "name": "stderr",
          "output_type": "stream",
          "text": [
            "     74/100      5.03G     0.4413     0.4316     0.9555         23        640: 100%|██████████| 167/167 [00:23<00:00,  7.16it/s]\n",
            "                 Class     Images  Instances      Box(P          R      mAP50  mAP50-95): 100%|██████████| 23/23 [00:04<00:00,  5.11it/s]"
          ]
        },
        {
          "name": "stdout",
          "output_type": "stream",
          "text": [
            "                   all       1460       1829       0.78      0.674       0.74      0.495\n"
          ]
        },
        {
          "name": "stderr",
          "output_type": "stream",
          "text": [
            "\n"
          ]
        },
        {
          "name": "stdout",
          "output_type": "stream",
          "text": [
            "\n",
            "      Epoch    GPU_mem   box_loss   cls_loss   dfl_loss  Instances       Size\n"
          ]
        },
        {
          "name": "stderr",
          "output_type": "stream",
          "text": [
            "     75/100      5.09G     0.4319       0.42       0.95         22        640: 100%|██████████| 167/167 [00:23<00:00,  7.15it/s]\n",
            "                 Class     Images  Instances      Box(P          R      mAP50  mAP50-95): 100%|██████████| 23/23 [00:04<00:00,  5.16it/s]"
          ]
        },
        {
          "name": "stdout",
          "output_type": "stream",
          "text": [
            "                   all       1460       1829      0.786      0.675      0.753        0.5\n"
          ]
        },
        {
          "name": "stderr",
          "output_type": "stream",
          "text": [
            "\n"
          ]
        },
        {
          "name": "stdout",
          "output_type": "stream",
          "text": [
            "\n",
            "      Epoch    GPU_mem   box_loss   cls_loss   dfl_loss  Instances       Size\n"
          ]
        },
        {
          "name": "stderr",
          "output_type": "stream",
          "text": [
            "     76/100      5.04G     0.4354     0.4232     0.9517         17        640: 100%|██████████| 167/167 [00:23<00:00,  7.06it/s]\n",
            "                 Class     Images  Instances      Box(P          R      mAP50  mAP50-95): 100%|██████████| 23/23 [00:04<00:00,  5.24it/s]"
          ]
        },
        {
          "name": "stdout",
          "output_type": "stream",
          "text": [
            "                   all       1460       1829       0.81      0.655      0.751      0.499\n"
          ]
        },
        {
          "name": "stderr",
          "output_type": "stream",
          "text": [
            "\n"
          ]
        },
        {
          "name": "stdout",
          "output_type": "stream",
          "text": [
            "\n",
            "      Epoch    GPU_mem   box_loss   cls_loss   dfl_loss  Instances       Size\n"
          ]
        },
        {
          "name": "stderr",
          "output_type": "stream",
          "text": [
            "     77/100      4.84G     0.4313     0.4153     0.9548         28        640: 100%|██████████| 167/167 [00:23<00:00,  7.10it/s]\n",
            "                 Class     Images  Instances      Box(P          R      mAP50  mAP50-95): 100%|██████████| 23/23 [00:04<00:00,  5.09it/s]"
          ]
        },
        {
          "name": "stdout",
          "output_type": "stream",
          "text": [
            "                   all       1460       1829      0.799      0.659      0.744      0.502\n"
          ]
        },
        {
          "name": "stderr",
          "output_type": "stream",
          "text": [
            "\n"
          ]
        },
        {
          "name": "stdout",
          "output_type": "stream",
          "text": [
            "\n",
            "      Epoch    GPU_mem   box_loss   cls_loss   dfl_loss  Instances       Size\n"
          ]
        },
        {
          "name": "stderr",
          "output_type": "stream",
          "text": [
            "     78/100      5.09G      0.426     0.4176     0.9475         21        640: 100%|██████████| 167/167 [00:23<00:00,  7.14it/s]\n",
            "                 Class     Images  Instances      Box(P          R      mAP50  mAP50-95): 100%|██████████| 23/23 [00:04<00:00,  5.12it/s]"
          ]
        },
        {
          "name": "stdout",
          "output_type": "stream",
          "text": [
            "                   all       1460       1829      0.793      0.666      0.741      0.497\n"
          ]
        },
        {
          "name": "stderr",
          "output_type": "stream",
          "text": [
            "\n"
          ]
        },
        {
          "name": "stdout",
          "output_type": "stream",
          "text": [
            "\n",
            "      Epoch    GPU_mem   box_loss   cls_loss   dfl_loss  Instances       Size\n"
          ]
        },
        {
          "name": "stderr",
          "output_type": "stream",
          "text": [
            "     79/100      5.06G     0.4226     0.4092     0.9463         40        640: 100%|██████████| 167/167 [00:23<00:00,  7.14it/s]\n",
            "                 Class     Images  Instances      Box(P          R      mAP50  mAP50-95): 100%|██████████| 23/23 [00:04<00:00,  5.31it/s]"
          ]
        },
        {
          "name": "stdout",
          "output_type": "stream",
          "text": [
            "                   all       1460       1829      0.805      0.662      0.749      0.501\n"
          ]
        },
        {
          "name": "stderr",
          "output_type": "stream",
          "text": [
            "\n"
          ]
        },
        {
          "name": "stdout",
          "output_type": "stream",
          "text": [
            "\n",
            "      Epoch    GPU_mem   box_loss   cls_loss   dfl_loss  Instances       Size\n"
          ]
        },
        {
          "name": "stderr",
          "output_type": "stream",
          "text": [
            "     80/100      5.07G     0.4191     0.4042     0.9446         16        640: 100%|██████████| 167/167 [00:23<00:00,  7.06it/s]\n",
            "                 Class     Images  Instances      Box(P          R      mAP50  mAP50-95): 100%|██████████| 23/23 [00:04<00:00,  5.08it/s]"
          ]
        },
        {
          "name": "stdout",
          "output_type": "stream",
          "text": [
            "                   all       1460       1829      0.802      0.666       0.75      0.499\n"
          ]
        },
        {
          "name": "stderr",
          "output_type": "stream",
          "text": [
            "\n"
          ]
        },
        {
          "name": "stdout",
          "output_type": "stream",
          "text": [
            "\n",
            "      Epoch    GPU_mem   box_loss   cls_loss   dfl_loss  Instances       Size\n"
          ]
        },
        {
          "name": "stderr",
          "output_type": "stream",
          "text": [
            "     81/100      5.11G     0.4147     0.4036     0.9451         28        640: 100%|██████████| 167/167 [00:23<00:00,  7.14it/s]\n",
            "                 Class     Images  Instances      Box(P          R      mAP50  mAP50-95): 100%|██████████| 23/23 [00:04<00:00,  5.06it/s]"
          ]
        },
        {
          "name": "stdout",
          "output_type": "stream",
          "text": [
            "                   all       1460       1829      0.822      0.655      0.751      0.502\n"
          ]
        },
        {
          "name": "stderr",
          "output_type": "stream",
          "text": [
            "\n"
          ]
        },
        {
          "name": "stdout",
          "output_type": "stream",
          "text": [
            "\n",
            "      Epoch    GPU_mem   box_loss   cls_loss   dfl_loss  Instances       Size\n"
          ]
        },
        {
          "name": "stderr",
          "output_type": "stream",
          "text": [
            "     82/100      5.03G      0.416     0.4053      0.944         27        640: 100%|██████████| 167/167 [00:23<00:00,  7.16it/s]\n",
            "                 Class     Images  Instances      Box(P          R      mAP50  mAP50-95): 100%|██████████| 23/23 [00:04<00:00,  5.13it/s]"
          ]
        },
        {
          "name": "stdout",
          "output_type": "stream",
          "text": [
            "                   all       1460       1829      0.805      0.672       0.75      0.504\n"
          ]
        },
        {
          "name": "stderr",
          "output_type": "stream",
          "text": [
            "\n"
          ]
        },
        {
          "name": "stdout",
          "output_type": "stream",
          "text": [
            "\n",
            "      Epoch    GPU_mem   box_loss   cls_loss   dfl_loss  Instances       Size\n"
          ]
        },
        {
          "name": "stderr",
          "output_type": "stream",
          "text": [
            "     83/100      5.09G      0.413     0.4015      0.944         38        640: 100%|██████████| 167/167 [00:23<00:00,  7.17it/s]\n",
            "                 Class     Images  Instances      Box(P          R      mAP50  mAP50-95): 100%|██████████| 23/23 [00:04<00:00,  5.08it/s]"
          ]
        },
        {
          "name": "stdout",
          "output_type": "stream",
          "text": [
            "                   all       1460       1829      0.792      0.679       0.75      0.507\n"
          ]
        },
        {
          "name": "stderr",
          "output_type": "stream",
          "text": [
            "\n"
          ]
        },
        {
          "name": "stdout",
          "output_type": "stream",
          "text": [
            "\n",
            "      Epoch    GPU_mem   box_loss   cls_loss   dfl_loss  Instances       Size\n"
          ]
        },
        {
          "name": "stderr",
          "output_type": "stream",
          "text": [
            "     84/100      5.06G     0.4134     0.4008     0.9444         23        640: 100%|██████████| 167/167 [00:23<00:00,  7.15it/s]\n",
            "                 Class     Images  Instances      Box(P          R      mAP50  mAP50-95): 100%|██████████| 23/23 [00:04<00:00,  5.13it/s]"
          ]
        },
        {
          "name": "stdout",
          "output_type": "stream",
          "text": [
            "                   all       1460       1829      0.799       0.68      0.753      0.507\n"
          ]
        },
        {
          "name": "stderr",
          "output_type": "stream",
          "text": [
            "\n"
          ]
        },
        {
          "name": "stdout",
          "output_type": "stream",
          "text": [
            "\n",
            "      Epoch    GPU_mem   box_loss   cls_loss   dfl_loss  Instances       Size\n"
          ]
        },
        {
          "name": "stderr",
          "output_type": "stream",
          "text": [
            "     85/100      5.05G     0.4033     0.3904     0.9389         39        640: 100%|██████████| 167/167 [00:23<00:00,  6.96it/s]\n",
            "                 Class     Images  Instances      Box(P          R      mAP50  mAP50-95): 100%|██████████| 23/23 [00:04<00:00,  5.14it/s]"
          ]
        },
        {
          "name": "stdout",
          "output_type": "stream",
          "text": [
            "                   all       1460       1829      0.811       0.68      0.759      0.512\n"
          ]
        },
        {
          "name": "stderr",
          "output_type": "stream",
          "text": [
            "\n"
          ]
        },
        {
          "name": "stdout",
          "output_type": "stream",
          "text": [
            "\n",
            "      Epoch    GPU_mem   box_loss   cls_loss   dfl_loss  Instances       Size\n"
          ]
        },
        {
          "name": "stderr",
          "output_type": "stream",
          "text": [
            "     86/100      5.06G     0.4021     0.3883     0.9391         19        640: 100%|██████████| 167/167 [00:23<00:00,  7.10it/s]\n",
            "                 Class     Images  Instances      Box(P          R      mAP50  mAP50-95): 100%|██████████| 23/23 [00:04<00:00,  5.05it/s]"
          ]
        },
        {
          "name": "stdout",
          "output_type": "stream",
          "text": [
            "                   all       1460       1829      0.794      0.684      0.758       0.51\n"
          ]
        },
        {
          "name": "stderr",
          "output_type": "stream",
          "text": [
            "\n"
          ]
        },
        {
          "name": "stdout",
          "output_type": "stream",
          "text": [
            "\n",
            "      Epoch    GPU_mem   box_loss   cls_loss   dfl_loss  Instances       Size\n"
          ]
        },
        {
          "name": "stderr",
          "output_type": "stream",
          "text": [
            "     87/100      5.12G     0.4018     0.3932     0.9419         13        640: 100%|██████████| 167/167 [00:23<00:00,  7.17it/s]\n",
            "                 Class     Images  Instances      Box(P          R      mAP50  mAP50-95): 100%|██████████| 23/23 [00:04<00:00,  5.14it/s]"
          ]
        },
        {
          "name": "stdout",
          "output_type": "stream",
          "text": [
            "                   all       1460       1829       0.83      0.658      0.758       0.51\n"
          ]
        },
        {
          "name": "stderr",
          "output_type": "stream",
          "text": [
            "\n"
          ]
        },
        {
          "name": "stdout",
          "output_type": "stream",
          "text": [
            "\n",
            "      Epoch    GPU_mem   box_loss   cls_loss   dfl_loss  Instances       Size\n"
          ]
        },
        {
          "name": "stderr",
          "output_type": "stream",
          "text": [
            "     88/100      5.03G     0.3949     0.3891     0.9366         44        640: 100%|██████████| 167/167 [00:23<00:00,  7.06it/s]\n",
            "                 Class     Images  Instances      Box(P          R      mAP50  mAP50-95): 100%|██████████| 23/23 [00:04<00:00,  5.11it/s]"
          ]
        },
        {
          "name": "stdout",
          "output_type": "stream",
          "text": [
            "                   all       1460       1829      0.795      0.685      0.756       0.51\n"
          ]
        },
        {
          "name": "stderr",
          "output_type": "stream",
          "text": [
            "\n"
          ]
        },
        {
          "name": "stdout",
          "output_type": "stream",
          "text": [
            "\n",
            "      Epoch    GPU_mem   box_loss   cls_loss   dfl_loss  Instances       Size\n"
          ]
        },
        {
          "name": "stderr",
          "output_type": "stream",
          "text": [
            "     89/100      5.11G     0.3916     0.3772     0.9339         29        640: 100%|██████████| 167/167 [00:23<00:00,  7.10it/s]\n",
            "                 Class     Images  Instances      Box(P          R      mAP50  mAP50-95): 100%|██████████| 23/23 [00:04<00:00,  5.11it/s]"
          ]
        },
        {
          "name": "stdout",
          "output_type": "stream",
          "text": [
            "                   all       1460       1829      0.793      0.685      0.758       0.51\n"
          ]
        },
        {
          "name": "stderr",
          "output_type": "stream",
          "text": [
            "\n"
          ]
        },
        {
          "name": "stdout",
          "output_type": "stream",
          "text": [
            "\n",
            "      Epoch    GPU_mem   box_loss   cls_loss   dfl_loss  Instances       Size\n"
          ]
        },
        {
          "name": "stderr",
          "output_type": "stream",
          "text": [
            "     90/100      5.06G     0.3926     0.3813     0.9353         22        640: 100%|██████████| 167/167 [00:23<00:00,  7.22it/s]\n",
            "                 Class     Images  Instances      Box(P          R      mAP50  mAP50-95): 100%|██████████| 23/23 [00:04<00:00,  5.14it/s]"
          ]
        },
        {
          "name": "stdout",
          "output_type": "stream",
          "text": [
            "                   all       1460       1829      0.793       0.69      0.761      0.514\n"
          ]
        },
        {
          "name": "stderr",
          "output_type": "stream",
          "text": [
            "\n"
          ]
        },
        {
          "name": "stdout",
          "output_type": "stream",
          "text": [
            "Closing dataloader mosaic\n",
            "\u001b[34m\u001b[1malbumentations: \u001b[0mBlur(p=0.01, blur_limit=(3, 7)), MedianBlur(p=0.01, blur_limit=(3, 7)), ToGray(p=0.01, num_output_channels=3, method='weighted_average'), CLAHE(p=0.01, clip_limit=(1.0, 4.0), tile_grid_size=(8, 8))\n",
            "\n",
            "      Epoch    GPU_mem   box_loss   cls_loss   dfl_loss  Instances       Size\n"
          ]
        },
        {
          "name": "stderr",
          "output_type": "stream",
          "text": [
            "     91/100      5.03G      1.002     0.9227      1.252         11        640: 100%|██████████| 167/167 [00:23<00:00,  6.97it/s]\n",
            "                 Class     Images  Instances      Box(P          R      mAP50  mAP50-95): 100%|██████████| 23/23 [00:04<00:00,  5.05it/s]"
          ]
        },
        {
          "name": "stdout",
          "output_type": "stream",
          "text": [
            "                   all       1460       1829      0.801      0.658      0.742      0.502\n"
          ]
        },
        {
          "name": "stderr",
          "output_type": "stream",
          "text": [
            "\n"
          ]
        },
        {
          "name": "stdout",
          "output_type": "stream",
          "text": [
            "\n",
            "      Epoch    GPU_mem   box_loss   cls_loss   dfl_loss  Instances       Size\n"
          ]
        },
        {
          "name": "stderr",
          "output_type": "stream",
          "text": [
            "     92/100      5.02G     0.9362     0.8108      1.191         15        640: 100%|██████████| 167/167 [00:22<00:00,  7.27it/s]\n",
            "                 Class     Images  Instances      Box(P          R      mAP50  mAP50-95): 100%|██████████| 23/23 [00:04<00:00,  5.06it/s]"
          ]
        },
        {
          "name": "stdout",
          "output_type": "stream",
          "text": [
            "                   all       1460       1829      0.781      0.693      0.755      0.513\n"
          ]
        },
        {
          "name": "stderr",
          "output_type": "stream",
          "text": [
            "\n"
          ]
        },
        {
          "name": "stdout",
          "output_type": "stream",
          "text": [
            "\n",
            "      Epoch    GPU_mem   box_loss   cls_loss   dfl_loss  Instances       Size\n"
          ]
        },
        {
          "name": "stderr",
          "output_type": "stream",
          "text": [
            "     93/100      5.03G     0.9279     0.7897      1.188          7        640: 100%|██████████| 167/167 [00:22<00:00,  7.33it/s]\n",
            "                 Class     Images  Instances      Box(P          R      mAP50  mAP50-95): 100%|██████████| 23/23 [00:04<00:00,  5.05it/s]"
          ]
        },
        {
          "name": "stdout",
          "output_type": "stream",
          "text": [
            "                   all       1460       1829      0.826      0.678      0.769      0.525\n"
          ]
        },
        {
          "name": "stderr",
          "output_type": "stream",
          "text": [
            "\n"
          ]
        },
        {
          "name": "stdout",
          "output_type": "stream",
          "text": [
            "\n",
            "      Epoch    GPU_mem   box_loss   cls_loss   dfl_loss  Instances       Size\n"
          ]
        },
        {
          "name": "stderr",
          "output_type": "stream",
          "text": [
            "     94/100      5.02G     0.9206     0.7724      1.178         19        640: 100%|██████████| 167/167 [00:22<00:00,  7.34it/s]\n",
            "                 Class     Images  Instances      Box(P          R      mAP50  mAP50-95): 100%|██████████| 23/23 [00:04<00:00,  5.23it/s]"
          ]
        },
        {
          "name": "stdout",
          "output_type": "stream",
          "text": [
            "                   all       1460       1829       0.81        0.7      0.777      0.532\n"
          ]
        },
        {
          "name": "stderr",
          "output_type": "stream",
          "text": [
            "\n"
          ]
        },
        {
          "name": "stdout",
          "output_type": "stream",
          "text": [
            "\n",
            "      Epoch    GPU_mem   box_loss   cls_loss   dfl_loss  Instances       Size\n"
          ]
        },
        {
          "name": "stderr",
          "output_type": "stream",
          "text": [
            "     95/100      5.06G     0.9082      0.757      1.166         11        640: 100%|██████████| 167/167 [00:22<00:00,  7.33it/s]\n",
            "                 Class     Images  Instances      Box(P          R      mAP50  mAP50-95): 100%|██████████| 23/23 [00:04<00:00,  5.06it/s]"
          ]
        },
        {
          "name": "stdout",
          "output_type": "stream",
          "text": [
            "                   all       1460       1829      0.781      0.736      0.785      0.536\n"
          ]
        },
        {
          "name": "stderr",
          "output_type": "stream",
          "text": [
            "\n"
          ]
        },
        {
          "name": "stdout",
          "output_type": "stream",
          "text": [
            "\n",
            "      Epoch    GPU_mem   box_loss   cls_loss   dfl_loss  Instances       Size\n"
          ]
        },
        {
          "name": "stderr",
          "output_type": "stream",
          "text": [
            "     96/100         5G     0.8897      0.738      1.158         13        640: 100%|██████████| 167/167 [00:22<00:00,  7.38it/s]\n",
            "                 Class     Images  Instances      Box(P          R      mAP50  mAP50-95): 100%|██████████| 23/23 [00:04<00:00,  5.22it/s]"
          ]
        },
        {
          "name": "stdout",
          "output_type": "stream",
          "text": [
            "                   all       1460       1829      0.819      0.714      0.784      0.538\n"
          ]
        },
        {
          "name": "stderr",
          "output_type": "stream",
          "text": [
            "\n"
          ]
        },
        {
          "name": "stdout",
          "output_type": "stream",
          "text": [
            "\n",
            "      Epoch    GPU_mem   box_loss   cls_loss   dfl_loss  Instances       Size\n"
          ]
        },
        {
          "name": "stderr",
          "output_type": "stream",
          "text": [
            "     97/100      5.03G     0.8849     0.7271      1.152         10        640: 100%|██████████| 167/167 [00:22<00:00,  7.27it/s]\n",
            "                 Class     Images  Instances      Box(P          R      mAP50  mAP50-95): 100%|██████████| 23/23 [00:04<00:00,  5.14it/s]"
          ]
        },
        {
          "name": "stdout",
          "output_type": "stream",
          "text": [
            "                   all       1460       1829      0.834      0.703      0.785      0.539\n"
          ]
        },
        {
          "name": "stderr",
          "output_type": "stream",
          "text": [
            "\n"
          ]
        },
        {
          "name": "stdout",
          "output_type": "stream",
          "text": [
            "\n",
            "      Epoch    GPU_mem   box_loss   cls_loss   dfl_loss  Instances       Size\n"
          ]
        },
        {
          "name": "stderr",
          "output_type": "stream",
          "text": [
            "     98/100         5G     0.8699      0.716       1.14         10        640: 100%|██████████| 167/167 [00:22<00:00,  7.34it/s]\n",
            "                 Class     Images  Instances      Box(P          R      mAP50  mAP50-95): 100%|██████████| 23/23 [00:04<00:00,  5.14it/s]"
          ]
        },
        {
          "name": "stdout",
          "output_type": "stream",
          "text": [
            "                   all       1460       1829      0.823      0.711      0.786      0.541\n"
          ]
        },
        {
          "name": "stderr",
          "output_type": "stream",
          "text": [
            "\n"
          ]
        },
        {
          "name": "stdout",
          "output_type": "stream",
          "text": [
            "\n",
            "      Epoch    GPU_mem   box_loss   cls_loss   dfl_loss  Instances       Size\n"
          ]
        },
        {
          "name": "stderr",
          "output_type": "stream",
          "text": [
            "     99/100      4.88G     0.8711      0.712      1.141          7        640: 100%|██████████| 167/167 [00:22<00:00,  7.30it/s]\n",
            "                 Class     Images  Instances      Box(P          R      mAP50  mAP50-95): 100%|██████████| 23/23 [00:04<00:00,  5.21it/s]"
          ]
        },
        {
          "name": "stdout",
          "output_type": "stream",
          "text": [
            "                   all       1460       1829       0.83      0.708      0.786      0.542\n"
          ]
        },
        {
          "name": "stderr",
          "output_type": "stream",
          "text": [
            "\n"
          ]
        },
        {
          "name": "stdout",
          "output_type": "stream",
          "text": [
            "\n",
            "      Epoch    GPU_mem   box_loss   cls_loss   dfl_loss  Instances       Size\n"
          ]
        },
        {
          "name": "stderr",
          "output_type": "stream",
          "text": [
            "    100/100      5.02G      0.868     0.7078       1.14          8        640: 100%|██████████| 167/167 [00:22<00:00,  7.34it/s]\n",
            "                 Class     Images  Instances      Box(P          R      mAP50  mAP50-95): 100%|██████████| 23/23 [00:04<00:00,  5.16it/s]"
          ]
        },
        {
          "name": "stdout",
          "output_type": "stream",
          "text": [
            "                   all       1460       1829      0.828      0.719      0.789      0.544\n"
          ]
        },
        {
          "name": "stderr",
          "output_type": "stream",
          "text": [
            "\n"
          ]
        },
        {
          "name": "stdout",
          "output_type": "stream",
          "text": [
            "\n",
            "100 epochs completed in 0.800 hours.\n",
            "Optimizer stripped from runs/detect/best_20250204_192146/weights/last.pt, 5.5MB\n",
            "Optimizer stripped from runs/detect/best_20250204_192146/weights/best.pt, 5.5MB\n",
            "\n",
            "Validating runs/detect/best_20250204_192146/weights/best.pt...\n",
            "Ultralytics 8.3.71 🚀 Python-3.11.11 torch-2.5.1+cu124 CUDA:0 (NVIDIA A100-SXM4-40GB, 40507MiB)\n",
            "YOLO11n summary (fused): 238 layers, 2,582,932 parameters, 0 gradients, 6.3 GFLOPs\n"
          ]
        },
        {
          "name": "stderr",
          "output_type": "stream",
          "text": [
            "                 Class     Images  Instances      Box(P          R      mAP50  mAP50-95): 100%|██████████| 23/23 [00:05<00:00,  4.18it/s]\n"
          ]
        },
        {
          "name": "stdout",
          "output_type": "stream",
          "text": [
            "                   all       1460       1829      0.828      0.718       0.79      0.544\n",
            "                   Gun        395        669      0.817      0.752        0.8      0.541\n",
            "                 Knife        481        596      0.795      0.668      0.739      0.469\n",
            "                Pistol        453        564      0.871      0.736      0.829      0.622\n",
            "Speed: 0.1ms preprocess, 0.5ms inference, 0.0ms loss, 0.8ms postprocess per image\n",
            "Results saved to \u001b[1mruns/detect/best_20250204_192146\u001b[0m\n"
          ]
        }
      ],
      "source": [
        "# Executar o treinamento do modelo\n",
        "from ultralytics import YOLO\n",
        "from datetime import datetime\n",
        "\n",
        "model = YOLO(\"yolo11n.pt\")\n",
        "\n",
        "# Gerar timestamp atual\n",
        "timestamp = datetime.now().strftime(\"%Y%m%d_%H%M%S\")\n",
        "\n",
        "results = model.train(data=\"data.yaml\", epochs=100, imgsz=640, batch=32, cache=True, classes=[1,2,3], name=f\"best_{timestamp}\")"
      ]
    },
    {
      "cell_type": "code",
      "execution_count": 7,
      "metadata": {
        "colab": {
          "base_uri": "https://localhost:8080/"
        },
        "id": "fHpEA9dqOFkN",
        "outputId": "adaf4699-d4a7-4f95-e1be-5a40968a5d92"
      },
      "outputs": [
        {
          "name": "stdout",
          "output_type": "stream",
          "text": [
            "/content/gdrive/MyDrive/FIAP/Hackathon\n",
            "\n",
            "\n",
            "WARNING ⚠️ inference results will accumulate in RAM unless `stream=True` is passed, causing potential out-of-memory\n",
            "errors for large sources or long-running streams and videos. See https://docs.ultralytics.com/modes/predict/ for help.\n",
            "\n",
            "Example:\n",
            "    results = model(source=..., stream=True)  # generator of Results objects\n",
            "    for r in results:\n",
            "        boxes = r.boxes  # Boxes object for bbox outputs\n",
            "        masks = r.masks  # Masks object for segment masks outputs\n",
            "        probs = r.probs  # Class probabilities for classification outputs\n",
            "\n",
            "video 1/1 (frame 1/1264) /content/gdrive/MyDrive/FIAP/Hackathon/video.mp4: 384x640 1 Pistol, 12.2ms\n",
            "video 1/1 (frame 2/1264) /content/gdrive/MyDrive/FIAP/Hackathon/video.mp4: 384x640 1 Pistol, 11.8ms\n",
            "video 1/1 (frame 3/1264) /content/gdrive/MyDrive/FIAP/Hackathon/video.mp4: 384x640 (no detections), 11.1ms\n",
            "video 1/1 (frame 4/1264) /content/gdrive/MyDrive/FIAP/Hackathon/video.mp4: 384x640 1 Pistol, 12.9ms\n",
            "video 1/1 (frame 5/1264) /content/gdrive/MyDrive/FIAP/Hackathon/video.mp4: 384x640 1 Gun, 12.1ms\n",
            "video 1/1 (frame 6/1264) /content/gdrive/MyDrive/FIAP/Hackathon/video.mp4: 384x640 1 Pistol, 10.8ms\n",
            "video 1/1 (frame 7/1264) /content/gdrive/MyDrive/FIAP/Hackathon/video.mp4: 384x640 1 Pistol, 10.9ms\n",
            "video 1/1 (frame 8/1264) /content/gdrive/MyDrive/FIAP/Hackathon/video.mp4: 384x640 (no detections), 10.7ms\n",
            "video 1/1 (frame 9/1264) /content/gdrive/MyDrive/FIAP/Hackathon/video.mp4: 384x640 1 Gun, 1 Pistol, 10.9ms\n",
            "video 1/1 (frame 10/1264) /content/gdrive/MyDrive/FIAP/Hackathon/video.mp4: 384x640 1 Gun, 1 Pistol, 11.0ms\n",
            "video 1/1 (frame 11/1264) /content/gdrive/MyDrive/FIAP/Hackathon/video.mp4: 384x640 1 Gun, 1 Pistol, 12.2ms\n",
            "video 1/1 (frame 12/1264) /content/gdrive/MyDrive/FIAP/Hackathon/video.mp4: 384x640 1 Gun, 1 Pistol, 10.4ms\n",
            "video 1/1 (frame 13/1264) /content/gdrive/MyDrive/FIAP/Hackathon/video.mp4: 384x640 1 Pistol, 15.0ms\n",
            "video 1/1 (frame 14/1264) /content/gdrive/MyDrive/FIAP/Hackathon/video.mp4: 384x640 1 Gun, 1 Pistol, 10.9ms\n",
            "video 1/1 (frame 15/1264) /content/gdrive/MyDrive/FIAP/Hackathon/video.mp4: 384x640 (no detections), 11.0ms\n",
            "video 1/1 (frame 16/1264) /content/gdrive/MyDrive/FIAP/Hackathon/video.mp4: 384x640 1 Pistol, 11.1ms\n",
            "video 1/1 (frame 17/1264) /content/gdrive/MyDrive/FIAP/Hackathon/video.mp4: 384x640 1 Pistol, 11.1ms\n",
            "video 1/1 (frame 18/1264) /content/gdrive/MyDrive/FIAP/Hackathon/video.mp4: 384x640 (no detections), 10.6ms\n",
            "video 1/1 (frame 19/1264) /content/gdrive/MyDrive/FIAP/Hackathon/video.mp4: 384x640 (no detections), 10.8ms\n",
            "video 1/1 (frame 20/1264) /content/gdrive/MyDrive/FIAP/Hackathon/video.mp4: 384x640 (no detections), 10.4ms\n",
            "video 1/1 (frame 21/1264) /content/gdrive/MyDrive/FIAP/Hackathon/video.mp4: 384x640 (no detections), 10.8ms\n",
            "video 1/1 (frame 22/1264) /content/gdrive/MyDrive/FIAP/Hackathon/video.mp4: 384x640 (no detections), 10.4ms\n",
            "video 1/1 (frame 23/1264) /content/gdrive/MyDrive/FIAP/Hackathon/video.mp4: 384x640 (no detections), 11.0ms\n",
            "video 1/1 (frame 24/1264) /content/gdrive/MyDrive/FIAP/Hackathon/video.mp4: 384x640 (no detections), 10.6ms\n",
            "video 1/1 (frame 25/1264) /content/gdrive/MyDrive/FIAP/Hackathon/video.mp4: 384x640 (no detections), 14.7ms\n",
            "video 1/1 (frame 26/1264) /content/gdrive/MyDrive/FIAP/Hackathon/video.mp4: 384x640 (no detections), 14.8ms\n",
            "video 1/1 (frame 27/1264) /content/gdrive/MyDrive/FIAP/Hackathon/video.mp4: 384x640 (no detections), 10.7ms\n",
            "video 1/1 (frame 28/1264) /content/gdrive/MyDrive/FIAP/Hackathon/video.mp4: 384x640 (no detections), 10.8ms\n",
            "video 1/1 (frame 29/1264) /content/gdrive/MyDrive/FIAP/Hackathon/video.mp4: 384x640 1 Pistol, 10.7ms\n",
            "video 1/1 (frame 30/1264) /content/gdrive/MyDrive/FIAP/Hackathon/video.mp4: 384x640 (no detections), 10.7ms\n",
            "video 1/1 (frame 31/1264) /content/gdrive/MyDrive/FIAP/Hackathon/video.mp4: 384x640 1 Gun, 10.6ms\n",
            "video 1/1 (frame 32/1264) /content/gdrive/MyDrive/FIAP/Hackathon/video.mp4: 384x640 1 Gun, 13.0ms\n",
            "video 1/1 (frame 33/1264) /content/gdrive/MyDrive/FIAP/Hackathon/video.mp4: 384x640 1 Gun, 11.8ms\n",
            "video 1/1 (frame 34/1264) /content/gdrive/MyDrive/FIAP/Hackathon/video.mp4: 384x640 1 Gun, 10.9ms\n",
            "video 1/1 (frame 35/1264) /content/gdrive/MyDrive/FIAP/Hackathon/video.mp4: 384x640 1 Gun, 1 Pistol, 10.8ms\n",
            "video 1/1 (frame 36/1264) /content/gdrive/MyDrive/FIAP/Hackathon/video.mp4: 384x640 1 Gun, 1 Pistol, 10.8ms\n",
            "video 1/1 (frame 37/1264) /content/gdrive/MyDrive/FIAP/Hackathon/video.mp4: 384x640 1 Gun, 1 Pistol, 12.7ms\n",
            "video 1/1 (frame 38/1264) /content/gdrive/MyDrive/FIAP/Hackathon/video.mp4: 384x640 1 Gun, 1 Pistol, 12.9ms\n",
            "video 1/1 (frame 39/1264) /content/gdrive/MyDrive/FIAP/Hackathon/video.mp4: 384x640 1 Gun, 1 Pistol, 14.6ms\n",
            "video 1/1 (frame 40/1264) /content/gdrive/MyDrive/FIAP/Hackathon/video.mp4: 384x640 1 Pistol, 11.0ms\n",
            "video 1/1 (frame 41/1264) /content/gdrive/MyDrive/FIAP/Hackathon/video.mp4: 384x640 1 Pistol, 10.7ms\n",
            "video 1/1 (frame 42/1264) /content/gdrive/MyDrive/FIAP/Hackathon/video.mp4: 384x640 1 Pistol, 13.3ms\n",
            "video 1/1 (frame 43/1264) /content/gdrive/MyDrive/FIAP/Hackathon/video.mp4: 384x640 1 Pistol, 14.8ms\n",
            "video 1/1 (frame 44/1264) /content/gdrive/MyDrive/FIAP/Hackathon/video.mp4: 384x640 1 Pistol, 11.7ms\n",
            "video 1/1 (frame 45/1264) /content/gdrive/MyDrive/FIAP/Hackathon/video.mp4: 384x640 1 Pistol, 10.6ms\n",
            "video 1/1 (frame 46/1264) /content/gdrive/MyDrive/FIAP/Hackathon/video.mp4: 384x640 1 Pistol, 11.1ms\n",
            "video 1/1 (frame 47/1264) /content/gdrive/MyDrive/FIAP/Hackathon/video.mp4: 384x640 1 Pistol, 10.8ms\n",
            "video 1/1 (frame 48/1264) /content/gdrive/MyDrive/FIAP/Hackathon/video.mp4: 384x640 1 Pistol, 11.2ms\n",
            "video 1/1 (frame 49/1264) /content/gdrive/MyDrive/FIAP/Hackathon/video.mp4: 384x640 1 Pistol, 12.2ms\n",
            "video 1/1 (frame 50/1264) /content/gdrive/MyDrive/FIAP/Hackathon/video.mp4: 384x640 (no detections), 10.8ms\n",
            "video 1/1 (frame 51/1264) /content/gdrive/MyDrive/FIAP/Hackathon/video.mp4: 384x640 (no detections), 10.3ms\n",
            "video 1/1 (frame 52/1264) /content/gdrive/MyDrive/FIAP/Hackathon/video.mp4: 384x640 1 Gun, 1 Pistol, 10.6ms\n",
            "video 1/1 (frame 53/1264) /content/gdrive/MyDrive/FIAP/Hackathon/video.mp4: 384x640 1 Gun, 10.8ms\n",
            "video 1/1 (frame 54/1264) /content/gdrive/MyDrive/FIAP/Hackathon/video.mp4: 384x640 1 Gun, 1 Knife, 11.8ms\n",
            "video 1/1 (frame 55/1264) /content/gdrive/MyDrive/FIAP/Hackathon/video.mp4: 384x640 1 Gun, 10.5ms\n",
            "video 1/1 (frame 56/1264) /content/gdrive/MyDrive/FIAP/Hackathon/video.mp4: 384x640 (no detections), 10.7ms\n",
            "video 1/1 (frame 57/1264) /content/gdrive/MyDrive/FIAP/Hackathon/video.mp4: 384x640 (no detections), 10.7ms\n",
            "video 1/1 (frame 58/1264) /content/gdrive/MyDrive/FIAP/Hackathon/video.mp4: 384x640 1 Gun, 10.5ms\n",
            "video 1/1 (frame 59/1264) /content/gdrive/MyDrive/FIAP/Hackathon/video.mp4: 384x640 1 Gun, 10.8ms\n",
            "video 1/1 (frame 60/1264) /content/gdrive/MyDrive/FIAP/Hackathon/video.mp4: 384x640 1 Knife, 13.0ms\n",
            "video 1/1 (frame 61/1264) /content/gdrive/MyDrive/FIAP/Hackathon/video.mp4: 384x640 1 Gun, 11.2ms\n",
            "video 1/1 (frame 62/1264) /content/gdrive/MyDrive/FIAP/Hackathon/video.mp4: 384x640 1 Gun, 10.6ms\n",
            "video 1/1 (frame 63/1264) /content/gdrive/MyDrive/FIAP/Hackathon/video.mp4: 384x640 1 Gun, 10.5ms\n",
            "video 1/1 (frame 64/1264) /content/gdrive/MyDrive/FIAP/Hackathon/video.mp4: 384x640 1 Gun, 10.4ms\n",
            "video 1/1 (frame 65/1264) /content/gdrive/MyDrive/FIAP/Hackathon/video.mp4: 384x640 1 Pistol, 108.0ms\n",
            "video 1/1 (frame 66/1264) /content/gdrive/MyDrive/FIAP/Hackathon/video.mp4: 384x640 1 Gun, 1 Pistol, 11.3ms\n",
            "video 1/1 (frame 67/1264) /content/gdrive/MyDrive/FIAP/Hackathon/video.mp4: 384x640 1 Gun, 1 Pistol, 10.4ms\n",
            "video 1/1 (frame 68/1264) /content/gdrive/MyDrive/FIAP/Hackathon/video.mp4: 384x640 1 Pistol, 10.4ms\n",
            "video 1/1 (frame 69/1264) /content/gdrive/MyDrive/FIAP/Hackathon/video.mp4: 384x640 1 Pistol, 10.6ms\n",
            "video 1/1 (frame 70/1264) /content/gdrive/MyDrive/FIAP/Hackathon/video.mp4: 384x640 1 Pistol, 10.6ms\n",
            "video 1/1 (frame 71/1264) /content/gdrive/MyDrive/FIAP/Hackathon/video.mp4: 384x640 87 Knifes, 10.4ms\n",
            "video 1/1 (frame 72/1264) /content/gdrive/MyDrive/FIAP/Hackathon/video.mp4: 384x640 87 Knifes, 10.6ms\n",
            "video 1/1 (frame 73/1264) /content/gdrive/MyDrive/FIAP/Hackathon/video.mp4: 384x640 83 Knifes, 10.7ms\n",
            "video 1/1 (frame 74/1264) /content/gdrive/MyDrive/FIAP/Hackathon/video.mp4: 384x640 83 Knifes, 10.7ms\n",
            "video 1/1 (frame 75/1264) /content/gdrive/MyDrive/FIAP/Hackathon/video.mp4: 384x640 77 Knifes, 10.7ms\n",
            "video 1/1 (frame 76/1264) /content/gdrive/MyDrive/FIAP/Hackathon/video.mp4: 384x640 68 Knifes, 1 Pistol, 10.9ms\n",
            "video 1/1 (frame 77/1264) /content/gdrive/MyDrive/FIAP/Hackathon/video.mp4: 384x640 1 Gun, 58 Knifes, 1 Pistol, 10.7ms\n",
            "video 1/1 (frame 78/1264) /content/gdrive/MyDrive/FIAP/Hackathon/video.mp4: 384x640 1 Gun, 58 Knifes, 1 Pistol, 10.5ms\n",
            "video 1/1 (frame 79/1264) /content/gdrive/MyDrive/FIAP/Hackathon/video.mp4: 384x640 64 Knifes, 11.5ms\n",
            "video 1/1 (frame 80/1264) /content/gdrive/MyDrive/FIAP/Hackathon/video.mp4: 384x640 72 Knifes, 10.8ms\n",
            "video 1/1 (frame 81/1264) /content/gdrive/MyDrive/FIAP/Hackathon/video.mp4: 384x640 67 Knifes, 10.6ms\n",
            "video 1/1 (frame 82/1264) /content/gdrive/MyDrive/FIAP/Hackathon/video.mp4: 384x640 63 Knifes, 10.7ms\n",
            "video 1/1 (frame 83/1264) /content/gdrive/MyDrive/FIAP/Hackathon/video.mp4: 384x640 64 Knifes, 10.6ms\n",
            "video 1/1 (frame 84/1264) /content/gdrive/MyDrive/FIAP/Hackathon/video.mp4: 384x640 64 Knifes, 10.6ms\n",
            "video 1/1 (frame 85/1264) /content/gdrive/MyDrive/FIAP/Hackathon/video.mp4: 384x640 72 Knifes, 10.6ms\n",
            "video 1/1 (frame 86/1264) /content/gdrive/MyDrive/FIAP/Hackathon/video.mp4: 384x640 75 Knifes, 11.1ms\n",
            "video 1/1 (frame 87/1264) /content/gdrive/MyDrive/FIAP/Hackathon/video.mp4: 384x640 71 Knifes, 11.0ms\n",
            "video 1/1 (frame 88/1264) /content/gdrive/MyDrive/FIAP/Hackathon/video.mp4: 384x640 69 Knifes, 10.7ms\n",
            "video 1/1 (frame 89/1264) /content/gdrive/MyDrive/FIAP/Hackathon/video.mp4: 384x640 69 Knifes, 11.3ms\n",
            "video 1/1 (frame 90/1264) /content/gdrive/MyDrive/FIAP/Hackathon/video.mp4: 384x640 61 Knifes, 11.2ms\n",
            "video 1/1 (frame 91/1264) /content/gdrive/MyDrive/FIAP/Hackathon/video.mp4: 384x640 71 Knifes, 10.8ms\n",
            "video 1/1 (frame 92/1264) /content/gdrive/MyDrive/FIAP/Hackathon/video.mp4: 384x640 67 Knifes, 10.7ms\n",
            "video 1/1 (frame 93/1264) /content/gdrive/MyDrive/FIAP/Hackathon/video.mp4: 384x640 76 Knifes, 11.7ms\n",
            "video 1/1 (frame 94/1264) /content/gdrive/MyDrive/FIAP/Hackathon/video.mp4: 384x640 1 Gun, 71 Knifes, 13.8ms\n",
            "video 1/1 (frame 95/1264) /content/gdrive/MyDrive/FIAP/Hackathon/video.mp4: 384x640 1 Gun, 51 Knifes, 11.2ms\n",
            "video 1/1 (frame 96/1264) /content/gdrive/MyDrive/FIAP/Hackathon/video.mp4: 384x640 1 Gun, 51 Knifes, 11.0ms\n",
            "video 1/1 (frame 97/1264) /content/gdrive/MyDrive/FIAP/Hackathon/video.mp4: 384x640 1 Gun, 56 Knifes, 11.1ms\n",
            "video 1/1 (frame 98/1264) /content/gdrive/MyDrive/FIAP/Hackathon/video.mp4: 384x640 1 Gun, 50 Knifes, 10.8ms\n",
            "video 1/1 (frame 99/1264) /content/gdrive/MyDrive/FIAP/Hackathon/video.mp4: 384x640 58 Knifes, 15.0ms\n",
            "video 1/1 (frame 100/1264) /content/gdrive/MyDrive/FIAP/Hackathon/video.mp4: 384x640 56 Knifes, 11.6ms\n",
            "video 1/1 (frame 101/1264) /content/gdrive/MyDrive/FIAP/Hackathon/video.mp4: 384x640 47 Knifes, 14.7ms\n",
            "video 1/1 (frame 102/1264) /content/gdrive/MyDrive/FIAP/Hackathon/video.mp4: 384x640 46 Knifes, 11.1ms\n",
            "video 1/1 (frame 103/1264) /content/gdrive/MyDrive/FIAP/Hackathon/video.mp4: 384x640 45 Knifes, 1 Pistol, 10.8ms\n",
            "video 1/1 (frame 104/1264) /content/gdrive/MyDrive/FIAP/Hackathon/video.mp4: 384x640 51 Knifes, 10.7ms\n",
            "video 1/1 (frame 105/1264) /content/gdrive/MyDrive/FIAP/Hackathon/video.mp4: 384x640 42 Knifes, 11.4ms\n",
            "video 1/1 (frame 106/1264) /content/gdrive/MyDrive/FIAP/Hackathon/video.mp4: 384x640 52 Knifes, 15.2ms\n",
            "video 1/1 (frame 107/1264) /content/gdrive/MyDrive/FIAP/Hackathon/video.mp4: 384x640 52 Knifes, 11.9ms\n",
            "video 1/1 (frame 108/1264) /content/gdrive/MyDrive/FIAP/Hackathon/video.mp4: 384x640 46 Knifes, 11.1ms\n",
            "video 1/1 (frame 109/1264) /content/gdrive/MyDrive/FIAP/Hackathon/video.mp4: 384x640 50 Knifes, 11.0ms\n",
            "video 1/1 (frame 110/1264) /content/gdrive/MyDrive/FIAP/Hackathon/video.mp4: 384x640 44 Knifes, 11.2ms\n",
            "video 1/1 (frame 111/1264) /content/gdrive/MyDrive/FIAP/Hackathon/video.mp4: 384x640 44 Knifes, 1 Pistol, 14.2ms\n",
            "video 1/1 (frame 112/1264) /content/gdrive/MyDrive/FIAP/Hackathon/video.mp4: 384x640 54 Knifes, 1 Pistol, 10.5ms\n",
            "video 1/1 (frame 113/1264) /content/gdrive/MyDrive/FIAP/Hackathon/video.mp4: 384x640 54 Knifes, 1 Pistol, 14.6ms\n",
            "video 1/1 (frame 114/1264) /content/gdrive/MyDrive/FIAP/Hackathon/video.mp4: 384x640 49 Knifes, 1 Pistol, 12.7ms\n",
            "video 1/1 (frame 115/1264) /content/gdrive/MyDrive/FIAP/Hackathon/video.mp4: 384x640 48 Knifes, 1 Pistol, 10.8ms\n",
            "video 1/1 (frame 116/1264) /content/gdrive/MyDrive/FIAP/Hackathon/video.mp4: 384x640 46 Knifes, 1 Pistol, 11.0ms\n",
            "video 1/1 (frame 117/1264) /content/gdrive/MyDrive/FIAP/Hackathon/video.mp4: 384x640 31 Knifes, 1 Pistol, 10.7ms\n",
            "video 1/1 (frame 118/1264) /content/gdrive/MyDrive/FIAP/Hackathon/video.mp4: 384x640 40 Knifes, 13.8ms\n",
            "video 1/1 (frame 119/1264) /content/gdrive/MyDrive/FIAP/Hackathon/video.mp4: 384x640 42 Knifes, 10.5ms\n",
            "video 1/1 (frame 120/1264) /content/gdrive/MyDrive/FIAP/Hackathon/video.mp4: 384x640 42 Knifes, 10.7ms\n",
            "video 1/1 (frame 121/1264) /content/gdrive/MyDrive/FIAP/Hackathon/video.mp4: 384x640 36 Knifes, 10.8ms\n",
            "video 1/1 (frame 122/1264) /content/gdrive/MyDrive/FIAP/Hackathon/video.mp4: 384x640 40 Knifes, 10.8ms\n",
            "video 1/1 (frame 123/1264) /content/gdrive/MyDrive/FIAP/Hackathon/video.mp4: 384x640 44 Knifes, 10.9ms\n",
            "video 1/1 (frame 124/1264) /content/gdrive/MyDrive/FIAP/Hackathon/video.mp4: 384x640 41 Knifes, 10.7ms\n",
            "video 1/1 (frame 125/1264) /content/gdrive/MyDrive/FIAP/Hackathon/video.mp4: 384x640 47 Knifes, 15.2ms\n",
            "video 1/1 (frame 126/1264) /content/gdrive/MyDrive/FIAP/Hackathon/video.mp4: 384x640 47 Knifes, 10.7ms\n",
            "video 1/1 (frame 127/1264) /content/gdrive/MyDrive/FIAP/Hackathon/video.mp4: 384x640 50 Knifes, 11.0ms\n",
            "video 1/1 (frame 128/1264) /content/gdrive/MyDrive/FIAP/Hackathon/video.mp4: 384x640 44 Knifes, 10.7ms\n",
            "video 1/1 (frame 129/1264) /content/gdrive/MyDrive/FIAP/Hackathon/video.mp4: 384x640 46 Knifes, 10.6ms\n",
            "video 1/1 (frame 130/1264) /content/gdrive/MyDrive/FIAP/Hackathon/video.mp4: 384x640 54 Knifes, 10.6ms\n",
            "video 1/1 (frame 131/1264) /content/gdrive/MyDrive/FIAP/Hackathon/video.mp4: 384x640 50 Knifes, 10.8ms\n",
            "video 1/1 (frame 132/1264) /content/gdrive/MyDrive/FIAP/Hackathon/video.mp4: 384x640 50 Knifes, 10.6ms\n",
            "video 1/1 (frame 133/1264) /content/gdrive/MyDrive/FIAP/Hackathon/video.mp4: 384x640 55 Knifes, 10.7ms\n",
            "video 1/1 (frame 134/1264) /content/gdrive/MyDrive/FIAP/Hackathon/video.mp4: 384x640 49 Knifes, 10.9ms\n",
            "video 1/1 (frame 135/1264) /content/gdrive/MyDrive/FIAP/Hackathon/video.mp4: 384x640 54 Knifes, 10.8ms\n",
            "video 1/1 (frame 136/1264) /content/gdrive/MyDrive/FIAP/Hackathon/video.mp4: 384x640 60 Knifes, 10.9ms\n",
            "video 1/1 (frame 137/1264) /content/gdrive/MyDrive/FIAP/Hackathon/video.mp4: 384x640 63 Knifes, 13.9ms\n",
            "video 1/1 (frame 138/1264) /content/gdrive/MyDrive/FIAP/Hackathon/video.mp4: 384x640 63 Knifes, 10.8ms\n",
            "video 1/1 (frame 139/1264) /content/gdrive/MyDrive/FIAP/Hackathon/video.mp4: 384x640 60 Knifes, 10.9ms\n",
            "video 1/1 (frame 140/1264) /content/gdrive/MyDrive/FIAP/Hackathon/video.mp4: 384x640 61 Knifes, 10.9ms\n",
            "video 1/1 (frame 141/1264) /content/gdrive/MyDrive/FIAP/Hackathon/video.mp4: 384x640 68 Knifes, 12.4ms\n",
            "video 1/1 (frame 142/1264) /content/gdrive/MyDrive/FIAP/Hackathon/video.mp4: 384x640 71 Knifes, 10.9ms\n",
            "video 1/1 (frame 143/1264) /content/gdrive/MyDrive/FIAP/Hackathon/video.mp4: 384x640 71 Knifes, 10.8ms\n",
            "video 1/1 (frame 144/1264) /content/gdrive/MyDrive/FIAP/Hackathon/video.mp4: 384x640 75 Knifes, 12.0ms\n",
            "video 1/1 (frame 145/1264) /content/gdrive/MyDrive/FIAP/Hackathon/video.mp4: 384x640 71 Knifes, 10.8ms\n",
            "video 1/1 (frame 146/1264) /content/gdrive/MyDrive/FIAP/Hackathon/video.mp4: 384x640 79 Knifes, 11.7ms\n",
            "video 1/1 (frame 147/1264) /content/gdrive/MyDrive/FIAP/Hackathon/video.mp4: 384x640 70 Knifes, 11.1ms\n",
            "video 1/1 (frame 148/1264) /content/gdrive/MyDrive/FIAP/Hackathon/video.mp4: 384x640 67 Knifes, 11.1ms\n",
            "video 1/1 (frame 149/1264) /content/gdrive/MyDrive/FIAP/Hackathon/video.mp4: 384x640 60 Knifes, 15.1ms\n",
            "video 1/1 (frame 150/1264) /content/gdrive/MyDrive/FIAP/Hackathon/video.mp4: 384x640 60 Knifes, 10.7ms\n",
            "video 1/1 (frame 151/1264) /content/gdrive/MyDrive/FIAP/Hackathon/video.mp4: 384x640 66 Knifes, 10.9ms\n",
            "video 1/1 (frame 152/1264) /content/gdrive/MyDrive/FIAP/Hackathon/video.mp4: 384x640 67 Knifes, 10.5ms\n",
            "video 1/1 (frame 153/1264) /content/gdrive/MyDrive/FIAP/Hackathon/video.mp4: 384x640 67 Knifes, 10.6ms\n",
            "video 1/1 (frame 154/1264) /content/gdrive/MyDrive/FIAP/Hackathon/video.mp4: 384x640 74 Knifes, 10.5ms\n",
            "video 1/1 (frame 155/1264) /content/gdrive/MyDrive/FIAP/Hackathon/video.mp4: 384x640 74 Knifes, 10.5ms\n",
            "video 1/1 (frame 156/1264) /content/gdrive/MyDrive/FIAP/Hackathon/video.mp4: 384x640 78 Knifes, 10.6ms\n",
            "video 1/1 (frame 157/1264) /content/gdrive/MyDrive/FIAP/Hackathon/video.mp4: 384x640 78 Knifes, 10.7ms\n",
            "video 1/1 (frame 158/1264) /content/gdrive/MyDrive/FIAP/Hackathon/video.mp4: 384x640 74 Knifes, 10.6ms\n",
            "video 1/1 (frame 159/1264) /content/gdrive/MyDrive/FIAP/Hackathon/video.mp4: 384x640 72 Knifes, 10.7ms\n",
            "video 1/1 (frame 160/1264) /content/gdrive/MyDrive/FIAP/Hackathon/video.mp4: 384x640 64 Knifes, 10.9ms\n",
            "video 1/1 (frame 161/1264) /content/gdrive/MyDrive/FIAP/Hackathon/video.mp4: 384x640 72 Knifes, 11.8ms\n",
            "video 1/1 (frame 162/1264) /content/gdrive/MyDrive/FIAP/Hackathon/video.mp4: 384x640 72 Knifes, 10.8ms\n",
            "video 1/1 (frame 163/1264) /content/gdrive/MyDrive/FIAP/Hackathon/video.mp4: 384x640 65 Knifes, 10.6ms\n",
            "video 1/1 (frame 164/1264) /content/gdrive/MyDrive/FIAP/Hackathon/video.mp4: 384x640 68 Knifes, 11.0ms\n",
            "video 1/1 (frame 165/1264) /content/gdrive/MyDrive/FIAP/Hackathon/video.mp4: 384x640 69 Knifes, 11.2ms\n",
            "video 1/1 (frame 166/1264) /content/gdrive/MyDrive/FIAP/Hackathon/video.mp4: 384x640 62 Knifes, 10.7ms\n",
            "video 1/1 (frame 167/1264) /content/gdrive/MyDrive/FIAP/Hackathon/video.mp4: 384x640 1 Knife, 11.2ms\n",
            "video 1/1 (frame 168/1264) /content/gdrive/MyDrive/FIAP/Hackathon/video.mp4: 384x640 1 Knife, 10.4ms\n",
            "video 1/1 (frame 169/1264) /content/gdrive/MyDrive/FIAP/Hackathon/video.mp4: 384x640 1 Knife, 10.6ms\n",
            "video 1/1 (frame 170/1264) /content/gdrive/MyDrive/FIAP/Hackathon/video.mp4: 384x640 1 Knife, 10.4ms\n",
            "video 1/1 (frame 171/1264) /content/gdrive/MyDrive/FIAP/Hackathon/video.mp4: 384x640 1 Knife, 10.4ms\n",
            "video 1/1 (frame 172/1264) /content/gdrive/MyDrive/FIAP/Hackathon/video.mp4: 384x640 1 Knife, 10.5ms\n",
            "video 1/1 (frame 173/1264) /content/gdrive/MyDrive/FIAP/Hackathon/video.mp4: 384x640 1 Knife, 11.5ms\n",
            "video 1/1 (frame 174/1264) /content/gdrive/MyDrive/FIAP/Hackathon/video.mp4: 384x640 1 Knife, 10.5ms\n",
            "video 1/1 (frame 175/1264) /content/gdrive/MyDrive/FIAP/Hackathon/video.mp4: 384x640 (no detections), 10.5ms\n",
            "video 1/1 (frame 176/1264) /content/gdrive/MyDrive/FIAP/Hackathon/video.mp4: 384x640 (no detections), 10.5ms\n",
            "video 1/1 (frame 177/1264) /content/gdrive/MyDrive/FIAP/Hackathon/video.mp4: 384x640 (no detections), 10.4ms\n",
            "video 1/1 (frame 178/1264) /content/gdrive/MyDrive/FIAP/Hackathon/video.mp4: 384x640 (no detections), 11.0ms\n",
            "video 1/1 (frame 179/1264) /content/gdrive/MyDrive/FIAP/Hackathon/video.mp4: 384x640 (no detections), 10.6ms\n",
            "video 1/1 (frame 180/1264) /content/gdrive/MyDrive/FIAP/Hackathon/video.mp4: 384x640 (no detections), 10.4ms\n",
            "video 1/1 (frame 181/1264) /content/gdrive/MyDrive/FIAP/Hackathon/video.mp4: 384x640 (no detections), 10.3ms\n",
            "video 1/1 (frame 182/1264) /content/gdrive/MyDrive/FIAP/Hackathon/video.mp4: 384x640 1 Pistol, 10.4ms\n",
            "video 1/1 (frame 183/1264) /content/gdrive/MyDrive/FIAP/Hackathon/video.mp4: 384x640 (no detections), 10.4ms\n",
            "video 1/1 (frame 184/1264) /content/gdrive/MyDrive/FIAP/Hackathon/video.mp4: 384x640 (no detections), 11.9ms\n",
            "video 1/1 (frame 185/1264) /content/gdrive/MyDrive/FIAP/Hackathon/video.mp4: 384x640 (no detections), 10.5ms\n",
            "video 1/1 (frame 186/1264) /content/gdrive/MyDrive/FIAP/Hackathon/video.mp4: 384x640 (no detections), 10.3ms\n",
            "video 1/1 (frame 187/1264) /content/gdrive/MyDrive/FIAP/Hackathon/video.mp4: 384x640 (no detections), 10.4ms\n",
            "video 1/1 (frame 188/1264) /content/gdrive/MyDrive/FIAP/Hackathon/video.mp4: 384x640 (no detections), 10.6ms\n",
            "video 1/1 (frame 189/1264) /content/gdrive/MyDrive/FIAP/Hackathon/video.mp4: 384x640 (no detections), 10.6ms\n",
            "video 1/1 (frame 190/1264) /content/gdrive/MyDrive/FIAP/Hackathon/video.mp4: 384x640 (no detections), 10.9ms\n",
            "video 1/1 (frame 191/1264) /content/gdrive/MyDrive/FIAP/Hackathon/video.mp4: 384x640 1 Knife, 10.5ms\n",
            "video 1/1 (frame 192/1264) /content/gdrive/MyDrive/FIAP/Hackathon/video.mp4: 384x640 1 Knife, 10.5ms\n",
            "video 1/1 (frame 193/1264) /content/gdrive/MyDrive/FIAP/Hackathon/video.mp4: 384x640 1 Knife, 10.6ms\n",
            "video 1/1 (frame 194/1264) /content/gdrive/MyDrive/FIAP/Hackathon/video.mp4: 384x640 (no detections), 10.7ms\n",
            "video 1/1 (frame 195/1264) /content/gdrive/MyDrive/FIAP/Hackathon/video.mp4: 384x640 (no detections), 12.6ms\n",
            "video 1/1 (frame 196/1264) /content/gdrive/MyDrive/FIAP/Hackathon/video.mp4: 384x640 (no detections), 10.7ms\n",
            "video 1/1 (frame 197/1264) /content/gdrive/MyDrive/FIAP/Hackathon/video.mp4: 384x640 (no detections), 10.5ms\n",
            "video 1/1 (frame 198/1264) /content/gdrive/MyDrive/FIAP/Hackathon/video.mp4: 384x640 (no detections), 10.3ms\n",
            "video 1/1 (frame 199/1264) /content/gdrive/MyDrive/FIAP/Hackathon/video.mp4: 384x640 1 Pistol, 10.4ms\n",
            "video 1/1 (frame 200/1264) /content/gdrive/MyDrive/FIAP/Hackathon/video.mp4: 384x640 1 Pistol, 10.5ms\n",
            "video 1/1 (frame 201/1264) /content/gdrive/MyDrive/FIAP/Hackathon/video.mp4: 384x640 1 Pistol, 12.7ms\n",
            "video 1/1 (frame 202/1264) /content/gdrive/MyDrive/FIAP/Hackathon/video.mp4: 384x640 1 Pistol, 10.7ms\n",
            "video 1/1 (frame 203/1264) /content/gdrive/MyDrive/FIAP/Hackathon/video.mp4: 384x640 1 Pistol, 11.4ms\n",
            "video 1/1 (frame 204/1264) /content/gdrive/MyDrive/FIAP/Hackathon/video.mp4: 384x640 1 Pistol, 11.0ms\n",
            "video 1/1 (frame 205/1264) /content/gdrive/MyDrive/FIAP/Hackathon/video.mp4: 384x640 1 Pistol, 10.7ms\n",
            "video 1/1 (frame 206/1264) /content/gdrive/MyDrive/FIAP/Hackathon/video.mp4: 384x640 1 Pistol, 10.5ms\n",
            "video 1/1 (frame 207/1264) /content/gdrive/MyDrive/FIAP/Hackathon/video.mp4: 384x640 1 Pistol, 12.0ms\n",
            "video 1/1 (frame 208/1264) /content/gdrive/MyDrive/FIAP/Hackathon/video.mp4: 384x640 1 Pistol, 10.5ms\n",
            "video 1/1 (frame 209/1264) /content/gdrive/MyDrive/FIAP/Hackathon/video.mp4: 384x640 1 Pistol, 10.6ms\n",
            "video 1/1 (frame 210/1264) /content/gdrive/MyDrive/FIAP/Hackathon/video.mp4: 384x640 1 Pistol, 10.5ms\n",
            "video 1/1 (frame 211/1264) /content/gdrive/MyDrive/FIAP/Hackathon/video.mp4: 384x640 1 Pistol, 10.7ms\n",
            "video 1/1 (frame 212/1264) /content/gdrive/MyDrive/FIAP/Hackathon/video.mp4: 384x640 1 Pistol, 10.7ms\n",
            "video 1/1 (frame 213/1264) /content/gdrive/MyDrive/FIAP/Hackathon/video.mp4: 384x640 (no detections), 10.7ms\n",
            "video 1/1 (frame 214/1264) /content/gdrive/MyDrive/FIAP/Hackathon/video.mp4: 384x640 (no detections), 10.5ms\n",
            "video 1/1 (frame 215/1264) /content/gdrive/MyDrive/FIAP/Hackathon/video.mp4: 384x640 (no detections), 10.5ms\n",
            "video 1/1 (frame 216/1264) /content/gdrive/MyDrive/FIAP/Hackathon/video.mp4: 384x640 (no detections), 10.5ms\n",
            "video 1/1 (frame 217/1264) /content/gdrive/MyDrive/FIAP/Hackathon/video.mp4: 384x640 1 Knife, 10.6ms\n",
            "video 1/1 (frame 218/1264) /content/gdrive/MyDrive/FIAP/Hackathon/video.mp4: 384x640 1 Knife, 10.7ms\n",
            "video 1/1 (frame 219/1264) /content/gdrive/MyDrive/FIAP/Hackathon/video.mp4: 384x640 (no detections), 11.8ms\n",
            "video 1/1 (frame 220/1264) /content/gdrive/MyDrive/FIAP/Hackathon/video.mp4: 384x640 1 Knife, 10.8ms\n",
            "video 1/1 (frame 221/1264) /content/gdrive/MyDrive/FIAP/Hackathon/video.mp4: 384x640 (no detections), 10.7ms\n",
            "video 1/1 (frame 222/1264) /content/gdrive/MyDrive/FIAP/Hackathon/video.mp4: 384x640 (no detections), 10.6ms\n",
            "video 1/1 (frame 223/1264) /content/gdrive/MyDrive/FIAP/Hackathon/video.mp4: 384x640 (no detections), 10.7ms\n",
            "video 1/1 (frame 224/1264) /content/gdrive/MyDrive/FIAP/Hackathon/video.mp4: 384x640 (no detections), 10.6ms\n",
            "video 1/1 (frame 225/1264) /content/gdrive/MyDrive/FIAP/Hackathon/video.mp4: 384x640 (no detections), 10.7ms\n",
            "video 1/1 (frame 226/1264) /content/gdrive/MyDrive/FIAP/Hackathon/video.mp4: 384x640 (no detections), 12.2ms\n",
            "video 1/1 (frame 227/1264) /content/gdrive/MyDrive/FIAP/Hackathon/video.mp4: 384x640 (no detections), 10.5ms\n",
            "video 1/1 (frame 228/1264) /content/gdrive/MyDrive/FIAP/Hackathon/video.mp4: 384x640 (no detections), 12.6ms\n",
            "video 1/1 (frame 229/1264) /content/gdrive/MyDrive/FIAP/Hackathon/video.mp4: 384x640 (no detections), 10.5ms\n",
            "video 1/1 (frame 230/1264) /content/gdrive/MyDrive/FIAP/Hackathon/video.mp4: 384x640 (no detections), 10.5ms\n",
            "video 1/1 (frame 231/1264) /content/gdrive/MyDrive/FIAP/Hackathon/video.mp4: 384x640 (no detections), 10.3ms\n",
            "video 1/1 (frame 232/1264) /content/gdrive/MyDrive/FIAP/Hackathon/video.mp4: 384x640 (no detections), 10.4ms\n",
            "video 1/1 (frame 233/1264) /content/gdrive/MyDrive/FIAP/Hackathon/video.mp4: 384x640 (no detections), 10.5ms\n",
            "video 1/1 (frame 234/1264) /content/gdrive/MyDrive/FIAP/Hackathon/video.mp4: 384x640 (no detections), 11.8ms\n",
            "video 1/1 (frame 235/1264) /content/gdrive/MyDrive/FIAP/Hackathon/video.mp4: 384x640 (no detections), 10.6ms\n",
            "video 1/1 (frame 236/1264) /content/gdrive/MyDrive/FIAP/Hackathon/video.mp4: 384x640 (no detections), 10.7ms\n",
            "video 1/1 (frame 237/1264) /content/gdrive/MyDrive/FIAP/Hackathon/video.mp4: 384x640 (no detections), 10.6ms\n",
            "video 1/1 (frame 238/1264) /content/gdrive/MyDrive/FIAP/Hackathon/video.mp4: 384x640 (no detections), 10.4ms\n",
            "video 1/1 (frame 239/1264) /content/gdrive/MyDrive/FIAP/Hackathon/video.mp4: 384x640 (no detections), 10.5ms\n",
            "video 1/1 (frame 240/1264) /content/gdrive/MyDrive/FIAP/Hackathon/video.mp4: 384x640 (no detections), 10.5ms\n",
            "video 1/1 (frame 241/1264) /content/gdrive/MyDrive/FIAP/Hackathon/video.mp4: 384x640 (no detections), 11.0ms\n",
            "video 1/1 (frame 242/1264) /content/gdrive/MyDrive/FIAP/Hackathon/video.mp4: 384x640 (no detections), 11.9ms\n",
            "video 1/1 (frame 243/1264) /content/gdrive/MyDrive/FIAP/Hackathon/video.mp4: 384x640 (no detections), 11.0ms\n",
            "video 1/1 (frame 244/1264) /content/gdrive/MyDrive/FIAP/Hackathon/video.mp4: 384x640 (no detections), 10.4ms\n",
            "video 1/1 (frame 245/1264) /content/gdrive/MyDrive/FIAP/Hackathon/video.mp4: 384x640 (no detections), 11.4ms\n",
            "video 1/1 (frame 246/1264) /content/gdrive/MyDrive/FIAP/Hackathon/video.mp4: 384x640 (no detections), 10.9ms\n",
            "video 1/1 (frame 247/1264) /content/gdrive/MyDrive/FIAP/Hackathon/video.mp4: 384x640 (no detections), 10.6ms\n",
            "video 1/1 (frame 248/1264) /content/gdrive/MyDrive/FIAP/Hackathon/video.mp4: 384x640 (no detections), 10.7ms\n",
            "video 1/1 (frame 249/1264) /content/gdrive/MyDrive/FIAP/Hackathon/video.mp4: 384x640 (no detections), 10.5ms\n",
            "video 1/1 (frame 250/1264) /content/gdrive/MyDrive/FIAP/Hackathon/video.mp4: 384x640 (no detections), 10.5ms\n",
            "video 1/1 (frame 251/1264) /content/gdrive/MyDrive/FIAP/Hackathon/video.mp4: 384x640 (no detections), 10.8ms\n",
            "video 1/1 (frame 252/1264) /content/gdrive/MyDrive/FIAP/Hackathon/video.mp4: 384x640 (no detections), 10.3ms\n",
            "video 1/1 (frame 253/1264) /content/gdrive/MyDrive/FIAP/Hackathon/video.mp4: 384x640 (no detections), 10.4ms\n",
            "video 1/1 (frame 254/1264) /content/gdrive/MyDrive/FIAP/Hackathon/video.mp4: 384x640 (no detections), 10.6ms\n",
            "video 1/1 (frame 255/1264) /content/gdrive/MyDrive/FIAP/Hackathon/video.mp4: 384x640 (no detections), 10.4ms\n",
            "video 1/1 (frame 256/1264) /content/gdrive/MyDrive/FIAP/Hackathon/video.mp4: 384x640 (no detections), 10.4ms\n",
            "video 1/1 (frame 257/1264) /content/gdrive/MyDrive/FIAP/Hackathon/video.mp4: 384x640 (no detections), 10.5ms\n",
            "video 1/1 (frame 258/1264) /content/gdrive/MyDrive/FIAP/Hackathon/video.mp4: 384x640 (no detections), 10.3ms\n",
            "video 1/1 (frame 259/1264) /content/gdrive/MyDrive/FIAP/Hackathon/video.mp4: 384x640 1 Knife, 10.3ms\n",
            "video 1/1 (frame 260/1264) /content/gdrive/MyDrive/FIAP/Hackathon/video.mp4: 384x640 1 Knife, 10.3ms\n",
            "video 1/1 (frame 261/1264) /content/gdrive/MyDrive/FIAP/Hackathon/video.mp4: 384x640 (no detections), 10.5ms\n",
            "video 1/1 (frame 262/1264) /content/gdrive/MyDrive/FIAP/Hackathon/video.mp4: 384x640 (no detections), 10.9ms\n",
            "video 1/1 (frame 263/1264) /content/gdrive/MyDrive/FIAP/Hackathon/video.mp4: 384x640 (no detections), 11.1ms\n",
            "video 1/1 (frame 264/1264) /content/gdrive/MyDrive/FIAP/Hackathon/video.mp4: 384x640 (no detections), 10.5ms\n",
            "video 1/1 (frame 265/1264) /content/gdrive/MyDrive/FIAP/Hackathon/video.mp4: 384x640 (no detections), 10.5ms\n",
            "video 1/1 (frame 266/1264) /content/gdrive/MyDrive/FIAP/Hackathon/video.mp4: 384x640 (no detections), 12.2ms\n",
            "video 1/1 (frame 267/1264) /content/gdrive/MyDrive/FIAP/Hackathon/video.mp4: 384x640 (no detections), 10.8ms\n",
            "video 1/1 (frame 268/1264) /content/gdrive/MyDrive/FIAP/Hackathon/video.mp4: 384x640 1 Knife, 11.1ms\n",
            "video 1/1 (frame 269/1264) /content/gdrive/MyDrive/FIAP/Hackathon/video.mp4: 384x640 1 Knife, 10.9ms\n",
            "video 1/1 (frame 270/1264) /content/gdrive/MyDrive/FIAP/Hackathon/video.mp4: 384x640 1 Knife, 10.8ms\n",
            "video 1/1 (frame 271/1264) /content/gdrive/MyDrive/FIAP/Hackathon/video.mp4: 384x640 1 Knife, 10.5ms\n",
            "video 1/1 (frame 272/1264) /content/gdrive/MyDrive/FIAP/Hackathon/video.mp4: 384x640 1 Knife, 10.3ms\n",
            "video 1/1 (frame 273/1264) /content/gdrive/MyDrive/FIAP/Hackathon/video.mp4: 384x640 1 Pistol, 10.4ms\n",
            "video 1/1 (frame 274/1264) /content/gdrive/MyDrive/FIAP/Hackathon/video.mp4: 384x640 1 Knife, 1 Pistol, 10.4ms\n",
            "video 1/1 (frame 275/1264) /content/gdrive/MyDrive/FIAP/Hackathon/video.mp4: 384x640 1 Knife, 12.0ms\n",
            "video 1/1 (frame 276/1264) /content/gdrive/MyDrive/FIAP/Hackathon/video.mp4: 384x640 1 Knife, 11.7ms\n",
            "video 1/1 (frame 277/1264) /content/gdrive/MyDrive/FIAP/Hackathon/video.mp4: 384x640 1 Knife, 10.7ms\n",
            "video 1/1 (frame 278/1264) /content/gdrive/MyDrive/FIAP/Hackathon/video.mp4: 384x640 1 Knife, 10.9ms\n",
            "video 1/1 (frame 279/1264) /content/gdrive/MyDrive/FIAP/Hackathon/video.mp4: 384x640 1 Knife, 10.8ms\n",
            "video 1/1 (frame 280/1264) /content/gdrive/MyDrive/FIAP/Hackathon/video.mp4: 384x640 1 Knife, 10.9ms\n",
            "video 1/1 (frame 281/1264) /content/gdrive/MyDrive/FIAP/Hackathon/video.mp4: 384x640 1 Knife, 10.6ms\n",
            "video 1/1 (frame 282/1264) /content/gdrive/MyDrive/FIAP/Hackathon/video.mp4: 384x640 1 Knife, 10.3ms\n",
            "video 1/1 (frame 283/1264) /content/gdrive/MyDrive/FIAP/Hackathon/video.mp4: 384x640 1 Knife, 10.7ms\n",
            "video 1/1 (frame 284/1264) /content/gdrive/MyDrive/FIAP/Hackathon/video.mp4: 384x640 1 Knife, 10.7ms\n",
            "video 1/1 (frame 285/1264) /content/gdrive/MyDrive/FIAP/Hackathon/video.mp4: 384x640 1 Knife, 10.8ms\n",
            "video 1/1 (frame 286/1264) /content/gdrive/MyDrive/FIAP/Hackathon/video.mp4: 384x640 1 Knife, 10.8ms\n",
            "video 1/1 (frame 287/1264) /content/gdrive/MyDrive/FIAP/Hackathon/video.mp4: 384x640 1 Knife, 10.3ms\n",
            "video 1/1 (frame 288/1264) /content/gdrive/MyDrive/FIAP/Hackathon/video.mp4: 384x640 1 Knife, 11.0ms\n",
            "video 1/1 (frame 289/1264) /content/gdrive/MyDrive/FIAP/Hackathon/video.mp4: 384x640 1 Knife, 11.7ms\n",
            "video 1/1 (frame 290/1264) /content/gdrive/MyDrive/FIAP/Hackathon/video.mp4: 384x640 1 Knife, 10.8ms\n",
            "video 1/1 (frame 291/1264) /content/gdrive/MyDrive/FIAP/Hackathon/video.mp4: 384x640 1 Knife, 11.0ms\n",
            "video 1/1 (frame 292/1264) /content/gdrive/MyDrive/FIAP/Hackathon/video.mp4: 384x640 1 Knife, 10.8ms\n",
            "video 1/1 (frame 293/1264) /content/gdrive/MyDrive/FIAP/Hackathon/video.mp4: 384x640 (no detections), 10.4ms\n",
            "video 1/1 (frame 294/1264) /content/gdrive/MyDrive/FIAP/Hackathon/video.mp4: 384x640 (no detections), 10.3ms\n",
            "video 1/1 (frame 295/1264) /content/gdrive/MyDrive/FIAP/Hackathon/video.mp4: 384x640 (no detections), 10.7ms\n",
            "video 1/1 (frame 296/1264) /content/gdrive/MyDrive/FIAP/Hackathon/video.mp4: 384x640 (no detections), 10.8ms\n",
            "video 1/1 (frame 297/1264) /content/gdrive/MyDrive/FIAP/Hackathon/video.mp4: 384x640 (no detections), 10.7ms\n",
            "video 1/1 (frame 298/1264) /content/gdrive/MyDrive/FIAP/Hackathon/video.mp4: 384x640 (no detections), 11.3ms\n",
            "video 1/1 (frame 299/1264) /content/gdrive/MyDrive/FIAP/Hackathon/video.mp4: 384x640 (no detections), 10.6ms\n",
            "video 1/1 (frame 300/1264) /content/gdrive/MyDrive/FIAP/Hackathon/video.mp4: 384x640 (no detections), 10.8ms\n",
            "video 1/1 (frame 301/1264) /content/gdrive/MyDrive/FIAP/Hackathon/video.mp4: 384x640 (no detections), 10.8ms\n",
            "video 1/1 (frame 302/1264) /content/gdrive/MyDrive/FIAP/Hackathon/video.mp4: 384x640 (no detections), 13.1ms\n",
            "video 1/1 (frame 303/1264) /content/gdrive/MyDrive/FIAP/Hackathon/video.mp4: 384x640 (no detections), 10.9ms\n",
            "video 1/1 (frame 304/1264) /content/gdrive/MyDrive/FIAP/Hackathon/video.mp4: 384x640 1 Knife, 11.4ms\n",
            "video 1/1 (frame 305/1264) /content/gdrive/MyDrive/FIAP/Hackathon/video.mp4: 384x640 1 Knife, 10.4ms\n",
            "video 1/1 (frame 306/1264) /content/gdrive/MyDrive/FIAP/Hackathon/video.mp4: 384x640 1 Knife, 10.4ms\n",
            "video 1/1 (frame 307/1264) /content/gdrive/MyDrive/FIAP/Hackathon/video.mp4: 384x640 1 Knife, 10.5ms\n",
            "video 1/1 (frame 308/1264) /content/gdrive/MyDrive/FIAP/Hackathon/video.mp4: 384x640 1 Knife, 10.4ms\n",
            "video 1/1 (frame 309/1264) /content/gdrive/MyDrive/FIAP/Hackathon/video.mp4: 384x640 1 Pistol, 10.3ms\n",
            "video 1/1 (frame 310/1264) /content/gdrive/MyDrive/FIAP/Hackathon/video.mp4: 384x640 (no detections), 10.6ms\n",
            "video 1/1 (frame 311/1264) /content/gdrive/MyDrive/FIAP/Hackathon/video.mp4: 384x640 (no detections), 10.8ms\n",
            "video 1/1 (frame 312/1264) /content/gdrive/MyDrive/FIAP/Hackathon/video.mp4: 384x640 (no detections), 10.7ms\n",
            "video 1/1 (frame 313/1264) /content/gdrive/MyDrive/FIAP/Hackathon/video.mp4: 384x640 (no detections), 10.3ms\n",
            "video 1/1 (frame 314/1264) /content/gdrive/MyDrive/FIAP/Hackathon/video.mp4: 384x640 (no detections), 14.5ms\n",
            "video 1/1 (frame 315/1264) /content/gdrive/MyDrive/FIAP/Hackathon/video.mp4: 384x640 (no detections), 12.1ms\n",
            "video 1/1 (frame 316/1264) /content/gdrive/MyDrive/FIAP/Hackathon/video.mp4: 384x640 (no detections), 11.0ms\n",
            "video 1/1 (frame 317/1264) /content/gdrive/MyDrive/FIAP/Hackathon/video.mp4: 384x640 1 Knife, 11.1ms\n",
            "video 1/1 (frame 318/1264) /content/gdrive/MyDrive/FIAP/Hackathon/video.mp4: 384x640 1 Knife, 10.9ms\n",
            "video 1/1 (frame 319/1264) /content/gdrive/MyDrive/FIAP/Hackathon/video.mp4: 384x640 (no detections), 10.3ms\n",
            "video 1/1 (frame 320/1264) /content/gdrive/MyDrive/FIAP/Hackathon/video.mp4: 384x640 1 Knife, 10.8ms\n",
            "video 1/1 (frame 321/1264) /content/gdrive/MyDrive/FIAP/Hackathon/video.mp4: 384x640 1 Knife, 10.8ms\n",
            "video 1/1 (frame 322/1264) /content/gdrive/MyDrive/FIAP/Hackathon/video.mp4: 384x640 1 Knife, 10.5ms\n",
            "video 1/1 (frame 323/1264) /content/gdrive/MyDrive/FIAP/Hackathon/video.mp4: 384x640 (no detections), 10.7ms\n",
            "video 1/1 (frame 324/1264) /content/gdrive/MyDrive/FIAP/Hackathon/video.mp4: 384x640 (no detections), 10.7ms\n",
            "video 1/1 (frame 325/1264) /content/gdrive/MyDrive/FIAP/Hackathon/video.mp4: 384x640 (no detections), 10.3ms\n",
            "video 1/1 (frame 326/1264) /content/gdrive/MyDrive/FIAP/Hackathon/video.mp4: 384x640 (no detections), 10.6ms\n",
            "video 1/1 (frame 327/1264) /content/gdrive/MyDrive/FIAP/Hackathon/video.mp4: 384x640 (no detections), 10.8ms\n",
            "video 1/1 (frame 328/1264) /content/gdrive/MyDrive/FIAP/Hackathon/video.mp4: 384x640 1 Pistol, 10.2ms\n",
            "video 1/1 (frame 329/1264) /content/gdrive/MyDrive/FIAP/Hackathon/video.mp4: 384x640 (no detections), 10.4ms\n",
            "video 1/1 (frame 330/1264) /content/gdrive/MyDrive/FIAP/Hackathon/video.mp4: 384x640 1 Knife, 10.7ms\n",
            "video 1/1 (frame 331/1264) /content/gdrive/MyDrive/FIAP/Hackathon/video.mp4: 384x640 1 Knife, 10.8ms\n",
            "video 1/1 (frame 332/1264) /content/gdrive/MyDrive/FIAP/Hackathon/video.mp4: 384x640 1 Knife, 10.6ms\n",
            "video 1/1 (frame 333/1264) /content/gdrive/MyDrive/FIAP/Hackathon/video.mp4: 384x640 (no detections), 10.5ms\n",
            "video 1/1 (frame 334/1264) /content/gdrive/MyDrive/FIAP/Hackathon/video.mp4: 384x640 (no detections), 10.3ms\n",
            "video 1/1 (frame 335/1264) /content/gdrive/MyDrive/FIAP/Hackathon/video.mp4: 384x640 (no detections), 10.8ms\n",
            "video 1/1 (frame 336/1264) /content/gdrive/MyDrive/FIAP/Hackathon/video.mp4: 384x640 (no detections), 11.4ms\n",
            "video 1/1 (frame 337/1264) /content/gdrive/MyDrive/FIAP/Hackathon/video.mp4: 384x640 (no detections), 10.2ms\n",
            "video 1/1 (frame 338/1264) /content/gdrive/MyDrive/FIAP/Hackathon/video.mp4: 384x640 (no detections), 10.6ms\n",
            "video 1/1 (frame 339/1264) /content/gdrive/MyDrive/FIAP/Hackathon/video.mp4: 384x640 (no detections), 10.9ms\n",
            "video 1/1 (frame 340/1264) /content/gdrive/MyDrive/FIAP/Hackathon/video.mp4: 384x640 1 Knife, 10.8ms\n",
            "video 1/1 (frame 341/1264) /content/gdrive/MyDrive/FIAP/Hackathon/video.mp4: 384x640 1 Knife, 10.8ms\n",
            "video 1/1 (frame 342/1264) /content/gdrive/MyDrive/FIAP/Hackathon/video.mp4: 384x640 (no detections), 14.4ms\n",
            "video 1/1 (frame 343/1264) /content/gdrive/MyDrive/FIAP/Hackathon/video.mp4: 384x640 (no detections), 14.3ms\n",
            "video 1/1 (frame 344/1264) /content/gdrive/MyDrive/FIAP/Hackathon/video.mp4: 384x640 (no detections), 11.4ms\n",
            "video 1/1 (frame 345/1264) /content/gdrive/MyDrive/FIAP/Hackathon/video.mp4: 384x640 (no detections), 15.5ms\n",
            "video 1/1 (frame 346/1264) /content/gdrive/MyDrive/FIAP/Hackathon/video.mp4: 384x640 (no detections), 10.6ms\n",
            "video 1/1 (frame 347/1264) /content/gdrive/MyDrive/FIAP/Hackathon/video.mp4: 384x640 (no detections), 11.1ms\n",
            "video 1/1 (frame 348/1264) /content/gdrive/MyDrive/FIAP/Hackathon/video.mp4: 384x640 1 Knife, 10.9ms\n",
            "video 1/1 (frame 349/1264) /content/gdrive/MyDrive/FIAP/Hackathon/video.mp4: 384x640 1 Knife, 10.9ms\n",
            "video 1/1 (frame 350/1264) /content/gdrive/MyDrive/FIAP/Hackathon/video.mp4: 384x640 (no detections), 11.2ms\n",
            "video 1/1 (frame 351/1264) /content/gdrive/MyDrive/FIAP/Hackathon/video.mp4: 384x640 (no detections), 10.7ms\n",
            "video 1/1 (frame 352/1264) /content/gdrive/MyDrive/FIAP/Hackathon/video.mp4: 384x640 (no detections), 11.9ms\n",
            "video 1/1 (frame 353/1264) /content/gdrive/MyDrive/FIAP/Hackathon/video.mp4: 384x640 (no detections), 10.8ms\n",
            "video 1/1 (frame 354/1264) /content/gdrive/MyDrive/FIAP/Hackathon/video.mp4: 384x640 (no detections), 10.7ms\n",
            "video 1/1 (frame 355/1264) /content/gdrive/MyDrive/FIAP/Hackathon/video.mp4: 384x640 (no detections), 11.1ms\n",
            "video 1/1 (frame 356/1264) /content/gdrive/MyDrive/FIAP/Hackathon/video.mp4: 384x640 (no detections), 11.7ms\n",
            "video 1/1 (frame 357/1264) /content/gdrive/MyDrive/FIAP/Hackathon/video.mp4: 384x640 (no detections), 11.0ms\n",
            "video 1/1 (frame 358/1264) /content/gdrive/MyDrive/FIAP/Hackathon/video.mp4: 384x640 (no detections), 10.6ms\n",
            "video 1/1 (frame 359/1264) /content/gdrive/MyDrive/FIAP/Hackathon/video.mp4: 384x640 (no detections), 11.7ms\n",
            "video 1/1 (frame 360/1264) /content/gdrive/MyDrive/FIAP/Hackathon/video.mp4: 384x640 (no detections), 10.3ms\n",
            "video 1/1 (frame 361/1264) /content/gdrive/MyDrive/FIAP/Hackathon/video.mp4: 384x640 (no detections), 10.6ms\n",
            "video 1/1 (frame 362/1264) /content/gdrive/MyDrive/FIAP/Hackathon/video.mp4: 384x640 (no detections), 14.1ms\n",
            "video 1/1 (frame 363/1264) /content/gdrive/MyDrive/FIAP/Hackathon/video.mp4: 384x640 (no detections), 11.2ms\n",
            "video 1/1 (frame 364/1264) /content/gdrive/MyDrive/FIAP/Hackathon/video.mp4: 384x640 (no detections), 10.8ms\n",
            "video 1/1 (frame 365/1264) /content/gdrive/MyDrive/FIAP/Hackathon/video.mp4: 384x640 (no detections), 10.8ms\n",
            "video 1/1 (frame 366/1264) /content/gdrive/MyDrive/FIAP/Hackathon/video.mp4: 384x640 (no detections), 10.8ms\n",
            "video 1/1 (frame 367/1264) /content/gdrive/MyDrive/FIAP/Hackathon/video.mp4: 384x640 (no detections), 10.9ms\n",
            "video 1/1 (frame 368/1264) /content/gdrive/MyDrive/FIAP/Hackathon/video.mp4: 384x640 (no detections), 10.8ms\n",
            "video 1/1 (frame 369/1264) /content/gdrive/MyDrive/FIAP/Hackathon/video.mp4: 384x640 (no detections), 11.9ms\n",
            "video 1/1 (frame 370/1264) /content/gdrive/MyDrive/FIAP/Hackathon/video.mp4: 384x640 (no detections), 11.8ms\n",
            "video 1/1 (frame 371/1264) /content/gdrive/MyDrive/FIAP/Hackathon/video.mp4: 384x640 (no detections), 10.7ms\n",
            "video 1/1 (frame 372/1264) /content/gdrive/MyDrive/FIAP/Hackathon/video.mp4: 384x640 (no detections), 10.4ms\n",
            "video 1/1 (frame 373/1264) /content/gdrive/MyDrive/FIAP/Hackathon/video.mp4: 384x640 (no detections), 11.8ms\n",
            "video 1/1 (frame 374/1264) /content/gdrive/MyDrive/FIAP/Hackathon/video.mp4: 384x640 (no detections), 15.2ms\n",
            "video 1/1 (frame 375/1264) /content/gdrive/MyDrive/FIAP/Hackathon/video.mp4: 384x640 (no detections), 11.4ms\n",
            "video 1/1 (frame 376/1264) /content/gdrive/MyDrive/FIAP/Hackathon/video.mp4: 384x640 (no detections), 10.3ms\n",
            "video 1/1 (frame 377/1264) /content/gdrive/MyDrive/FIAP/Hackathon/video.mp4: 384x640 (no detections), 10.6ms\n",
            "video 1/1 (frame 378/1264) /content/gdrive/MyDrive/FIAP/Hackathon/video.mp4: 384x640 (no detections), 10.4ms\n",
            "video 1/1 (frame 379/1264) /content/gdrive/MyDrive/FIAP/Hackathon/video.mp4: 384x640 (no detections), 10.4ms\n",
            "video 1/1 (frame 380/1264) /content/gdrive/MyDrive/FIAP/Hackathon/video.mp4: 384x640 (no detections), 10.5ms\n",
            "video 1/1 (frame 381/1264) /content/gdrive/MyDrive/FIAP/Hackathon/video.mp4: 384x640 (no detections), 10.3ms\n",
            "video 1/1 (frame 382/1264) /content/gdrive/MyDrive/FIAP/Hackathon/video.mp4: 384x640 (no detections), 10.5ms\n",
            "video 1/1 (frame 383/1264) /content/gdrive/MyDrive/FIAP/Hackathon/video.mp4: 384x640 (no detections), 10.4ms\n",
            "video 1/1 (frame 384/1264) /content/gdrive/MyDrive/FIAP/Hackathon/video.mp4: 384x640 (no detections), 10.3ms\n",
            "video 1/1 (frame 385/1264) /content/gdrive/MyDrive/FIAP/Hackathon/video.mp4: 384x640 (no detections), 10.9ms\n",
            "video 1/1 (frame 386/1264) /content/gdrive/MyDrive/FIAP/Hackathon/video.mp4: 384x640 (no detections), 13.7ms\n",
            "video 1/1 (frame 387/1264) /content/gdrive/MyDrive/FIAP/Hackathon/video.mp4: 384x640 (no detections), 10.7ms\n",
            "video 1/1 (frame 388/1264) /content/gdrive/MyDrive/FIAP/Hackathon/video.mp4: 384x640 1 Knife, 10.5ms\n",
            "video 1/1 (frame 389/1264) /content/gdrive/MyDrive/FIAP/Hackathon/video.mp4: 384x640 (no detections), 10.7ms\n",
            "video 1/1 (frame 390/1264) /content/gdrive/MyDrive/FIAP/Hackathon/video.mp4: 384x640 1 Knife, 10.6ms\n",
            "video 1/1 (frame 391/1264) /content/gdrive/MyDrive/FIAP/Hackathon/video.mp4: 384x640 (no detections), 10.6ms\n",
            "video 1/1 (frame 392/1264) /content/gdrive/MyDrive/FIAP/Hackathon/video.mp4: 384x640 (no detections), 10.6ms\n",
            "video 1/1 (frame 393/1264) /content/gdrive/MyDrive/FIAP/Hackathon/video.mp4: 384x640 1 Knife, 14.0ms\n",
            "video 1/1 (frame 394/1264) /content/gdrive/MyDrive/FIAP/Hackathon/video.mp4: 384x640 1 Knife, 10.6ms\n",
            "video 1/1 (frame 395/1264) /content/gdrive/MyDrive/FIAP/Hackathon/video.mp4: 384x640 1 Knife, 10.7ms\n",
            "video 1/1 (frame 396/1264) /content/gdrive/MyDrive/FIAP/Hackathon/video.mp4: 384x640 1 Knife, 10.7ms\n",
            "video 1/1 (frame 397/1264) /content/gdrive/MyDrive/FIAP/Hackathon/video.mp4: 384x640 1 Knife, 10.5ms\n",
            "video 1/1 (frame 398/1264) /content/gdrive/MyDrive/FIAP/Hackathon/video.mp4: 384x640 1 Knife, 13.8ms\n",
            "video 1/1 (frame 399/1264) /content/gdrive/MyDrive/FIAP/Hackathon/video.mp4: 384x640 1 Knife, 10.2ms\n",
            "video 1/1 (frame 400/1264) /content/gdrive/MyDrive/FIAP/Hackathon/video.mp4: 384x640 1 Knife, 10.4ms\n",
            "video 1/1 (frame 401/1264) /content/gdrive/MyDrive/FIAP/Hackathon/video.mp4: 384x640 1 Knife, 12.7ms\n",
            "video 1/1 (frame 402/1264) /content/gdrive/MyDrive/FIAP/Hackathon/video.mp4: 384x640 1 Knife, 10.6ms\n",
            "video 1/1 (frame 403/1264) /content/gdrive/MyDrive/FIAP/Hackathon/video.mp4: 384x640 2 Knifes, 11.2ms\n",
            "video 1/1 (frame 404/1264) /content/gdrive/MyDrive/FIAP/Hackathon/video.mp4: 384x640 3 Knifes, 10.8ms\n",
            "video 1/1 (frame 405/1264) /content/gdrive/MyDrive/FIAP/Hackathon/video.mp4: 384x640 3 Knifes, 14.5ms\n",
            "video 1/1 (frame 406/1264) /content/gdrive/MyDrive/FIAP/Hackathon/video.mp4: 384x640 2 Knifes, 10.5ms\n",
            "video 1/1 (frame 407/1264) /content/gdrive/MyDrive/FIAP/Hackathon/video.mp4: 384x640 1 Knife, 10.8ms\n",
            "video 1/1 (frame 408/1264) /content/gdrive/MyDrive/FIAP/Hackathon/video.mp4: 384x640 1 Knife, 10.5ms\n",
            "video 1/1 (frame 409/1264) /content/gdrive/MyDrive/FIAP/Hackathon/video.mp4: 384x640 1 Knife, 10.5ms\n",
            "video 1/1 (frame 410/1264) /content/gdrive/MyDrive/FIAP/Hackathon/video.mp4: 384x640 1 Knife, 14.2ms\n",
            "video 1/1 (frame 411/1264) /content/gdrive/MyDrive/FIAP/Hackathon/video.mp4: 384x640 1 Knife, 10.5ms\n",
            "video 1/1 (frame 412/1264) /content/gdrive/MyDrive/FIAP/Hackathon/video.mp4: 384x640 1 Knife, 10.6ms\n",
            "video 1/1 (frame 413/1264) /content/gdrive/MyDrive/FIAP/Hackathon/video.mp4: 384x640 1 Knife, 10.5ms\n",
            "video 1/1 (frame 414/1264) /content/gdrive/MyDrive/FIAP/Hackathon/video.mp4: 384x640 1 Knife, 10.5ms\n",
            "video 1/1 (frame 415/1264) /content/gdrive/MyDrive/FIAP/Hackathon/video.mp4: 384x640 1 Knife, 10.6ms\n",
            "video 1/1 (frame 416/1264) /content/gdrive/MyDrive/FIAP/Hackathon/video.mp4: 384x640 1 Knife, 10.6ms\n",
            "video 1/1 (frame 417/1264) /content/gdrive/MyDrive/FIAP/Hackathon/video.mp4: 384x640 1 Knife, 10.4ms\n",
            "video 1/1 (frame 418/1264) /content/gdrive/MyDrive/FIAP/Hackathon/video.mp4: 384x640 1 Knife, 10.4ms\n",
            "video 1/1 (frame 419/1264) /content/gdrive/MyDrive/FIAP/Hackathon/video.mp4: 384x640 1 Knife, 10.7ms\n",
            "video 1/1 (frame 420/1264) /content/gdrive/MyDrive/FIAP/Hackathon/video.mp4: 384x640 (no detections), 10.6ms\n",
            "video 1/1 (frame 421/1264) /content/gdrive/MyDrive/FIAP/Hackathon/video.mp4: 384x640 (no detections), 10.7ms\n",
            "video 1/1 (frame 422/1264) /content/gdrive/MyDrive/FIAP/Hackathon/video.mp4: 384x640 (no detections), 10.3ms\n",
            "video 1/1 (frame 423/1264) /content/gdrive/MyDrive/FIAP/Hackathon/video.mp4: 384x640 (no detections), 10.4ms\n",
            "video 1/1 (frame 424/1264) /content/gdrive/MyDrive/FIAP/Hackathon/video.mp4: 384x640 (no detections), 10.9ms\n",
            "video 1/1 (frame 425/1264) /content/gdrive/MyDrive/FIAP/Hackathon/video.mp4: 384x640 (no detections), 10.9ms\n",
            "video 1/1 (frame 426/1264) /content/gdrive/MyDrive/FIAP/Hackathon/video.mp4: 384x640 (no detections), 10.9ms\n",
            "video 1/1 (frame 427/1264) /content/gdrive/MyDrive/FIAP/Hackathon/video.mp4: 384x640 (no detections), 10.5ms\n",
            "video 1/1 (frame 428/1264) /content/gdrive/MyDrive/FIAP/Hackathon/video.mp4: 384x640 (no detections), 10.6ms\n",
            "video 1/1 (frame 429/1264) /content/gdrive/MyDrive/FIAP/Hackathon/video.mp4: 384x640 (no detections), 10.5ms\n",
            "video 1/1 (frame 430/1264) /content/gdrive/MyDrive/FIAP/Hackathon/video.mp4: 384x640 (no detections), 10.6ms\n",
            "video 1/1 (frame 431/1264) /content/gdrive/MyDrive/FIAP/Hackathon/video.mp4: 384x640 (no detections), 10.9ms\n",
            "video 1/1 (frame 432/1264) /content/gdrive/MyDrive/FIAP/Hackathon/video.mp4: 384x640 (no detections), 11.0ms\n",
            "video 1/1 (frame 433/1264) /content/gdrive/MyDrive/FIAP/Hackathon/video.mp4: 384x640 (no detections), 10.8ms\n",
            "video 1/1 (frame 434/1264) /content/gdrive/MyDrive/FIAP/Hackathon/video.mp4: 384x640 (no detections), 10.7ms\n",
            "video 1/1 (frame 435/1264) /content/gdrive/MyDrive/FIAP/Hackathon/video.mp4: 384x640 1 Knife, 10.8ms\n",
            "video 1/1 (frame 436/1264) /content/gdrive/MyDrive/FIAP/Hackathon/video.mp4: 384x640 (no detections), 10.7ms\n",
            "video 1/1 (frame 437/1264) /content/gdrive/MyDrive/FIAP/Hackathon/video.mp4: 384x640 (no detections), 11.0ms\n",
            "video 1/1 (frame 438/1264) /content/gdrive/MyDrive/FIAP/Hackathon/video.mp4: 384x640 (no detections), 11.6ms\n",
            "video 1/1 (frame 439/1264) /content/gdrive/MyDrive/FIAP/Hackathon/video.mp4: 384x640 (no detections), 10.7ms\n",
            "video 1/1 (frame 440/1264) /content/gdrive/MyDrive/FIAP/Hackathon/video.mp4: 384x640 (no detections), 10.6ms\n",
            "video 1/1 (frame 441/1264) /content/gdrive/MyDrive/FIAP/Hackathon/video.mp4: 384x640 (no detections), 10.6ms\n",
            "video 1/1 (frame 442/1264) /content/gdrive/MyDrive/FIAP/Hackathon/video.mp4: 384x640 (no detections), 10.8ms\n",
            "video 1/1 (frame 443/1264) /content/gdrive/MyDrive/FIAP/Hackathon/video.mp4: 384x640 (no detections), 12.3ms\n",
            "video 1/1 (frame 444/1264) /content/gdrive/MyDrive/FIAP/Hackathon/video.mp4: 384x640 (no detections), 11.3ms\n",
            "video 1/1 (frame 445/1264) /content/gdrive/MyDrive/FIAP/Hackathon/video.mp4: 384x640 (no detections), 10.4ms\n",
            "video 1/1 (frame 446/1264) /content/gdrive/MyDrive/FIAP/Hackathon/video.mp4: 384x640 (no detections), 10.6ms\n",
            "video 1/1 (frame 447/1264) /content/gdrive/MyDrive/FIAP/Hackathon/video.mp4: 384x640 (no detections), 10.6ms\n",
            "video 1/1 (frame 448/1264) /content/gdrive/MyDrive/FIAP/Hackathon/video.mp4: 384x640 (no detections), 10.5ms\n",
            "video 1/1 (frame 449/1264) /content/gdrive/MyDrive/FIAP/Hackathon/video.mp4: 384x640 (no detections), 11.0ms\n",
            "video 1/1 (frame 450/1264) /content/gdrive/MyDrive/FIAP/Hackathon/video.mp4: 384x640 (no detections), 10.8ms\n",
            "video 1/1 (frame 451/1264) /content/gdrive/MyDrive/FIAP/Hackathon/video.mp4: 384x640 1 Knife, 10.4ms\n",
            "video 1/1 (frame 452/1264) /content/gdrive/MyDrive/FIAP/Hackathon/video.mp4: 384x640 1 Knife, 10.4ms\n",
            "video 1/1 (frame 453/1264) /content/gdrive/MyDrive/FIAP/Hackathon/video.mp4: 384x640 1 Knife, 11.1ms\n",
            "video 1/1 (frame 454/1264) /content/gdrive/MyDrive/FIAP/Hackathon/video.mp4: 384x640 1 Knife, 10.7ms\n",
            "video 1/1 (frame 455/1264) /content/gdrive/MyDrive/FIAP/Hackathon/video.mp4: 384x640 1 Knife, 10.6ms\n",
            "video 1/1 (frame 456/1264) /content/gdrive/MyDrive/FIAP/Hackathon/video.mp4: 384x640 (no detections), 11.0ms\n",
            "video 1/1 (frame 457/1264) /content/gdrive/MyDrive/FIAP/Hackathon/video.mp4: 384x640 (no detections), 10.8ms\n",
            "video 1/1 (frame 458/1264) /content/gdrive/MyDrive/FIAP/Hackathon/video.mp4: 384x640 (no detections), 10.9ms\n",
            "video 1/1 (frame 459/1264) /content/gdrive/MyDrive/FIAP/Hackathon/video.mp4: 384x640 (no detections), 10.9ms\n",
            "video 1/1 (frame 460/1264) /content/gdrive/MyDrive/FIAP/Hackathon/video.mp4: 384x640 (no detections), 10.6ms\n",
            "video 1/1 (frame 461/1264) /content/gdrive/MyDrive/FIAP/Hackathon/video.mp4: 384x640 (no detections), 10.6ms\n",
            "video 1/1 (frame 462/1264) /content/gdrive/MyDrive/FIAP/Hackathon/video.mp4: 384x640 (no detections), 11.3ms\n",
            "video 1/1 (frame 463/1264) /content/gdrive/MyDrive/FIAP/Hackathon/video.mp4: 384x640 (no detections), 12.4ms\n",
            "video 1/1 (frame 464/1264) /content/gdrive/MyDrive/FIAP/Hackathon/video.mp4: 384x640 1 Knife, 12.7ms\n",
            "video 1/1 (frame 465/1264) /content/gdrive/MyDrive/FIAP/Hackathon/video.mp4: 384x640 (no detections), 10.9ms\n",
            "video 1/1 (frame 466/1264) /content/gdrive/MyDrive/FIAP/Hackathon/video.mp4: 384x640 (no detections), 10.6ms\n",
            "video 1/1 (frame 467/1264) /content/gdrive/MyDrive/FIAP/Hackathon/video.mp4: 384x640 (no detections), 11.2ms\n",
            "video 1/1 (frame 468/1264) /content/gdrive/MyDrive/FIAP/Hackathon/video.mp4: 384x640 (no detections), 11.3ms\n",
            "video 1/1 (frame 469/1264) /content/gdrive/MyDrive/FIAP/Hackathon/video.mp4: 384x640 (no detections), 10.8ms\n",
            "video 1/1 (frame 470/1264) /content/gdrive/MyDrive/FIAP/Hackathon/video.mp4: 384x640 (no detections), 10.6ms\n",
            "video 1/1 (frame 471/1264) /content/gdrive/MyDrive/FIAP/Hackathon/video.mp4: 384x640 (no detections), 11.0ms\n",
            "video 1/1 (frame 472/1264) /content/gdrive/MyDrive/FIAP/Hackathon/video.mp4: 384x640 (no detections), 10.9ms\n",
            "video 1/1 (frame 473/1264) /content/gdrive/MyDrive/FIAP/Hackathon/video.mp4: 384x640 (no detections), 10.6ms\n",
            "video 1/1 (frame 474/1264) /content/gdrive/MyDrive/FIAP/Hackathon/video.mp4: 384x640 (no detections), 10.8ms\n",
            "video 1/1 (frame 475/1264) /content/gdrive/MyDrive/FIAP/Hackathon/video.mp4: 384x640 (no detections), 10.5ms\n",
            "video 1/1 (frame 476/1264) /content/gdrive/MyDrive/FIAP/Hackathon/video.mp4: 384x640 (no detections), 10.5ms\n",
            "video 1/1 (frame 477/1264) /content/gdrive/MyDrive/FIAP/Hackathon/video.mp4: 384x640 1 Knife, 10.6ms\n",
            "video 1/1 (frame 478/1264) /content/gdrive/MyDrive/FIAP/Hackathon/video.mp4: 384x640 1 Knife, 10.7ms\n",
            "video 1/1 (frame 479/1264) /content/gdrive/MyDrive/FIAP/Hackathon/video.mp4: 384x640 1 Knife, 10.7ms\n",
            "video 1/1 (frame 480/1264) /content/gdrive/MyDrive/FIAP/Hackathon/video.mp4: 384x640 1 Knife, 14.9ms\n",
            "video 1/1 (frame 481/1264) /content/gdrive/MyDrive/FIAP/Hackathon/video.mp4: 384x640 1 Knife, 10.7ms\n",
            "video 1/1 (frame 482/1264) /content/gdrive/MyDrive/FIAP/Hackathon/video.mp4: 384x640 1 Knife, 10.7ms\n",
            "video 1/1 (frame 483/1264) /content/gdrive/MyDrive/FIAP/Hackathon/video.mp4: 384x640 (no detections), 10.5ms\n",
            "video 1/1 (frame 484/1264) /content/gdrive/MyDrive/FIAP/Hackathon/video.mp4: 384x640 (no detections), 10.5ms\n",
            "video 1/1 (frame 485/1264) /content/gdrive/MyDrive/FIAP/Hackathon/video.mp4: 384x640 (no detections), 10.8ms\n",
            "video 1/1 (frame 486/1264) /content/gdrive/MyDrive/FIAP/Hackathon/video.mp4: 384x640 (no detections), 11.0ms\n",
            "video 1/1 (frame 487/1264) /content/gdrive/MyDrive/FIAP/Hackathon/video.mp4: 384x640 (no detections), 10.4ms\n",
            "video 1/1 (frame 488/1264) /content/gdrive/MyDrive/FIAP/Hackathon/video.mp4: 384x640 (no detections), 10.7ms\n",
            "video 1/1 (frame 489/1264) /content/gdrive/MyDrive/FIAP/Hackathon/video.mp4: 384x640 1 Knife, 10.5ms\n",
            "video 1/1 (frame 490/1264) /content/gdrive/MyDrive/FIAP/Hackathon/video.mp4: 384x640 1 Knife, 10.6ms\n",
            "video 1/1 (frame 491/1264) /content/gdrive/MyDrive/FIAP/Hackathon/video.mp4: 384x640 1 Knife, 10.7ms\n",
            "video 1/1 (frame 492/1264) /content/gdrive/MyDrive/FIAP/Hackathon/video.mp4: 384x640 1 Knife, 14.0ms\n",
            "video 1/1 (frame 493/1264) /content/gdrive/MyDrive/FIAP/Hackathon/video.mp4: 384x640 1 Knife, 14.4ms\n",
            "video 1/1 (frame 494/1264) /content/gdrive/MyDrive/FIAP/Hackathon/video.mp4: 384x640 1 Knife, 10.5ms\n",
            "video 1/1 (frame 495/1264) /content/gdrive/MyDrive/FIAP/Hackathon/video.mp4: 384x640 1 Knife, 10.5ms\n",
            "video 1/1 (frame 496/1264) /content/gdrive/MyDrive/FIAP/Hackathon/video.mp4: 384x640 1 Knife, 10.5ms\n",
            "video 1/1 (frame 497/1264) /content/gdrive/MyDrive/FIAP/Hackathon/video.mp4: 384x640 1 Knife, 11.4ms\n",
            "video 1/1 (frame 498/1264) /content/gdrive/MyDrive/FIAP/Hackathon/video.mp4: 384x640 1 Knife, 10.5ms\n",
            "video 1/1 (frame 499/1264) /content/gdrive/MyDrive/FIAP/Hackathon/video.mp4: 384x640 1 Knife, 10.4ms\n",
            "video 1/1 (frame 500/1264) /content/gdrive/MyDrive/FIAP/Hackathon/video.mp4: 384x640 1 Knife, 10.5ms\n",
            "video 1/1 (frame 501/1264) /content/gdrive/MyDrive/FIAP/Hackathon/video.mp4: 384x640 1 Knife, 10.6ms\n",
            "video 1/1 (frame 502/1264) /content/gdrive/MyDrive/FIAP/Hackathon/video.mp4: 384x640 1 Knife, 11.2ms\n",
            "video 1/1 (frame 503/1264) /content/gdrive/MyDrive/FIAP/Hackathon/video.mp4: 384x640 1 Knife, 10.7ms\n",
            "video 1/1 (frame 504/1264) /content/gdrive/MyDrive/FIAP/Hackathon/video.mp4: 384x640 (no detections), 13.6ms\n",
            "video 1/1 (frame 505/1264) /content/gdrive/MyDrive/FIAP/Hackathon/video.mp4: 384x640 (no detections), 14.9ms\n",
            "video 1/1 (frame 506/1264) /content/gdrive/MyDrive/FIAP/Hackathon/video.mp4: 384x640 (no detections), 10.5ms\n",
            "video 1/1 (frame 507/1264) /content/gdrive/MyDrive/FIAP/Hackathon/video.mp4: 384x640 (no detections), 10.5ms\n",
            "video 1/1 (frame 508/1264) /content/gdrive/MyDrive/FIAP/Hackathon/video.mp4: 384x640 (no detections), 10.7ms\n",
            "video 1/1 (frame 509/1264) /content/gdrive/MyDrive/FIAP/Hackathon/video.mp4: 384x640 1 Knife, 10.3ms\n",
            "video 1/1 (frame 510/1264) /content/gdrive/MyDrive/FIAP/Hackathon/video.mp4: 384x640 1 Knife, 10.5ms\n",
            "video 1/1 (frame 511/1264) /content/gdrive/MyDrive/FIAP/Hackathon/video.mp4: 384x640 1 Knife, 10.5ms\n",
            "video 1/1 (frame 512/1264) /content/gdrive/MyDrive/FIAP/Hackathon/video.mp4: 384x640 1 Knife, 10.6ms\n",
            "video 1/1 (frame 513/1264) /content/gdrive/MyDrive/FIAP/Hackathon/video.mp4: 384x640 (no detections), 14.4ms\n",
            "video 1/1 (frame 514/1264) /content/gdrive/MyDrive/FIAP/Hackathon/video.mp4: 384x640 (no detections), 10.6ms\n",
            "video 1/1 (frame 515/1264) /content/gdrive/MyDrive/FIAP/Hackathon/video.mp4: 384x640 (no detections), 10.6ms\n",
            "video 1/1 (frame 516/1264) /content/gdrive/MyDrive/FIAP/Hackathon/video.mp4: 384x640 (no detections), 10.4ms\n",
            "video 1/1 (frame 517/1264) /content/gdrive/MyDrive/FIAP/Hackathon/video.mp4: 384x640 (no detections), 10.4ms\n",
            "video 1/1 (frame 518/1264) /content/gdrive/MyDrive/FIAP/Hackathon/video.mp4: 384x640 (no detections), 14.0ms\n",
            "video 1/1 (frame 519/1264) /content/gdrive/MyDrive/FIAP/Hackathon/video.mp4: 384x640 (no detections), 10.5ms\n",
            "video 1/1 (frame 520/1264) /content/gdrive/MyDrive/FIAP/Hackathon/video.mp4: 384x640 (no detections), 11.0ms\n",
            "video 1/1 (frame 521/1264) /content/gdrive/MyDrive/FIAP/Hackathon/video.mp4: 384x640 (no detections), 11.6ms\n",
            "video 1/1 (frame 522/1264) /content/gdrive/MyDrive/FIAP/Hackathon/video.mp4: 384x640 (no detections), 10.6ms\n",
            "video 1/1 (frame 523/1264) /content/gdrive/MyDrive/FIAP/Hackathon/video.mp4: 384x640 (no detections), 11.0ms\n",
            "video 1/1 (frame 524/1264) /content/gdrive/MyDrive/FIAP/Hackathon/video.mp4: 384x640 (no detections), 11.7ms\n",
            "video 1/1 (frame 525/1264) /content/gdrive/MyDrive/FIAP/Hackathon/video.mp4: 384x640 (no detections), 10.8ms\n",
            "video 1/1 (frame 526/1264) /content/gdrive/MyDrive/FIAP/Hackathon/video.mp4: 384x640 (no detections), 10.9ms\n",
            "video 1/1 (frame 527/1264) /content/gdrive/MyDrive/FIAP/Hackathon/video.mp4: 384x640 1 Knife, 11.2ms\n",
            "video 1/1 (frame 528/1264) /content/gdrive/MyDrive/FIAP/Hackathon/video.mp4: 384x640 1 Knife, 10.9ms\n",
            "video 1/1 (frame 529/1264) /content/gdrive/MyDrive/FIAP/Hackathon/video.mp4: 384x640 1 Knife, 13.1ms\n",
            "video 1/1 (frame 530/1264) /content/gdrive/MyDrive/FIAP/Hackathon/video.mp4: 384x640 (no detections), 11.5ms\n",
            "video 1/1 (frame 531/1264) /content/gdrive/MyDrive/FIAP/Hackathon/video.mp4: 384x640 (no detections), 12.5ms\n",
            "video 1/1 (frame 532/1264) /content/gdrive/MyDrive/FIAP/Hackathon/video.mp4: 384x640 (no detections), 11.3ms\n",
            "video 1/1 (frame 533/1264) /content/gdrive/MyDrive/FIAP/Hackathon/video.mp4: 384x640 (no detections), 11.0ms\n",
            "video 1/1 (frame 534/1264) /content/gdrive/MyDrive/FIAP/Hackathon/video.mp4: 384x640 (no detections), 10.8ms\n",
            "video 1/1 (frame 535/1264) /content/gdrive/MyDrive/FIAP/Hackathon/video.mp4: 384x640 (no detections), 11.0ms\n",
            "video 1/1 (frame 536/1264) /content/gdrive/MyDrive/FIAP/Hackathon/video.mp4: 384x640 (no detections), 10.6ms\n",
            "video 1/1 (frame 537/1264) /content/gdrive/MyDrive/FIAP/Hackathon/video.mp4: 384x640 (no detections), 11.1ms\n",
            "video 1/1 (frame 538/1264) /content/gdrive/MyDrive/FIAP/Hackathon/video.mp4: 384x640 (no detections), 10.4ms\n",
            "video 1/1 (frame 539/1264) /content/gdrive/MyDrive/FIAP/Hackathon/video.mp4: 384x640 (no detections), 10.4ms\n",
            "video 1/1 (frame 540/1264) /content/gdrive/MyDrive/FIAP/Hackathon/video.mp4: 384x640 (no detections), 10.4ms\n",
            "video 1/1 (frame 541/1264) /content/gdrive/MyDrive/FIAP/Hackathon/video.mp4: 384x640 (no detections), 10.8ms\n",
            "video 1/1 (frame 542/1264) /content/gdrive/MyDrive/FIAP/Hackathon/video.mp4: 384x640 (no detections), 10.5ms\n",
            "video 1/1 (frame 543/1264) /content/gdrive/MyDrive/FIAP/Hackathon/video.mp4: 384x640 (no detections), 10.5ms\n",
            "video 1/1 (frame 544/1264) /content/gdrive/MyDrive/FIAP/Hackathon/video.mp4: 384x640 (no detections), 10.3ms\n",
            "video 1/1 (frame 545/1264) /content/gdrive/MyDrive/FIAP/Hackathon/video.mp4: 384x640 (no detections), 10.5ms\n",
            "video 1/1 (frame 546/1264) /content/gdrive/MyDrive/FIAP/Hackathon/video.mp4: 384x640 (no detections), 10.9ms\n",
            "video 1/1 (frame 547/1264) /content/gdrive/MyDrive/FIAP/Hackathon/video.mp4: 384x640 (no detections), 10.4ms\n",
            "video 1/1 (frame 548/1264) /content/gdrive/MyDrive/FIAP/Hackathon/video.mp4: 384x640 (no detections), 10.8ms\n",
            "video 1/1 (frame 549/1264) /content/gdrive/MyDrive/FIAP/Hackathon/video.mp4: 384x640 (no detections), 12.1ms\n",
            "video 1/1 (frame 550/1264) /content/gdrive/MyDrive/FIAP/Hackathon/video.mp4: 384x640 (no detections), 10.4ms\n",
            "video 1/1 (frame 551/1264) /content/gdrive/MyDrive/FIAP/Hackathon/video.mp4: 384x640 (no detections), 10.4ms\n",
            "video 1/1 (frame 552/1264) /content/gdrive/MyDrive/FIAP/Hackathon/video.mp4: 384x640 (no detections), 10.5ms\n",
            "video 1/1 (frame 553/1264) /content/gdrive/MyDrive/FIAP/Hackathon/video.mp4: 384x640 (no detections), 13.5ms\n",
            "video 1/1 (frame 554/1264) /content/gdrive/MyDrive/FIAP/Hackathon/video.mp4: 384x640 (no detections), 13.3ms\n",
            "video 1/1 (frame 555/1264) /content/gdrive/MyDrive/FIAP/Hackathon/video.mp4: 384x640 1 Knife, 10.5ms\n",
            "video 1/1 (frame 556/1264) /content/gdrive/MyDrive/FIAP/Hackathon/video.mp4: 384x640 (no detections), 11.1ms\n",
            "video 1/1 (frame 557/1264) /content/gdrive/MyDrive/FIAP/Hackathon/video.mp4: 384x640 (no detections), 10.3ms\n",
            "video 1/1 (frame 558/1264) /content/gdrive/MyDrive/FIAP/Hackathon/video.mp4: 384x640 (no detections), 10.7ms\n",
            "video 1/1 (frame 559/1264) /content/gdrive/MyDrive/FIAP/Hackathon/video.mp4: 384x640 (no detections), 10.3ms\n",
            "video 1/1 (frame 560/1264) /content/gdrive/MyDrive/FIAP/Hackathon/video.mp4: 384x640 (no detections), 10.4ms\n",
            "video 1/1 (frame 561/1264) /content/gdrive/MyDrive/FIAP/Hackathon/video.mp4: 384x640 (no detections), 13.2ms\n",
            "video 1/1 (frame 562/1264) /content/gdrive/MyDrive/FIAP/Hackathon/video.mp4: 384x640 (no detections), 10.4ms\n",
            "video 1/1 (frame 563/1264) /content/gdrive/MyDrive/FIAP/Hackathon/video.mp4: 384x640 (no detections), 10.2ms\n",
            "video 1/1 (frame 564/1264) /content/gdrive/MyDrive/FIAP/Hackathon/video.mp4: 384x640 (no detections), 10.9ms\n",
            "video 1/1 (frame 565/1264) /content/gdrive/MyDrive/FIAP/Hackathon/video.mp4: 384x640 (no detections), 15.5ms\n",
            "video 1/1 (frame 566/1264) /content/gdrive/MyDrive/FIAP/Hackathon/video.mp4: 384x640 (no detections), 13.8ms\n",
            "video 1/1 (frame 567/1264) /content/gdrive/MyDrive/FIAP/Hackathon/video.mp4: 384x640 (no detections), 11.1ms\n",
            "video 1/1 (frame 568/1264) /content/gdrive/MyDrive/FIAP/Hackathon/video.mp4: 384x640 (no detections), 10.6ms\n",
            "video 1/1 (frame 569/1264) /content/gdrive/MyDrive/FIAP/Hackathon/video.mp4: 384x640 (no detections), 10.9ms\n",
            "video 1/1 (frame 570/1264) /content/gdrive/MyDrive/FIAP/Hackathon/video.mp4: 384x640 (no detections), 10.5ms\n",
            "video 1/1 (frame 571/1264) /content/gdrive/MyDrive/FIAP/Hackathon/video.mp4: 384x640 (no detections), 10.5ms\n",
            "video 1/1 (frame 572/1264) /content/gdrive/MyDrive/FIAP/Hackathon/video.mp4: 384x640 (no detections), 11.1ms\n",
            "video 1/1 (frame 573/1264) /content/gdrive/MyDrive/FIAP/Hackathon/video.mp4: 384x640 (no detections), 14.4ms\n",
            "video 1/1 (frame 574/1264) /content/gdrive/MyDrive/FIAP/Hackathon/video.mp4: 384x640 (no detections), 10.9ms\n",
            "video 1/1 (frame 575/1264) /content/gdrive/MyDrive/FIAP/Hackathon/video.mp4: 384x640 (no detections), 10.6ms\n",
            "video 1/1 (frame 576/1264) /content/gdrive/MyDrive/FIAP/Hackathon/video.mp4: 384x640 (no detections), 10.9ms\n",
            "video 1/1 (frame 577/1264) /content/gdrive/MyDrive/FIAP/Hackathon/video.mp4: 384x640 (no detections), 10.4ms\n",
            "video 1/1 (frame 578/1264) /content/gdrive/MyDrive/FIAP/Hackathon/video.mp4: 384x640 (no detections), 10.7ms\n",
            "video 1/1 (frame 579/1264) /content/gdrive/MyDrive/FIAP/Hackathon/video.mp4: 384x640 (no detections), 12.6ms\n",
            "video 1/1 (frame 580/1264) /content/gdrive/MyDrive/FIAP/Hackathon/video.mp4: 384x640 (no detections), 11.2ms\n",
            "video 1/1 (frame 581/1264) /content/gdrive/MyDrive/FIAP/Hackathon/video.mp4: 384x640 (no detections), 10.4ms\n",
            "video 1/1 (frame 582/1264) /content/gdrive/MyDrive/FIAP/Hackathon/video.mp4: 384x640 (no detections), 10.4ms\n",
            "video 1/1 (frame 583/1264) /content/gdrive/MyDrive/FIAP/Hackathon/video.mp4: 384x640 (no detections), 10.6ms\n",
            "video 1/1 (frame 584/1264) /content/gdrive/MyDrive/FIAP/Hackathon/video.mp4: 384x640 (no detections), 10.5ms\n",
            "video 1/1 (frame 585/1264) /content/gdrive/MyDrive/FIAP/Hackathon/video.mp4: 384x640 (no detections), 13.6ms\n",
            "video 1/1 (frame 586/1264) /content/gdrive/MyDrive/FIAP/Hackathon/video.mp4: 384x640 (no detections), 10.6ms\n",
            "video 1/1 (frame 587/1264) /content/gdrive/MyDrive/FIAP/Hackathon/video.mp4: 384x640 (no detections), 10.6ms\n",
            "video 1/1 (frame 588/1264) /content/gdrive/MyDrive/FIAP/Hackathon/video.mp4: 384x640 (no detections), 12.2ms\n",
            "video 1/1 (frame 589/1264) /content/gdrive/MyDrive/FIAP/Hackathon/video.mp4: 384x640 (no detections), 12.8ms\n",
            "video 1/1 (frame 590/1264) /content/gdrive/MyDrive/FIAP/Hackathon/video.mp4: 384x640 (no detections), 13.0ms\n",
            "video 1/1 (frame 591/1264) /content/gdrive/MyDrive/FIAP/Hackathon/video.mp4: 384x640 (no detections), 13.6ms\n",
            "video 1/1 (frame 592/1264) /content/gdrive/MyDrive/FIAP/Hackathon/video.mp4: 384x640 (no detections), 10.9ms\n",
            "video 1/1 (frame 593/1264) /content/gdrive/MyDrive/FIAP/Hackathon/video.mp4: 384x640 (no detections), 11.8ms\n",
            "video 1/1 (frame 594/1264) /content/gdrive/MyDrive/FIAP/Hackathon/video.mp4: 384x640 (no detections), 10.7ms\n",
            "video 1/1 (frame 595/1264) /content/gdrive/MyDrive/FIAP/Hackathon/video.mp4: 384x640 (no detections), 10.3ms\n",
            "video 1/1 (frame 596/1264) /content/gdrive/MyDrive/FIAP/Hackathon/video.mp4: 384x640 (no detections), 11.1ms\n",
            "video 1/1 (frame 597/1264) /content/gdrive/MyDrive/FIAP/Hackathon/video.mp4: 384x640 (no detections), 10.7ms\n",
            "video 1/1 (frame 598/1264) /content/gdrive/MyDrive/FIAP/Hackathon/video.mp4: 384x640 1 Knife, 10.5ms\n",
            "video 1/1 (frame 599/1264) /content/gdrive/MyDrive/FIAP/Hackathon/video.mp4: 384x640 1 Knife, 11.1ms\n",
            "video 1/1 (frame 600/1264) /content/gdrive/MyDrive/FIAP/Hackathon/video.mp4: 384x640 1 Knife, 10.5ms\n",
            "video 1/1 (frame 601/1264) /content/gdrive/MyDrive/FIAP/Hackathon/video.mp4: 384x640 1 Knife, 13.2ms\n",
            "video 1/1 (frame 602/1264) /content/gdrive/MyDrive/FIAP/Hackathon/video.mp4: 384x640 1 Knife, 10.4ms\n",
            "video 1/1 (frame 603/1264) /content/gdrive/MyDrive/FIAP/Hackathon/video.mp4: 384x640 1 Knife, 14.0ms\n",
            "video 1/1 (frame 604/1264) /content/gdrive/MyDrive/FIAP/Hackathon/video.mp4: 384x640 1 Knife, 11.1ms\n",
            "video 1/1 (frame 605/1264) /content/gdrive/MyDrive/FIAP/Hackathon/video.mp4: 384x640 1 Knife, 10.8ms\n",
            "video 1/1 (frame 606/1264) /content/gdrive/MyDrive/FIAP/Hackathon/video.mp4: 384x640 (no detections), 10.8ms\n",
            "video 1/1 (frame 607/1264) /content/gdrive/MyDrive/FIAP/Hackathon/video.mp4: 384x640 1 Knife, 11.3ms\n",
            "video 1/1 (frame 608/1264) /content/gdrive/MyDrive/FIAP/Hackathon/video.mp4: 384x640 1 Knife, 11.4ms\n",
            "video 1/1 (frame 609/1264) /content/gdrive/MyDrive/FIAP/Hackathon/video.mp4: 384x640 1 Knife, 11.2ms\n",
            "video 1/1 (frame 610/1264) /content/gdrive/MyDrive/FIAP/Hackathon/video.mp4: 384x640 1 Knife, 11.4ms\n",
            "video 1/1 (frame 611/1264) /content/gdrive/MyDrive/FIAP/Hackathon/video.mp4: 384x640 1 Knife, 11.5ms\n",
            "video 1/1 (frame 612/1264) /content/gdrive/MyDrive/FIAP/Hackathon/video.mp4: 384x640 1 Knife, 11.8ms\n",
            "video 1/1 (frame 613/1264) /content/gdrive/MyDrive/FIAP/Hackathon/video.mp4: 384x640 1 Knife, 11.0ms\n",
            "video 1/1 (frame 614/1264) /content/gdrive/MyDrive/FIAP/Hackathon/video.mp4: 384x640 1 Knife, 10.5ms\n",
            "video 1/1 (frame 615/1264) /content/gdrive/MyDrive/FIAP/Hackathon/video.mp4: 384x640 1 Knife, 11.0ms\n",
            "video 1/1 (frame 616/1264) /content/gdrive/MyDrive/FIAP/Hackathon/video.mp4: 384x640 1 Knife, 10.8ms\n",
            "video 1/1 (frame 617/1264) /content/gdrive/MyDrive/FIAP/Hackathon/video.mp4: 384x640 1 Knife, 10.8ms\n",
            "video 1/1 (frame 618/1264) /content/gdrive/MyDrive/FIAP/Hackathon/video.mp4: 384x640 1 Knife, 11.2ms\n",
            "video 1/1 (frame 619/1264) /content/gdrive/MyDrive/FIAP/Hackathon/video.mp4: 384x640 1 Knife, 13.3ms\n",
            "video 1/1 (frame 620/1264) /content/gdrive/MyDrive/FIAP/Hackathon/video.mp4: 384x640 1 Knife, 10.9ms\n",
            "video 1/1 (frame 621/1264) /content/gdrive/MyDrive/FIAP/Hackathon/video.mp4: 384x640 1 Knife, 10.8ms\n",
            "video 1/1 (frame 622/1264) /content/gdrive/MyDrive/FIAP/Hackathon/video.mp4: 384x640 1 Knife, 11.1ms\n",
            "video 1/1 (frame 623/1264) /content/gdrive/MyDrive/FIAP/Hackathon/video.mp4: 384x640 1 Knife, 11.0ms\n",
            "video 1/1 (frame 624/1264) /content/gdrive/MyDrive/FIAP/Hackathon/video.mp4: 384x640 1 Knife, 11.0ms\n",
            "video 1/1 (frame 625/1264) /content/gdrive/MyDrive/FIAP/Hackathon/video.mp4: 384x640 1 Knife, 11.6ms\n",
            "video 1/1 (frame 626/1264) /content/gdrive/MyDrive/FIAP/Hackathon/video.mp4: 384x640 1 Knife, 10.8ms\n",
            "video 1/1 (frame 627/1264) /content/gdrive/MyDrive/FIAP/Hackathon/video.mp4: 384x640 1 Knife, 11.1ms\n",
            "video 1/1 (frame 628/1264) /content/gdrive/MyDrive/FIAP/Hackathon/video.mp4: 384x640 1 Knife, 10.9ms\n",
            "video 1/1 (frame 629/1264) /content/gdrive/MyDrive/FIAP/Hackathon/video.mp4: 384x640 1 Knife, 11.1ms\n",
            "video 1/1 (frame 630/1264) /content/gdrive/MyDrive/FIAP/Hackathon/video.mp4: 384x640 1 Knife, 12.1ms\n",
            "video 1/1 (frame 631/1264) /content/gdrive/MyDrive/FIAP/Hackathon/video.mp4: 384x640 1 Knife, 14.0ms\n",
            "video 1/1 (frame 632/1264) /content/gdrive/MyDrive/FIAP/Hackathon/video.mp4: 384x640 1 Knife, 11.1ms\n",
            "video 1/1 (frame 633/1264) /content/gdrive/MyDrive/FIAP/Hackathon/video.mp4: 384x640 1 Knife, 13.6ms\n",
            "video 1/1 (frame 634/1264) /content/gdrive/MyDrive/FIAP/Hackathon/video.mp4: 384x640 (no detections), 13.9ms\n",
            "video 1/1 (frame 635/1264) /content/gdrive/MyDrive/FIAP/Hackathon/video.mp4: 384x640 (no detections), 10.7ms\n",
            "video 1/1 (frame 636/1264) /content/gdrive/MyDrive/FIAP/Hackathon/video.mp4: 384x640 (no detections), 11.2ms\n",
            "video 1/1 (frame 637/1264) /content/gdrive/MyDrive/FIAP/Hackathon/video.mp4: 384x640 (no detections), 11.4ms\n",
            "video 1/1 (frame 638/1264) /content/gdrive/MyDrive/FIAP/Hackathon/video.mp4: 384x640 (no detections), 11.5ms\n",
            "video 1/1 (frame 639/1264) /content/gdrive/MyDrive/FIAP/Hackathon/video.mp4: 384x640 1 Knife, 12.4ms\n",
            "video 1/1 (frame 640/1264) /content/gdrive/MyDrive/FIAP/Hackathon/video.mp4: 384x640 (no detections), 11.7ms\n",
            "video 1/1 (frame 641/1264) /content/gdrive/MyDrive/FIAP/Hackathon/video.mp4: 384x640 (no detections), 10.4ms\n",
            "video 1/1 (frame 642/1264) /content/gdrive/MyDrive/FIAP/Hackathon/video.mp4: 384x640 (no detections), 16.1ms\n",
            "video 1/1 (frame 643/1264) /content/gdrive/MyDrive/FIAP/Hackathon/video.mp4: 384x640 (no detections), 10.8ms\n",
            "video 1/1 (frame 644/1264) /content/gdrive/MyDrive/FIAP/Hackathon/video.mp4: 384x640 (no detections), 11.0ms\n",
            "video 1/1 (frame 645/1264) /content/gdrive/MyDrive/FIAP/Hackathon/video.mp4: 384x640 (no detections), 11.0ms\n",
            "video 1/1 (frame 646/1264) /content/gdrive/MyDrive/FIAP/Hackathon/video.mp4: 384x640 (no detections), 10.6ms\n",
            "video 1/1 (frame 647/1264) /content/gdrive/MyDrive/FIAP/Hackathon/video.mp4: 384x640 (no detections), 11.4ms\n",
            "video 1/1 (frame 648/1264) /content/gdrive/MyDrive/FIAP/Hackathon/video.mp4: 384x640 (no detections), 10.8ms\n",
            "video 1/1 (frame 649/1264) /content/gdrive/MyDrive/FIAP/Hackathon/video.mp4: 384x640 (no detections), 13.3ms\n",
            "video 1/1 (frame 650/1264) /content/gdrive/MyDrive/FIAP/Hackathon/video.mp4: 384x640 1 Knife, 11.1ms\n",
            "video 1/1 (frame 651/1264) /content/gdrive/MyDrive/FIAP/Hackathon/video.mp4: 384x640 1 Knife, 11.2ms\n",
            "video 1/1 (frame 652/1264) /content/gdrive/MyDrive/FIAP/Hackathon/video.mp4: 384x640 (no detections), 11.2ms\n",
            "video 1/1 (frame 653/1264) /content/gdrive/MyDrive/FIAP/Hackathon/video.mp4: 384x640 (no detections), 11.0ms\n",
            "video 1/1 (frame 654/1264) /content/gdrive/MyDrive/FIAP/Hackathon/video.mp4: 384x640 (no detections), 11.0ms\n",
            "video 1/1 (frame 655/1264) /content/gdrive/MyDrive/FIAP/Hackathon/video.mp4: 384x640 (no detections), 15.4ms\n",
            "video 1/1 (frame 656/1264) /content/gdrive/MyDrive/FIAP/Hackathon/video.mp4: 384x640 (no detections), 11.4ms\n",
            "video 1/1 (frame 657/1264) /content/gdrive/MyDrive/FIAP/Hackathon/video.mp4: 384x640 (no detections), 13.9ms\n",
            "video 1/1 (frame 658/1264) /content/gdrive/MyDrive/FIAP/Hackathon/video.mp4: 384x640 (no detections), 10.8ms\n",
            "video 1/1 (frame 659/1264) /content/gdrive/MyDrive/FIAP/Hackathon/video.mp4: 384x640 (no detections), 10.8ms\n",
            "video 1/1 (frame 660/1264) /content/gdrive/MyDrive/FIAP/Hackathon/video.mp4: 384x640 1 Knife, 11.1ms\n",
            "video 1/1 (frame 661/1264) /content/gdrive/MyDrive/FIAP/Hackathon/video.mp4: 384x640 1 Knife, 14.7ms\n",
            "video 1/1 (frame 662/1264) /content/gdrive/MyDrive/FIAP/Hackathon/video.mp4: 384x640 1 Knife, 10.9ms\n",
            "video 1/1 (frame 663/1264) /content/gdrive/MyDrive/FIAP/Hackathon/video.mp4: 384x640 1 Knife, 10.7ms\n",
            "video 1/1 (frame 664/1264) /content/gdrive/MyDrive/FIAP/Hackathon/video.mp4: 384x640 (no detections), 10.6ms\n",
            "video 1/1 (frame 665/1264) /content/gdrive/MyDrive/FIAP/Hackathon/video.mp4: 384x640 1 Knife, 10.6ms\n",
            "video 1/1 (frame 666/1264) /content/gdrive/MyDrive/FIAP/Hackathon/video.mp4: 384x640 1 Knife, 10.8ms\n",
            "video 1/1 (frame 667/1264) /content/gdrive/MyDrive/FIAP/Hackathon/video.mp4: 384x640 (no detections), 11.1ms\n",
            "video 1/1 (frame 668/1264) /content/gdrive/MyDrive/FIAP/Hackathon/video.mp4: 384x640 (no detections), 10.7ms\n",
            "video 1/1 (frame 669/1264) /content/gdrive/MyDrive/FIAP/Hackathon/video.mp4: 384x640 (no detections), 10.8ms\n",
            "video 1/1 (frame 670/1264) /content/gdrive/MyDrive/FIAP/Hackathon/video.mp4: 384x640 1 Knife, 10.8ms\n",
            "video 1/1 (frame 671/1264) /content/gdrive/MyDrive/FIAP/Hackathon/video.mp4: 384x640 1 Knife, 10.9ms\n",
            "video 1/1 (frame 672/1264) /content/gdrive/MyDrive/FIAP/Hackathon/video.mp4: 384x640 1 Knife, 10.3ms\n",
            "video 1/1 (frame 673/1264) /content/gdrive/MyDrive/FIAP/Hackathon/video.mp4: 384x640 1 Knife, 10.3ms\n",
            "video 1/1 (frame 674/1264) /content/gdrive/MyDrive/FIAP/Hackathon/video.mp4: 384x640 1 Knife, 13.9ms\n",
            "video 1/1 (frame 675/1264) /content/gdrive/MyDrive/FIAP/Hackathon/video.mp4: 384x640 1 Gun, 1 Knife, 14.9ms\n",
            "video 1/1 (frame 676/1264) /content/gdrive/MyDrive/FIAP/Hackathon/video.mp4: 384x640 1 Gun, 1 Knife, 15.1ms\n",
            "video 1/1 (frame 677/1264) /content/gdrive/MyDrive/FIAP/Hackathon/video.mp4: 384x640 1 Gun, 14.9ms\n",
            "video 1/1 (frame 678/1264) /content/gdrive/MyDrive/FIAP/Hackathon/video.mp4: 384x640 1 Gun, 11.2ms\n",
            "video 1/1 (frame 679/1264) /content/gdrive/MyDrive/FIAP/Hackathon/video.mp4: 384x640 1 Gun, 10.9ms\n",
            "video 1/1 (frame 680/1264) /content/gdrive/MyDrive/FIAP/Hackathon/video.mp4: 384x640 1 Gun, 1 Pistol, 10.7ms\n",
            "video 1/1 (frame 681/1264) /content/gdrive/MyDrive/FIAP/Hackathon/video.mp4: 384x640 1 Gun, 1 Pistol, 10.6ms\n",
            "video 1/1 (frame 682/1264) /content/gdrive/MyDrive/FIAP/Hackathon/video.mp4: 384x640 1 Gun, 11.9ms\n",
            "video 1/1 (frame 683/1264) /content/gdrive/MyDrive/FIAP/Hackathon/video.mp4: 384x640 1 Gun, 11.0ms\n",
            "video 1/1 (frame 684/1264) /content/gdrive/MyDrive/FIAP/Hackathon/video.mp4: 384x640 1 Gun, 11.1ms\n",
            "video 1/1 (frame 685/1264) /content/gdrive/MyDrive/FIAP/Hackathon/video.mp4: 384x640 1 Gun, 14.8ms\n",
            "video 1/1 (frame 686/1264) /content/gdrive/MyDrive/FIAP/Hackathon/video.mp4: 384x640 1 Gun, 11.1ms\n",
            "video 1/1 (frame 687/1264) /content/gdrive/MyDrive/FIAP/Hackathon/video.mp4: 384x640 1 Gun, 11.1ms\n",
            "video 1/1 (frame 688/1264) /content/gdrive/MyDrive/FIAP/Hackathon/video.mp4: 384x640 1 Gun, 1 Knife, 11.1ms\n",
            "video 1/1 (frame 689/1264) /content/gdrive/MyDrive/FIAP/Hackathon/video.mp4: 384x640 1 Gun, 1 Knife, 10.4ms\n",
            "video 1/1 (frame 690/1264) /content/gdrive/MyDrive/FIAP/Hackathon/video.mp4: 384x640 1 Gun, 1 Knife, 11.1ms\n",
            "video 1/1 (frame 691/1264) /content/gdrive/MyDrive/FIAP/Hackathon/video.mp4: 384x640 1 Gun, 1 Knife, 11.1ms\n",
            "video 1/1 (frame 692/1264) /content/gdrive/MyDrive/FIAP/Hackathon/video.mp4: 384x640 1 Gun, 10.8ms\n",
            "video 1/1 (frame 693/1264) /content/gdrive/MyDrive/FIAP/Hackathon/video.mp4: 384x640 1 Gun, 11.0ms\n",
            "video 1/1 (frame 694/1264) /content/gdrive/MyDrive/FIAP/Hackathon/video.mp4: 384x640 1 Gun, 14.7ms\n",
            "video 1/1 (frame 695/1264) /content/gdrive/MyDrive/FIAP/Hackathon/video.mp4: 384x640 1 Gun, 10.8ms\n",
            "video 1/1 (frame 696/1264) /content/gdrive/MyDrive/FIAP/Hackathon/video.mp4: 384x640 1 Gun, 10.3ms\n",
            "video 1/1 (frame 697/1264) /content/gdrive/MyDrive/FIAP/Hackathon/video.mp4: 384x640 1 Gun, 10.8ms\n",
            "video 1/1 (frame 698/1264) /content/gdrive/MyDrive/FIAP/Hackathon/video.mp4: 384x640 1 Gun, 10.9ms\n",
            "video 1/1 (frame 699/1264) /content/gdrive/MyDrive/FIAP/Hackathon/video.mp4: 384x640 1 Gun, 10.9ms\n",
            "video 1/1 (frame 700/1264) /content/gdrive/MyDrive/FIAP/Hackathon/video.mp4: 384x640 1 Gun, 10.7ms\n",
            "video 1/1 (frame 701/1264) /content/gdrive/MyDrive/FIAP/Hackathon/video.mp4: 384x640 1 Gun, 11.0ms\n",
            "video 1/1 (frame 702/1264) /content/gdrive/MyDrive/FIAP/Hackathon/video.mp4: 384x640 1 Gun, 11.1ms\n",
            "video 1/1 (frame 703/1264) /content/gdrive/MyDrive/FIAP/Hackathon/video.mp4: 384x640 1 Gun, 10.5ms\n",
            "video 1/1 (frame 704/1264) /content/gdrive/MyDrive/FIAP/Hackathon/video.mp4: 384x640 1 Gun, 11.1ms\n",
            "video 1/1 (frame 705/1264) /content/gdrive/MyDrive/FIAP/Hackathon/video.mp4: 384x640 1 Gun, 11.0ms\n",
            "video 1/1 (frame 706/1264) /content/gdrive/MyDrive/FIAP/Hackathon/video.mp4: 384x640 1 Gun, 10.4ms\n",
            "video 1/1 (frame 707/1264) /content/gdrive/MyDrive/FIAP/Hackathon/video.mp4: 384x640 1 Gun, 12.1ms\n",
            "video 1/1 (frame 708/1264) /content/gdrive/MyDrive/FIAP/Hackathon/video.mp4: 384x640 (no detections), 11.5ms\n",
            "video 1/1 (frame 709/1264) /content/gdrive/MyDrive/FIAP/Hackathon/video.mp4: 384x640 (no detections), 11.2ms\n",
            "video 1/1 (frame 710/1264) /content/gdrive/MyDrive/FIAP/Hackathon/video.mp4: 384x640 (no detections), 10.7ms\n",
            "video 1/1 (frame 711/1264) /content/gdrive/MyDrive/FIAP/Hackathon/video.mp4: 384x640 (no detections), 11.1ms\n",
            "video 1/1 (frame 712/1264) /content/gdrive/MyDrive/FIAP/Hackathon/video.mp4: 384x640 (no detections), 10.2ms\n",
            "video 1/1 (frame 713/1264) /content/gdrive/MyDrive/FIAP/Hackathon/video.mp4: 384x640 (no detections), 14.6ms\n",
            "video 1/1 (frame 714/1264) /content/gdrive/MyDrive/FIAP/Hackathon/video.mp4: 384x640 (no detections), 10.7ms\n",
            "video 1/1 (frame 715/1264) /content/gdrive/MyDrive/FIAP/Hackathon/video.mp4: 384x640 (no detections), 10.5ms\n",
            "video 1/1 (frame 716/1264) /content/gdrive/MyDrive/FIAP/Hackathon/video.mp4: 384x640 (no detections), 10.4ms\n",
            "video 1/1 (frame 717/1264) /content/gdrive/MyDrive/FIAP/Hackathon/video.mp4: 384x640 (no detections), 10.7ms\n",
            "video 1/1 (frame 718/1264) /content/gdrive/MyDrive/FIAP/Hackathon/video.mp4: 384x640 (no detections), 10.3ms\n",
            "video 1/1 (frame 719/1264) /content/gdrive/MyDrive/FIAP/Hackathon/video.mp4: 384x640 (no detections), 10.8ms\n",
            "video 1/1 (frame 720/1264) /content/gdrive/MyDrive/FIAP/Hackathon/video.mp4: 384x640 (no detections), 10.6ms\n",
            "video 1/1 (frame 721/1264) /content/gdrive/MyDrive/FIAP/Hackathon/video.mp4: 384x640 (no detections), 10.4ms\n",
            "video 1/1 (frame 722/1264) /content/gdrive/MyDrive/FIAP/Hackathon/video.mp4: 384x640 (no detections), 10.4ms\n",
            "video 1/1 (frame 723/1264) /content/gdrive/MyDrive/FIAP/Hackathon/video.mp4: 384x640 (no detections), 10.4ms\n",
            "video 1/1 (frame 724/1264) /content/gdrive/MyDrive/FIAP/Hackathon/video.mp4: 384x640 (no detections), 11.1ms\n",
            "video 1/1 (frame 725/1264) /content/gdrive/MyDrive/FIAP/Hackathon/video.mp4: 384x640 (no detections), 13.7ms\n",
            "video 1/1 (frame 726/1264) /content/gdrive/MyDrive/FIAP/Hackathon/video.mp4: 384x640 (no detections), 12.6ms\n",
            "video 1/1 (frame 727/1264) /content/gdrive/MyDrive/FIAP/Hackathon/video.mp4: 384x640 (no detections), 11.3ms\n",
            "video 1/1 (frame 728/1264) /content/gdrive/MyDrive/FIAP/Hackathon/video.mp4: 384x640 1 Knife, 11.3ms\n",
            "video 1/1 (frame 729/1264) /content/gdrive/MyDrive/FIAP/Hackathon/video.mp4: 384x640 1 Knife, 11.1ms\n",
            "video 1/1 (frame 730/1264) /content/gdrive/MyDrive/FIAP/Hackathon/video.mp4: 384x640 1 Knife, 11.9ms\n",
            "video 1/1 (frame 731/1264) /content/gdrive/MyDrive/FIAP/Hackathon/video.mp4: 384x640 1 Knife, 11.8ms\n",
            "video 1/1 (frame 732/1264) /content/gdrive/MyDrive/FIAP/Hackathon/video.mp4: 384x640 1 Knife, 16.1ms\n",
            "video 1/1 (frame 733/1264) /content/gdrive/MyDrive/FIAP/Hackathon/video.mp4: 384x640 1 Knife, 10.8ms\n",
            "video 1/1 (frame 734/1264) /content/gdrive/MyDrive/FIAP/Hackathon/video.mp4: 384x640 1 Knife, 10.8ms\n",
            "video 1/1 (frame 735/1264) /content/gdrive/MyDrive/FIAP/Hackathon/video.mp4: 384x640 1 Knife, 10.7ms\n",
            "video 1/1 (frame 736/1264) /content/gdrive/MyDrive/FIAP/Hackathon/video.mp4: 384x640 2 Knifes, 13.0ms\n",
            "video 1/1 (frame 737/1264) /content/gdrive/MyDrive/FIAP/Hackathon/video.mp4: 384x640 1 Knife, 11.0ms\n",
            "video 1/1 (frame 738/1264) /content/gdrive/MyDrive/FIAP/Hackathon/video.mp4: 384x640 1 Knife, 11.0ms\n",
            "video 1/1 (frame 739/1264) /content/gdrive/MyDrive/FIAP/Hackathon/video.mp4: 384x640 1 Knife, 10.6ms\n",
            "video 1/1 (frame 740/1264) /content/gdrive/MyDrive/FIAP/Hackathon/video.mp4: 384x640 (no detections), 10.7ms\n",
            "video 1/1 (frame 741/1264) /content/gdrive/MyDrive/FIAP/Hackathon/video.mp4: 384x640 (no detections), 10.5ms\n",
            "video 1/1 (frame 742/1264) /content/gdrive/MyDrive/FIAP/Hackathon/video.mp4: 384x640 1 Knife, 10.6ms\n",
            "video 1/1 (frame 743/1264) /content/gdrive/MyDrive/FIAP/Hackathon/video.mp4: 384x640 (no detections), 10.5ms\n",
            "video 1/1 (frame 744/1264) /content/gdrive/MyDrive/FIAP/Hackathon/video.mp4: 384x640 (no detections), 13.0ms\n",
            "video 1/1 (frame 745/1264) /content/gdrive/MyDrive/FIAP/Hackathon/video.mp4: 384x640 (no detections), 12.4ms\n",
            "video 1/1 (frame 746/1264) /content/gdrive/MyDrive/FIAP/Hackathon/video.mp4: 384x640 (no detections), 11.3ms\n",
            "video 1/1 (frame 747/1264) /content/gdrive/MyDrive/FIAP/Hackathon/video.mp4: 384x640 (no detections), 11.7ms\n",
            "video 1/1 (frame 748/1264) /content/gdrive/MyDrive/FIAP/Hackathon/video.mp4: 384x640 (no detections), 10.5ms\n",
            "video 1/1 (frame 749/1264) /content/gdrive/MyDrive/FIAP/Hackathon/video.mp4: 384x640 (no detections), 10.7ms\n",
            "video 1/1 (frame 750/1264) /content/gdrive/MyDrive/FIAP/Hackathon/video.mp4: 384x640 (no detections), 10.4ms\n",
            "video 1/1 (frame 751/1264) /content/gdrive/MyDrive/FIAP/Hackathon/video.mp4: 384x640 (no detections), 10.6ms\n",
            "video 1/1 (frame 752/1264) /content/gdrive/MyDrive/FIAP/Hackathon/video.mp4: 384x640 (no detections), 10.4ms\n",
            "video 1/1 (frame 753/1264) /content/gdrive/MyDrive/FIAP/Hackathon/video.mp4: 384x640 (no detections), 10.3ms\n",
            "video 1/1 (frame 754/1264) /content/gdrive/MyDrive/FIAP/Hackathon/video.mp4: 384x640 (no detections), 10.2ms\n",
            "video 1/1 (frame 755/1264) /content/gdrive/MyDrive/FIAP/Hackathon/video.mp4: 384x640 (no detections), 10.4ms\n",
            "video 1/1 (frame 756/1264) /content/gdrive/MyDrive/FIAP/Hackathon/video.mp4: 384x640 (no detections), 10.4ms\n",
            "video 1/1 (frame 757/1264) /content/gdrive/MyDrive/FIAP/Hackathon/video.mp4: 384x640 (no detections), 10.4ms\n",
            "video 1/1 (frame 758/1264) /content/gdrive/MyDrive/FIAP/Hackathon/video.mp4: 384x640 (no detections), 10.6ms\n",
            "video 1/1 (frame 759/1264) /content/gdrive/MyDrive/FIAP/Hackathon/video.mp4: 384x640 (no detections), 11.1ms\n",
            "video 1/1 (frame 760/1264) /content/gdrive/MyDrive/FIAP/Hackathon/video.mp4: 384x640 (no detections), 13.3ms\n",
            "video 1/1 (frame 761/1264) /content/gdrive/MyDrive/FIAP/Hackathon/video.mp4: 384x640 (no detections), 10.8ms\n",
            "video 1/1 (frame 762/1264) /content/gdrive/MyDrive/FIAP/Hackathon/video.mp4: 384x640 (no detections), 10.3ms\n",
            "video 1/1 (frame 763/1264) /content/gdrive/MyDrive/FIAP/Hackathon/video.mp4: 384x640 (no detections), 13.0ms\n",
            "video 1/1 (frame 764/1264) /content/gdrive/MyDrive/FIAP/Hackathon/video.mp4: 384x640 (no detections), 10.4ms\n",
            "video 1/1 (frame 765/1264) /content/gdrive/MyDrive/FIAP/Hackathon/video.mp4: 384x640 (no detections), 10.2ms\n",
            "video 1/1 (frame 766/1264) /content/gdrive/MyDrive/FIAP/Hackathon/video.mp4: 384x640 (no detections), 10.1ms\n",
            "video 1/1 (frame 767/1264) /content/gdrive/MyDrive/FIAP/Hackathon/video.mp4: 384x640 (no detections), 10.4ms\n",
            "video 1/1 (frame 768/1264) /content/gdrive/MyDrive/FIAP/Hackathon/video.mp4: 384x640 (no detections), 10.2ms\n",
            "video 1/1 (frame 769/1264) /content/gdrive/MyDrive/FIAP/Hackathon/video.mp4: 384x640 (no detections), 10.2ms\n",
            "video 1/1 (frame 770/1264) /content/gdrive/MyDrive/FIAP/Hackathon/video.mp4: 384x640 (no detections), 10.2ms\n",
            "video 1/1 (frame 771/1264) /content/gdrive/MyDrive/FIAP/Hackathon/video.mp4: 384x640 (no detections), 10.2ms\n",
            "video 1/1 (frame 772/1264) /content/gdrive/MyDrive/FIAP/Hackathon/video.mp4: 384x640 (no detections), 12.6ms\n",
            "video 1/1 (frame 773/1264) /content/gdrive/MyDrive/FIAP/Hackathon/video.mp4: 384x640 (no detections), 10.8ms\n",
            "video 1/1 (frame 774/1264) /content/gdrive/MyDrive/FIAP/Hackathon/video.mp4: 384x640 (no detections), 10.7ms\n",
            "video 1/1 (frame 775/1264) /content/gdrive/MyDrive/FIAP/Hackathon/video.mp4: 384x640 (no detections), 12.8ms\n",
            "video 1/1 (frame 776/1264) /content/gdrive/MyDrive/FIAP/Hackathon/video.mp4: 384x640 (no detections), 10.7ms\n",
            "video 1/1 (frame 777/1264) /content/gdrive/MyDrive/FIAP/Hackathon/video.mp4: 384x640 (no detections), 10.2ms\n",
            "video 1/1 (frame 778/1264) /content/gdrive/MyDrive/FIAP/Hackathon/video.mp4: 384x640 (no detections), 10.3ms\n",
            "video 1/1 (frame 779/1264) /content/gdrive/MyDrive/FIAP/Hackathon/video.mp4: 384x640 (no detections), 10.4ms\n",
            "video 1/1 (frame 780/1264) /content/gdrive/MyDrive/FIAP/Hackathon/video.mp4: 384x640 (no detections), 10.5ms\n",
            "video 1/1 (frame 781/1264) /content/gdrive/MyDrive/FIAP/Hackathon/video.mp4: 384x640 (no detections), 10.4ms\n",
            "video 1/1 (frame 782/1264) /content/gdrive/MyDrive/FIAP/Hackathon/video.mp4: 384x640 (no detections), 10.6ms\n",
            "video 1/1 (frame 783/1264) /content/gdrive/MyDrive/FIAP/Hackathon/video.mp4: 384x640 (no detections), 10.5ms\n",
            "video 1/1 (frame 784/1264) /content/gdrive/MyDrive/FIAP/Hackathon/video.mp4: 384x640 (no detections), 13.9ms\n",
            "video 1/1 (frame 785/1264) /content/gdrive/MyDrive/FIAP/Hackathon/video.mp4: 384x640 (no detections), 10.5ms\n",
            "video 1/1 (frame 786/1264) /content/gdrive/MyDrive/FIAP/Hackathon/video.mp4: 384x640 (no detections), 10.5ms\n",
            "video 1/1 (frame 787/1264) /content/gdrive/MyDrive/FIAP/Hackathon/video.mp4: 384x640 (no detections), 15.5ms\n",
            "video 1/1 (frame 788/1264) /content/gdrive/MyDrive/FIAP/Hackathon/video.mp4: 384x640 (no detections), 10.9ms\n",
            "video 1/1 (frame 789/1264) /content/gdrive/MyDrive/FIAP/Hackathon/video.mp4: 384x640 (no detections), 10.3ms\n",
            "video 1/1 (frame 790/1264) /content/gdrive/MyDrive/FIAP/Hackathon/video.mp4: 384x640 (no detections), 11.4ms\n",
            "video 1/1 (frame 791/1264) /content/gdrive/MyDrive/FIAP/Hackathon/video.mp4: 384x640 (no detections), 10.4ms\n",
            "video 1/1 (frame 792/1264) /content/gdrive/MyDrive/FIAP/Hackathon/video.mp4: 384x640 (no detections), 10.8ms\n",
            "video 1/1 (frame 793/1264) /content/gdrive/MyDrive/FIAP/Hackathon/video.mp4: 384x640 (no detections), 10.7ms\n",
            "video 1/1 (frame 794/1264) /content/gdrive/MyDrive/FIAP/Hackathon/video.mp4: 384x640 (no detections), 10.4ms\n",
            "video 1/1 (frame 795/1264) /content/gdrive/MyDrive/FIAP/Hackathon/video.mp4: 384x640 (no detections), 11.2ms\n",
            "video 1/1 (frame 796/1264) /content/gdrive/MyDrive/FIAP/Hackathon/video.mp4: 384x640 (no detections), 14.5ms\n",
            "video 1/1 (frame 797/1264) /content/gdrive/MyDrive/FIAP/Hackathon/video.mp4: 384x640 1 Knife, 10.6ms\n",
            "video 1/1 (frame 798/1264) /content/gdrive/MyDrive/FIAP/Hackathon/video.mp4: 384x640 (no detections), 10.7ms\n",
            "video 1/1 (frame 799/1264) /content/gdrive/MyDrive/FIAP/Hackathon/video.mp4: 384x640 (no detections), 13.4ms\n",
            "video 1/1 (frame 800/1264) /content/gdrive/MyDrive/FIAP/Hackathon/video.mp4: 384x640 (no detections), 13.4ms\n",
            "video 1/1 (frame 801/1264) /content/gdrive/MyDrive/FIAP/Hackathon/video.mp4: 384x640 (no detections), 10.4ms\n",
            "video 1/1 (frame 802/1264) /content/gdrive/MyDrive/FIAP/Hackathon/video.mp4: 384x640 (no detections), 10.4ms\n",
            "video 1/1 (frame 803/1264) /content/gdrive/MyDrive/FIAP/Hackathon/video.mp4: 384x640 (no detections), 10.4ms\n",
            "video 1/1 (frame 804/1264) /content/gdrive/MyDrive/FIAP/Hackathon/video.mp4: 384x640 (no detections), 10.3ms\n",
            "video 1/1 (frame 805/1264) /content/gdrive/MyDrive/FIAP/Hackathon/video.mp4: 384x640 (no detections), 10.4ms\n",
            "video 1/1 (frame 806/1264) /content/gdrive/MyDrive/FIAP/Hackathon/video.mp4: 384x640 (no detections), 12.8ms\n",
            "video 1/1 (frame 807/1264) /content/gdrive/MyDrive/FIAP/Hackathon/video.mp4: 384x640 (no detections), 10.5ms\n",
            "video 1/1 (frame 808/1264) /content/gdrive/MyDrive/FIAP/Hackathon/video.mp4: 384x640 (no detections), 10.3ms\n",
            "video 1/1 (frame 809/1264) /content/gdrive/MyDrive/FIAP/Hackathon/video.mp4: 384x640 (no detections), 10.4ms\n",
            "video 1/1 (frame 810/1264) /content/gdrive/MyDrive/FIAP/Hackathon/video.mp4: 384x640 (no detections), 10.5ms\n",
            "video 1/1 (frame 811/1264) /content/gdrive/MyDrive/FIAP/Hackathon/video.mp4: 384x640 (no detections), 10.5ms\n",
            "video 1/1 (frame 812/1264) /content/gdrive/MyDrive/FIAP/Hackathon/video.mp4: 384x640 (no detections), 10.7ms\n",
            "video 1/1 (frame 813/1264) /content/gdrive/MyDrive/FIAP/Hackathon/video.mp4: 384x640 (no detections), 10.6ms\n",
            "video 1/1 (frame 814/1264) /content/gdrive/MyDrive/FIAP/Hackathon/video.mp4: 384x640 (no detections), 10.5ms\n",
            "video 1/1 (frame 815/1264) /content/gdrive/MyDrive/FIAP/Hackathon/video.mp4: 384x640 (no detections), 10.4ms\n",
            "video 1/1 (frame 816/1264) /content/gdrive/MyDrive/FIAP/Hackathon/video.mp4: 384x640 (no detections), 11.0ms\n",
            "video 1/1 (frame 817/1264) /content/gdrive/MyDrive/FIAP/Hackathon/video.mp4: 384x640 (no detections), 10.9ms\n",
            "video 1/1 (frame 818/1264) /content/gdrive/MyDrive/FIAP/Hackathon/video.mp4: 384x640 (no detections), 13.4ms\n",
            "video 1/1 (frame 819/1264) /content/gdrive/MyDrive/FIAP/Hackathon/video.mp4: 384x640 (no detections), 10.4ms\n",
            "video 1/1 (frame 820/1264) /content/gdrive/MyDrive/FIAP/Hackathon/video.mp4: 384x640 1 Knife, 10.5ms\n",
            "video 1/1 (frame 821/1264) /content/gdrive/MyDrive/FIAP/Hackathon/video.mp4: 384x640 (no detections), 11.4ms\n",
            "video 1/1 (frame 822/1264) /content/gdrive/MyDrive/FIAP/Hackathon/video.mp4: 384x640 (no detections), 10.4ms\n",
            "video 1/1 (frame 823/1264) /content/gdrive/MyDrive/FIAP/Hackathon/video.mp4: 384x640 (no detections), 10.5ms\n",
            "video 1/1 (frame 824/1264) /content/gdrive/MyDrive/FIAP/Hackathon/video.mp4: 384x640 (no detections), 10.4ms\n",
            "video 1/1 (frame 825/1264) /content/gdrive/MyDrive/FIAP/Hackathon/video.mp4: 384x640 (no detections), 10.6ms\n",
            "video 1/1 (frame 826/1264) /content/gdrive/MyDrive/FIAP/Hackathon/video.mp4: 384x640 (no detections), 10.4ms\n",
            "video 1/1 (frame 827/1264) /content/gdrive/MyDrive/FIAP/Hackathon/video.mp4: 384x640 (no detections), 14.8ms\n",
            "video 1/1 (frame 828/1264) /content/gdrive/MyDrive/FIAP/Hackathon/video.mp4: 384x640 (no detections), 10.6ms\n",
            "video 1/1 (frame 829/1264) /content/gdrive/MyDrive/FIAP/Hackathon/video.mp4: 384x640 (no detections), 10.5ms\n",
            "video 1/1 (frame 830/1264) /content/gdrive/MyDrive/FIAP/Hackathon/video.mp4: 384x640 (no detections), 14.9ms\n",
            "video 1/1 (frame 831/1264) /content/gdrive/MyDrive/FIAP/Hackathon/video.mp4: 384x640 (no detections), 10.3ms\n",
            "video 1/1 (frame 832/1264) /content/gdrive/MyDrive/FIAP/Hackathon/video.mp4: 384x640 (no detections), 10.6ms\n",
            "video 1/1 (frame 833/1264) /content/gdrive/MyDrive/FIAP/Hackathon/video.mp4: 384x640 (no detections), 11.6ms\n",
            "video 1/1 (frame 834/1264) /content/gdrive/MyDrive/FIAP/Hackathon/video.mp4: 384x640 (no detections), 10.7ms\n",
            "video 1/1 (frame 835/1264) /content/gdrive/MyDrive/FIAP/Hackathon/video.mp4: 384x640 (no detections), 10.2ms\n",
            "video 1/1 (frame 836/1264) /content/gdrive/MyDrive/FIAP/Hackathon/video.mp4: 384x640 (no detections), 10.1ms\n",
            "video 1/1 (frame 837/1264) /content/gdrive/MyDrive/FIAP/Hackathon/video.mp4: 384x640 (no detections), 10.4ms\n",
            "video 1/1 (frame 838/1264) /content/gdrive/MyDrive/FIAP/Hackathon/video.mp4: 384x640 (no detections), 10.4ms\n",
            "video 1/1 (frame 839/1264) /content/gdrive/MyDrive/FIAP/Hackathon/video.mp4: 384x640 (no detections), 11.0ms\n",
            "video 1/1 (frame 840/1264) /content/gdrive/MyDrive/FIAP/Hackathon/video.mp4: 384x640 (no detections), 10.9ms\n",
            "video 1/1 (frame 841/1264) /content/gdrive/MyDrive/FIAP/Hackathon/video.mp4: 384x640 (no detections), 10.3ms\n",
            "video 1/1 (frame 842/1264) /content/gdrive/MyDrive/FIAP/Hackathon/video.mp4: 384x640 (no detections), 14.1ms\n",
            "video 1/1 (frame 843/1264) /content/gdrive/MyDrive/FIAP/Hackathon/video.mp4: 384x640 (no detections), 10.6ms\n",
            "video 1/1 (frame 844/1264) /content/gdrive/MyDrive/FIAP/Hackathon/video.mp4: 384x640 (no detections), 10.1ms\n",
            "video 1/1 (frame 845/1264) /content/gdrive/MyDrive/FIAP/Hackathon/video.mp4: 384x640 (no detections), 10.3ms\n",
            "video 1/1 (frame 846/1264) /content/gdrive/MyDrive/FIAP/Hackathon/video.mp4: 384x640 (no detections), 10.9ms\n",
            "video 1/1 (frame 847/1264) /content/gdrive/MyDrive/FIAP/Hackathon/video.mp4: 384x640 (no detections), 10.6ms\n",
            "video 1/1 (frame 848/1264) /content/gdrive/MyDrive/FIAP/Hackathon/video.mp4: 384x640 (no detections), 10.1ms\n",
            "video 1/1 (frame 849/1264) /content/gdrive/MyDrive/FIAP/Hackathon/video.mp4: 384x640 (no detections), 10.3ms\n",
            "video 1/1 (frame 850/1264) /content/gdrive/MyDrive/FIAP/Hackathon/video.mp4: 384x640 (no detections), 10.2ms\n",
            "video 1/1 (frame 851/1264) /content/gdrive/MyDrive/FIAP/Hackathon/video.mp4: 384x640 (no detections), 10.2ms\n",
            "video 1/1 (frame 852/1264) /content/gdrive/MyDrive/FIAP/Hackathon/video.mp4: 384x640 (no detections), 11.3ms\n",
            "video 1/1 (frame 853/1264) /content/gdrive/MyDrive/FIAP/Hackathon/video.mp4: 384x640 (no detections), 10.2ms\n",
            "video 1/1 (frame 854/1264) /content/gdrive/MyDrive/FIAP/Hackathon/video.mp4: 384x640 (no detections), 14.7ms\n",
            "video 1/1 (frame 855/1264) /content/gdrive/MyDrive/FIAP/Hackathon/video.mp4: 384x640 1 Knife, 10.6ms\n",
            "video 1/1 (frame 856/1264) /content/gdrive/MyDrive/FIAP/Hackathon/video.mp4: 384x640 1 Knife, 10.4ms\n",
            "video 1/1 (frame 857/1264) /content/gdrive/MyDrive/FIAP/Hackathon/video.mp4: 384x640 (no detections), 10.4ms\n",
            "video 1/1 (frame 858/1264) /content/gdrive/MyDrive/FIAP/Hackathon/video.mp4: 384x640 (no detections), 11.9ms\n",
            "video 1/1 (frame 859/1264) /content/gdrive/MyDrive/FIAP/Hackathon/video.mp4: 384x640 (no detections), 10.7ms\n",
            "video 1/1 (frame 860/1264) /content/gdrive/MyDrive/FIAP/Hackathon/video.mp4: 384x640 1 Knife, 10.6ms\n",
            "video 1/1 (frame 861/1264) /content/gdrive/MyDrive/FIAP/Hackathon/video.mp4: 384x640 (no detections), 10.2ms\n",
            "video 1/1 (frame 862/1264) /content/gdrive/MyDrive/FIAP/Hackathon/video.mp4: 384x640 (no detections), 10.6ms\n",
            "video 1/1 (frame 863/1264) /content/gdrive/MyDrive/FIAP/Hackathon/video.mp4: 384x640 (no detections), 14.3ms\n",
            "video 1/1 (frame 864/1264) /content/gdrive/MyDrive/FIAP/Hackathon/video.mp4: 384x640 1 Knife, 10.2ms\n",
            "video 1/1 (frame 865/1264) /content/gdrive/MyDrive/FIAP/Hackathon/video.mp4: 384x640 (no detections), 10.7ms\n",
            "video 1/1 (frame 866/1264) /content/gdrive/MyDrive/FIAP/Hackathon/video.mp4: 384x640 1 Knife, 10.5ms\n",
            "video 1/1 (frame 867/1264) /content/gdrive/MyDrive/FIAP/Hackathon/video.mp4: 384x640 2 Knifes, 10.3ms\n",
            "video 1/1 (frame 868/1264) /content/gdrive/MyDrive/FIAP/Hackathon/video.mp4: 384x640 2 Knifes, 10.2ms\n",
            "video 1/1 (frame 869/1264) /content/gdrive/MyDrive/FIAP/Hackathon/video.mp4: 384x640 2 Knifes, 10.3ms\n",
            "video 1/1 (frame 870/1264) /content/gdrive/MyDrive/FIAP/Hackathon/video.mp4: 384x640 (no detections), 10.7ms\n",
            "video 1/1 (frame 871/1264) /content/gdrive/MyDrive/FIAP/Hackathon/video.mp4: 384x640 1 Knife, 10.3ms\n",
            "video 1/1 (frame 872/1264) /content/gdrive/MyDrive/FIAP/Hackathon/video.mp4: 384x640 1 Knife, 10.1ms\n",
            "video 1/1 (frame 873/1264) /content/gdrive/MyDrive/FIAP/Hackathon/video.mp4: 384x640 1 Knife, 10.3ms\n",
            "video 1/1 (frame 874/1264) /content/gdrive/MyDrive/FIAP/Hackathon/video.mp4: 384x640 (no detections), 10.5ms\n",
            "video 1/1 (frame 875/1264) /content/gdrive/MyDrive/FIAP/Hackathon/video.mp4: 384x640 1 Knife, 10.2ms\n",
            "video 1/1 (frame 876/1264) /content/gdrive/MyDrive/FIAP/Hackathon/video.mp4: 384x640 (no detections), 10.3ms\n",
            "video 1/1 (frame 877/1264) /content/gdrive/MyDrive/FIAP/Hackathon/video.mp4: 384x640 (no detections), 10.6ms\n",
            "video 1/1 (frame 878/1264) /content/gdrive/MyDrive/FIAP/Hackathon/video.mp4: 384x640 (no detections), 10.4ms\n",
            "video 1/1 (frame 879/1264) /content/gdrive/MyDrive/FIAP/Hackathon/video.mp4: 384x640 (no detections), 10.2ms\n",
            "video 1/1 (frame 880/1264) /content/gdrive/MyDrive/FIAP/Hackathon/video.mp4: 384x640 (no detections), 10.3ms\n",
            "video 1/1 (frame 881/1264) /content/gdrive/MyDrive/FIAP/Hackathon/video.mp4: 384x640 (no detections), 10.3ms\n",
            "video 1/1 (frame 882/1264) /content/gdrive/MyDrive/FIAP/Hackathon/video.mp4: 384x640 (no detections), 10.4ms\n",
            "video 1/1 (frame 883/1264) /content/gdrive/MyDrive/FIAP/Hackathon/video.mp4: 384x640 (no detections), 10.6ms\n",
            "video 1/1 (frame 884/1264) /content/gdrive/MyDrive/FIAP/Hackathon/video.mp4: 384x640 (no detections), 10.5ms\n",
            "video 1/1 (frame 885/1264) /content/gdrive/MyDrive/FIAP/Hackathon/video.mp4: 384x640 (no detections), 10.5ms\n",
            "video 1/1 (frame 886/1264) /content/gdrive/MyDrive/FIAP/Hackathon/video.mp4: 384x640 (no detections), 10.4ms\n",
            "video 1/1 (frame 887/1264) /content/gdrive/MyDrive/FIAP/Hackathon/video.mp4: 384x640 (no detections), 10.4ms\n",
            "video 1/1 (frame 888/1264) /content/gdrive/MyDrive/FIAP/Hackathon/video.mp4: 384x640 (no detections), 11.1ms\n",
            "video 1/1 (frame 889/1264) /content/gdrive/MyDrive/FIAP/Hackathon/video.mp4: 384x640 1 Pistol, 10.4ms\n",
            "video 1/1 (frame 890/1264) /content/gdrive/MyDrive/FIAP/Hackathon/video.mp4: 384x640 1 Pistol, 10.6ms\n",
            "video 1/1 (frame 891/1264) /content/gdrive/MyDrive/FIAP/Hackathon/video.mp4: 384x640 (no detections), 10.5ms\n",
            "video 1/1 (frame 892/1264) /content/gdrive/MyDrive/FIAP/Hackathon/video.mp4: 384x640 1 Pistol, 10.6ms\n",
            "video 1/1 (frame 893/1264) /content/gdrive/MyDrive/FIAP/Hackathon/video.mp4: 384x640 1 Pistol, 10.8ms\n",
            "video 1/1 (frame 894/1264) /content/gdrive/MyDrive/FIAP/Hackathon/video.mp4: 384x640 1 Pistol, 10.8ms\n",
            "video 1/1 (frame 895/1264) /content/gdrive/MyDrive/FIAP/Hackathon/video.mp4: 384x640 (no detections), 10.4ms\n",
            "video 1/1 (frame 896/1264) /content/gdrive/MyDrive/FIAP/Hackathon/video.mp4: 384x640 (no detections), 10.7ms\n",
            "video 1/1 (frame 897/1264) /content/gdrive/MyDrive/FIAP/Hackathon/video.mp4: 384x640 (no detections), 10.4ms\n",
            "video 1/1 (frame 898/1264) /content/gdrive/MyDrive/FIAP/Hackathon/video.mp4: 384x640 (no detections), 10.6ms\n",
            "video 1/1 (frame 899/1264) /content/gdrive/MyDrive/FIAP/Hackathon/video.mp4: 384x640 (no detections), 10.4ms\n",
            "video 1/1 (frame 900/1264) /content/gdrive/MyDrive/FIAP/Hackathon/video.mp4: 384x640 (no detections), 10.6ms\n",
            "video 1/1 (frame 901/1264) /content/gdrive/MyDrive/FIAP/Hackathon/video.mp4: 384x640 1 Knife, 10.3ms\n",
            "video 1/1 (frame 902/1264) /content/gdrive/MyDrive/FIAP/Hackathon/video.mp4: 384x640 1 Knife, 12.1ms\n",
            "video 1/1 (frame 903/1264) /content/gdrive/MyDrive/FIAP/Hackathon/video.mp4: 384x640 1 Knife, 11.7ms\n",
            "video 1/1 (frame 904/1264) /content/gdrive/MyDrive/FIAP/Hackathon/video.mp4: 384x640 (no detections), 10.4ms\n",
            "video 1/1 (frame 905/1264) /content/gdrive/MyDrive/FIAP/Hackathon/video.mp4: 384x640 (no detections), 10.3ms\n",
            "video 1/1 (frame 906/1264) /content/gdrive/MyDrive/FIAP/Hackathon/video.mp4: 384x640 (no detections), 10.6ms\n",
            "video 1/1 (frame 907/1264) /content/gdrive/MyDrive/FIAP/Hackathon/video.mp4: 384x640 (no detections), 10.5ms\n",
            "video 1/1 (frame 908/1264) /content/gdrive/MyDrive/FIAP/Hackathon/video.mp4: 384x640 (no detections), 10.6ms\n",
            "video 1/1 (frame 909/1264) /content/gdrive/MyDrive/FIAP/Hackathon/video.mp4: 384x640 (no detections), 11.4ms\n",
            "video 1/1 (frame 910/1264) /content/gdrive/MyDrive/FIAP/Hackathon/video.mp4: 384x640 (no detections), 10.7ms\n",
            "video 1/1 (frame 911/1264) /content/gdrive/MyDrive/FIAP/Hackathon/video.mp4: 384x640 (no detections), 11.0ms\n",
            "video 1/1 (frame 912/1264) /content/gdrive/MyDrive/FIAP/Hackathon/video.mp4: 384x640 (no detections), 10.5ms\n",
            "video 1/1 (frame 913/1264) /content/gdrive/MyDrive/FIAP/Hackathon/video.mp4: 384x640 (no detections), 10.7ms\n",
            "video 1/1 (frame 914/1264) /content/gdrive/MyDrive/FIAP/Hackathon/video.mp4: 384x640 (no detections), 10.5ms\n",
            "video 1/1 (frame 915/1264) /content/gdrive/MyDrive/FIAP/Hackathon/video.mp4: 384x640 (no detections), 10.5ms\n",
            "video 1/1 (frame 916/1264) /content/gdrive/MyDrive/FIAP/Hackathon/video.mp4: 384x640 (no detections), 10.4ms\n",
            "video 1/1 (frame 917/1264) /content/gdrive/MyDrive/FIAP/Hackathon/video.mp4: 384x640 (no detections), 10.4ms\n",
            "video 1/1 (frame 918/1264) /content/gdrive/MyDrive/FIAP/Hackathon/video.mp4: 384x640 (no detections), 10.3ms\n",
            "video 1/1 (frame 919/1264) /content/gdrive/MyDrive/FIAP/Hackathon/video.mp4: 384x640 (no detections), 10.7ms\n",
            "video 1/1 (frame 920/1264) /content/gdrive/MyDrive/FIAP/Hackathon/video.mp4: 384x640 (no detections), 10.7ms\n",
            "video 1/1 (frame 921/1264) /content/gdrive/MyDrive/FIAP/Hackathon/video.mp4: 384x640 (no detections), 10.6ms\n",
            "video 1/1 (frame 922/1264) /content/gdrive/MyDrive/FIAP/Hackathon/video.mp4: 384x640 (no detections), 10.7ms\n",
            "video 1/1 (frame 923/1264) /content/gdrive/MyDrive/FIAP/Hackathon/video.mp4: 384x640 (no detections), 10.4ms\n",
            "video 1/1 (frame 924/1264) /content/gdrive/MyDrive/FIAP/Hackathon/video.mp4: 384x640 (no detections), 10.3ms\n",
            "video 1/1 (frame 925/1264) /content/gdrive/MyDrive/FIAP/Hackathon/video.mp4: 384x640 (no detections), 10.7ms\n",
            "video 1/1 (frame 926/1264) /content/gdrive/MyDrive/FIAP/Hackathon/video.mp4: 384x640 (no detections), 10.4ms\n",
            "video 1/1 (frame 927/1264) /content/gdrive/MyDrive/FIAP/Hackathon/video.mp4: 384x640 (no detections), 10.5ms\n",
            "video 1/1 (frame 928/1264) /content/gdrive/MyDrive/FIAP/Hackathon/video.mp4: 384x640 (no detections), 10.5ms\n",
            "video 1/1 (frame 929/1264) /content/gdrive/MyDrive/FIAP/Hackathon/video.mp4: 384x640 (no detections), 10.7ms\n",
            "video 1/1 (frame 930/1264) /content/gdrive/MyDrive/FIAP/Hackathon/video.mp4: 384x640 (no detections), 10.7ms\n",
            "video 1/1 (frame 931/1264) /content/gdrive/MyDrive/FIAP/Hackathon/video.mp4: 384x640 (no detections), 10.5ms\n",
            "video 1/1 (frame 932/1264) /content/gdrive/MyDrive/FIAP/Hackathon/video.mp4: 384x640 (no detections), 10.7ms\n",
            "video 1/1 (frame 933/1264) /content/gdrive/MyDrive/FIAP/Hackathon/video.mp4: 384x640 (no detections), 11.4ms\n",
            "video 1/1 (frame 934/1264) /content/gdrive/MyDrive/FIAP/Hackathon/video.mp4: 384x640 (no detections), 10.7ms\n",
            "video 1/1 (frame 935/1264) /content/gdrive/MyDrive/FIAP/Hackathon/video.mp4: 384x640 (no detections), 10.6ms\n",
            "video 1/1 (frame 936/1264) /content/gdrive/MyDrive/FIAP/Hackathon/video.mp4: 384x640 (no detections), 10.7ms\n",
            "video 1/1 (frame 937/1264) /content/gdrive/MyDrive/FIAP/Hackathon/video.mp4: 384x640 (no detections), 10.4ms\n",
            "video 1/1 (frame 938/1264) /content/gdrive/MyDrive/FIAP/Hackathon/video.mp4: 384x640 (no detections), 10.4ms\n",
            "video 1/1 (frame 939/1264) /content/gdrive/MyDrive/FIAP/Hackathon/video.mp4: 384x640 (no detections), 10.6ms\n",
            "video 1/1 (frame 940/1264) /content/gdrive/MyDrive/FIAP/Hackathon/video.mp4: 384x640 (no detections), 10.7ms\n",
            "video 1/1 (frame 941/1264) /content/gdrive/MyDrive/FIAP/Hackathon/video.mp4: 384x640 (no detections), 10.7ms\n",
            "video 1/1 (frame 942/1264) /content/gdrive/MyDrive/FIAP/Hackathon/video.mp4: 384x640 (no detections), 10.5ms\n",
            "video 1/1 (frame 943/1264) /content/gdrive/MyDrive/FIAP/Hackathon/video.mp4: 384x640 (no detections), 10.5ms\n",
            "video 1/1 (frame 944/1264) /content/gdrive/MyDrive/FIAP/Hackathon/video.mp4: 384x640 (no detections), 10.5ms\n",
            "video 1/1 (frame 945/1264) /content/gdrive/MyDrive/FIAP/Hackathon/video.mp4: 384x640 (no detections), 10.4ms\n",
            "video 1/1 (frame 946/1264) /content/gdrive/MyDrive/FIAP/Hackathon/video.mp4: 384x640 (no detections), 10.3ms\n",
            "video 1/1 (frame 947/1264) /content/gdrive/MyDrive/FIAP/Hackathon/video.mp4: 384x640 (no detections), 10.4ms\n",
            "video 1/1 (frame 948/1264) /content/gdrive/MyDrive/FIAP/Hackathon/video.mp4: 384x640 (no detections), 10.5ms\n",
            "video 1/1 (frame 949/1264) /content/gdrive/MyDrive/FIAP/Hackathon/video.mp4: 384x640 (no detections), 10.4ms\n",
            "video 1/1 (frame 950/1264) /content/gdrive/MyDrive/FIAP/Hackathon/video.mp4: 384x640 (no detections), 11.1ms\n",
            "video 1/1 (frame 951/1264) /content/gdrive/MyDrive/FIAP/Hackathon/video.mp4: 384x640 (no detections), 11.1ms\n",
            "video 1/1 (frame 952/1264) /content/gdrive/MyDrive/FIAP/Hackathon/video.mp4: 384x640 (no detections), 10.5ms\n",
            "video 1/1 (frame 953/1264) /content/gdrive/MyDrive/FIAP/Hackathon/video.mp4: 384x640 (no detections), 10.6ms\n",
            "video 1/1 (frame 954/1264) /content/gdrive/MyDrive/FIAP/Hackathon/video.mp4: 384x640 (no detections), 10.9ms\n",
            "video 1/1 (frame 955/1264) /content/gdrive/MyDrive/FIAP/Hackathon/video.mp4: 384x640 (no detections), 10.5ms\n",
            "video 1/1 (frame 956/1264) /content/gdrive/MyDrive/FIAP/Hackathon/video.mp4: 384x640 (no detections), 11.7ms\n",
            "video 1/1 (frame 957/1264) /content/gdrive/MyDrive/FIAP/Hackathon/video.mp4: 384x640 (no detections), 10.3ms\n",
            "video 1/1 (frame 958/1264) /content/gdrive/MyDrive/FIAP/Hackathon/video.mp4: 384x640 (no detections), 10.4ms\n",
            "video 1/1 (frame 959/1264) /content/gdrive/MyDrive/FIAP/Hackathon/video.mp4: 384x640 (no detections), 11.0ms\n",
            "video 1/1 (frame 960/1264) /content/gdrive/MyDrive/FIAP/Hackathon/video.mp4: 384x640 (no detections), 10.3ms\n",
            "video 1/1 (frame 961/1264) /content/gdrive/MyDrive/FIAP/Hackathon/video.mp4: 384x640 (no detections), 10.4ms\n",
            "video 1/1 (frame 962/1264) /content/gdrive/MyDrive/FIAP/Hackathon/video.mp4: 384x640 (no detections), 10.9ms\n",
            "video 1/1 (frame 963/1264) /content/gdrive/MyDrive/FIAP/Hackathon/video.mp4: 384x640 (no detections), 10.2ms\n",
            "video 1/1 (frame 964/1264) /content/gdrive/MyDrive/FIAP/Hackathon/video.mp4: 384x640 (no detections), 11.5ms\n",
            "video 1/1 (frame 965/1264) /content/gdrive/MyDrive/FIAP/Hackathon/video.mp4: 384x640 (no detections), 11.7ms\n",
            "video 1/1 (frame 966/1264) /content/gdrive/MyDrive/FIAP/Hackathon/video.mp4: 384x640 (no detections), 10.9ms\n",
            "video 1/1 (frame 967/1264) /content/gdrive/MyDrive/FIAP/Hackathon/video.mp4: 384x640 (no detections), 10.4ms\n",
            "video 1/1 (frame 968/1264) /content/gdrive/MyDrive/FIAP/Hackathon/video.mp4: 384x640 (no detections), 10.3ms\n",
            "video 1/1 (frame 969/1264) /content/gdrive/MyDrive/FIAP/Hackathon/video.mp4: 384x640 (no detections), 10.4ms\n",
            "video 1/1 (frame 970/1264) /content/gdrive/MyDrive/FIAP/Hackathon/video.mp4: 384x640 (no detections), 10.4ms\n",
            "video 1/1 (frame 971/1264) /content/gdrive/MyDrive/FIAP/Hackathon/video.mp4: 384x640 (no detections), 10.4ms\n",
            "video 1/1 (frame 972/1264) /content/gdrive/MyDrive/FIAP/Hackathon/video.mp4: 384x640 (no detections), 10.4ms\n",
            "video 1/1 (frame 973/1264) /content/gdrive/MyDrive/FIAP/Hackathon/video.mp4: 384x640 (no detections), 12.0ms\n",
            "video 1/1 (frame 974/1264) /content/gdrive/MyDrive/FIAP/Hackathon/video.mp4: 384x640 (no detections), 10.7ms\n",
            "video 1/1 (frame 975/1264) /content/gdrive/MyDrive/FIAP/Hackathon/video.mp4: 384x640 (no detections), 10.4ms\n",
            "video 1/1 (frame 976/1264) /content/gdrive/MyDrive/FIAP/Hackathon/video.mp4: 384x640 (no detections), 10.5ms\n",
            "video 1/1 (frame 977/1264) /content/gdrive/MyDrive/FIAP/Hackathon/video.mp4: 384x640 (no detections), 10.5ms\n",
            "video 1/1 (frame 978/1264) /content/gdrive/MyDrive/FIAP/Hackathon/video.mp4: 384x640 (no detections), 11.4ms\n",
            "video 1/1 (frame 979/1264) /content/gdrive/MyDrive/FIAP/Hackathon/video.mp4: 384x640 (no detections), 12.3ms\n",
            "video 1/1 (frame 980/1264) /content/gdrive/MyDrive/FIAP/Hackathon/video.mp4: 384x640 (no detections), 10.7ms\n",
            "video 1/1 (frame 981/1264) /content/gdrive/MyDrive/FIAP/Hackathon/video.mp4: 384x640 (no detections), 11.9ms\n",
            "video 1/1 (frame 982/1264) /content/gdrive/MyDrive/FIAP/Hackathon/video.mp4: 384x640 (no detections), 10.6ms\n",
            "video 1/1 (frame 983/1264) /content/gdrive/MyDrive/FIAP/Hackathon/video.mp4: 384x640 (no detections), 10.5ms\n",
            "video 1/1 (frame 984/1264) /content/gdrive/MyDrive/FIAP/Hackathon/video.mp4: 384x640 (no detections), 10.3ms\n",
            "video 1/1 (frame 985/1264) /content/gdrive/MyDrive/FIAP/Hackathon/video.mp4: 384x640 (no detections), 12.0ms\n",
            "video 1/1 (frame 986/1264) /content/gdrive/MyDrive/FIAP/Hackathon/video.mp4: 384x640 (no detections), 10.8ms\n",
            "video 1/1 (frame 987/1264) /content/gdrive/MyDrive/FIAP/Hackathon/video.mp4: 384x640 (no detections), 10.3ms\n",
            "video 1/1 (frame 988/1264) /content/gdrive/MyDrive/FIAP/Hackathon/video.mp4: 384x640 (no detections), 10.6ms\n",
            "video 1/1 (frame 989/1264) /content/gdrive/MyDrive/FIAP/Hackathon/video.mp4: 384x640 (no detections), 11.8ms\n",
            "video 1/1 (frame 990/1264) /content/gdrive/MyDrive/FIAP/Hackathon/video.mp4: 384x640 (no detections), 11.6ms\n",
            "video 1/1 (frame 991/1264) /content/gdrive/MyDrive/FIAP/Hackathon/video.mp4: 384x640 (no detections), 11.8ms\n",
            "video 1/1 (frame 992/1264) /content/gdrive/MyDrive/FIAP/Hackathon/video.mp4: 384x640 (no detections), 10.3ms\n",
            "video 1/1 (frame 993/1264) /content/gdrive/MyDrive/FIAP/Hackathon/video.mp4: 384x640 (no detections), 10.4ms\n",
            "video 1/1 (frame 994/1264) /content/gdrive/MyDrive/FIAP/Hackathon/video.mp4: 384x640 (no detections), 10.5ms\n",
            "video 1/1 (frame 995/1264) /content/gdrive/MyDrive/FIAP/Hackathon/video.mp4: 384x640 (no detections), 10.5ms\n",
            "video 1/1 (frame 996/1264) /content/gdrive/MyDrive/FIAP/Hackathon/video.mp4: 384x640 (no detections), 10.6ms\n",
            "video 1/1 (frame 997/1264) /content/gdrive/MyDrive/FIAP/Hackathon/video.mp4: 384x640 (no detections), 10.5ms\n",
            "video 1/1 (frame 998/1264) /content/gdrive/MyDrive/FIAP/Hackathon/video.mp4: 384x640 (no detections), 10.5ms\n",
            "video 1/1 (frame 999/1264) /content/gdrive/MyDrive/FIAP/Hackathon/video.mp4: 384x640 (no detections), 10.5ms\n",
            "video 1/1 (frame 1000/1264) /content/gdrive/MyDrive/FIAP/Hackathon/video.mp4: 384x640 (no detections), 11.0ms\n",
            "video 1/1 (frame 1001/1264) /content/gdrive/MyDrive/FIAP/Hackathon/video.mp4: 384x640 (no detections), 11.3ms\n",
            "video 1/1 (frame 1002/1264) /content/gdrive/MyDrive/FIAP/Hackathon/video.mp4: 384x640 (no detections), 10.6ms\n",
            "video 1/1 (frame 1003/1264) /content/gdrive/MyDrive/FIAP/Hackathon/video.mp4: 384x640 (no detections), 11.4ms\n",
            "video 1/1 (frame 1004/1264) /content/gdrive/MyDrive/FIAP/Hackathon/video.mp4: 384x640 (no detections), 11.1ms\n",
            "video 1/1 (frame 1005/1264) /content/gdrive/MyDrive/FIAP/Hackathon/video.mp4: 384x640 (no detections), 10.4ms\n",
            "video 1/1 (frame 1006/1264) /content/gdrive/MyDrive/FIAP/Hackathon/video.mp4: 384x640 (no detections), 11.1ms\n",
            "video 1/1 (frame 1007/1264) /content/gdrive/MyDrive/FIAP/Hackathon/video.mp4: 384x640 (no detections), 10.5ms\n",
            "video 1/1 (frame 1008/1264) /content/gdrive/MyDrive/FIAP/Hackathon/video.mp4: 384x640 (no detections), 10.5ms\n",
            "video 1/1 (frame 1009/1264) /content/gdrive/MyDrive/FIAP/Hackathon/video.mp4: 384x640 (no detections), 10.6ms\n",
            "video 1/1 (frame 1010/1264) /content/gdrive/MyDrive/FIAP/Hackathon/video.mp4: 384x640 (no detections), 10.7ms\n",
            "video 1/1 (frame 1011/1264) /content/gdrive/MyDrive/FIAP/Hackathon/video.mp4: 384x640 (no detections), 10.6ms\n",
            "video 1/1 (frame 1012/1264) /content/gdrive/MyDrive/FIAP/Hackathon/video.mp4: 384x640 (no detections), 10.4ms\n",
            "video 1/1 (frame 1013/1264) /content/gdrive/MyDrive/FIAP/Hackathon/video.mp4: 384x640 (no detections), 10.4ms\n",
            "video 1/1 (frame 1014/1264) /content/gdrive/MyDrive/FIAP/Hackathon/video.mp4: 384x640 (no detections), 11.1ms\n",
            "video 1/1 (frame 1015/1264) /content/gdrive/MyDrive/FIAP/Hackathon/video.mp4: 384x640 (no detections), 11.9ms\n",
            "video 1/1 (frame 1016/1264) /content/gdrive/MyDrive/FIAP/Hackathon/video.mp4: 384x640 (no detections), 12.5ms\n",
            "video 1/1 (frame 1017/1264) /content/gdrive/MyDrive/FIAP/Hackathon/video.mp4: 384x640 (no detections), 10.7ms\n",
            "video 1/1 (frame 1018/1264) /content/gdrive/MyDrive/FIAP/Hackathon/video.mp4: 384x640 (no detections), 10.3ms\n",
            "video 1/1 (frame 1019/1264) /content/gdrive/MyDrive/FIAP/Hackathon/video.mp4: 384x640 (no detections), 10.7ms\n",
            "video 1/1 (frame 1020/1264) /content/gdrive/MyDrive/FIAP/Hackathon/video.mp4: 384x640 (no detections), 10.4ms\n",
            "video 1/1 (frame 1021/1264) /content/gdrive/MyDrive/FIAP/Hackathon/video.mp4: 384x640 (no detections), 10.3ms\n",
            "video 1/1 (frame 1022/1264) /content/gdrive/MyDrive/FIAP/Hackathon/video.mp4: 384x640 (no detections), 10.5ms\n",
            "video 1/1 (frame 1023/1264) /content/gdrive/MyDrive/FIAP/Hackathon/video.mp4: 384x640 (no detections), 10.6ms\n",
            "video 1/1 (frame 1024/1264) /content/gdrive/MyDrive/FIAP/Hackathon/video.mp4: 384x640 (no detections), 10.6ms\n",
            "video 1/1 (frame 1025/1264) /content/gdrive/MyDrive/FIAP/Hackathon/video.mp4: 384x640 (no detections), 11.1ms\n",
            "video 1/1 (frame 1026/1264) /content/gdrive/MyDrive/FIAP/Hackathon/video.mp4: 384x640 (no detections), 10.6ms\n",
            "video 1/1 (frame 1027/1264) /content/gdrive/MyDrive/FIAP/Hackathon/video.mp4: 384x640 (no detections), 10.8ms\n",
            "video 1/1 (frame 1028/1264) /content/gdrive/MyDrive/FIAP/Hackathon/video.mp4: 384x640 (no detections), 11.1ms\n",
            "video 1/1 (frame 1029/1264) /content/gdrive/MyDrive/FIAP/Hackathon/video.mp4: 384x640 (no detections), 10.7ms\n",
            "video 1/1 (frame 1030/1264) /content/gdrive/MyDrive/FIAP/Hackathon/video.mp4: 384x640 (no detections), 10.7ms\n",
            "video 1/1 (frame 1031/1264) /content/gdrive/MyDrive/FIAP/Hackathon/video.mp4: 384x640 (no detections), 10.7ms\n",
            "video 1/1 (frame 1032/1264) /content/gdrive/MyDrive/FIAP/Hackathon/video.mp4: 384x640 (no detections), 10.8ms\n",
            "video 1/1 (frame 1033/1264) /content/gdrive/MyDrive/FIAP/Hackathon/video.mp4: 384x640 (no detections), 10.6ms\n",
            "video 1/1 (frame 1034/1264) /content/gdrive/MyDrive/FIAP/Hackathon/video.mp4: 384x640 (no detections), 10.5ms\n",
            "video 1/1 (frame 1035/1264) /content/gdrive/MyDrive/FIAP/Hackathon/video.mp4: 384x640 (no detections), 10.5ms\n",
            "video 1/1 (frame 1036/1264) /content/gdrive/MyDrive/FIAP/Hackathon/video.mp4: 384x640 (no detections), 12.5ms\n",
            "video 1/1 (frame 1037/1264) /content/gdrive/MyDrive/FIAP/Hackathon/video.mp4: 384x640 1 Gun, 11.8ms\n",
            "video 1/1 (frame 1038/1264) /content/gdrive/MyDrive/FIAP/Hackathon/video.mp4: 384x640 1 Gun, 10.8ms\n",
            "video 1/1 (frame 1039/1264) /content/gdrive/MyDrive/FIAP/Hackathon/video.mp4: 384x640 2 Guns, 10.6ms\n",
            "video 1/1 (frame 1040/1264) /content/gdrive/MyDrive/FIAP/Hackathon/video.mp4: 384x640 2 Guns, 11.1ms\n",
            "video 1/1 (frame 1041/1264) /content/gdrive/MyDrive/FIAP/Hackathon/video.mp4: 384x640 3 Guns, 11.1ms\n",
            "video 1/1 (frame 1042/1264) /content/gdrive/MyDrive/FIAP/Hackathon/video.mp4: 384x640 3 Guns, 10.5ms\n",
            "video 1/1 (frame 1043/1264) /content/gdrive/MyDrive/FIAP/Hackathon/video.mp4: 384x640 3 Guns, 11.0ms\n",
            "video 1/1 (frame 1044/1264) /content/gdrive/MyDrive/FIAP/Hackathon/video.mp4: 384x640 3 Guns, 1 Pistol, 14.7ms\n",
            "video 1/1 (frame 1045/1264) /content/gdrive/MyDrive/FIAP/Hackathon/video.mp4: 384x640 2 Guns, 1 Pistol, 11.9ms\n",
            "video 1/1 (frame 1046/1264) /content/gdrive/MyDrive/FIAP/Hackathon/video.mp4: 384x640 1 Gun, 1 Pistol, 10.9ms\n",
            "video 1/1 (frame 1047/1264) /content/gdrive/MyDrive/FIAP/Hackathon/video.mp4: 384x640 1 Gun, 1 Pistol, 10.6ms\n",
            "video 1/1 (frame 1048/1264) /content/gdrive/MyDrive/FIAP/Hackathon/video.mp4: 384x640 1 Gun, 1 Pistol, 11.1ms\n",
            "video 1/1 (frame 1049/1264) /content/gdrive/MyDrive/FIAP/Hackathon/video.mp4: 384x640 1 Gun, 1 Pistol, 11.1ms\n",
            "video 1/1 (frame 1050/1264) /content/gdrive/MyDrive/FIAP/Hackathon/video.mp4: 384x640 1 Gun, 1 Pistol, 10.3ms\n",
            "video 1/1 (frame 1051/1264) /content/gdrive/MyDrive/FIAP/Hackathon/video.mp4: 384x640 2 Guns, 16.5ms\n",
            "video 1/1 (frame 1052/1264) /content/gdrive/MyDrive/FIAP/Hackathon/video.mp4: 384x640 1 Gun, 10.9ms\n",
            "video 1/1 (frame 1053/1264) /content/gdrive/MyDrive/FIAP/Hackathon/video.mp4: 384x640 1 Gun, 10.8ms\n",
            "video 1/1 (frame 1054/1264) /content/gdrive/MyDrive/FIAP/Hackathon/video.mp4: 384x640 1 Gun, 11.8ms\n",
            "video 1/1 (frame 1055/1264) /content/gdrive/MyDrive/FIAP/Hackathon/video.mp4: 384x640 1 Gun, 10.6ms\n",
            "video 1/1 (frame 1056/1264) /content/gdrive/MyDrive/FIAP/Hackathon/video.mp4: 384x640 1 Gun, 10.8ms\n",
            "video 1/1 (frame 1057/1264) /content/gdrive/MyDrive/FIAP/Hackathon/video.mp4: 384x640 1 Gun, 11.2ms\n",
            "video 1/1 (frame 1058/1264) /content/gdrive/MyDrive/FIAP/Hackathon/video.mp4: 384x640 1 Gun, 10.6ms\n",
            "video 1/1 (frame 1059/1264) /content/gdrive/MyDrive/FIAP/Hackathon/video.mp4: 384x640 1 Gun, 10.6ms\n",
            "video 1/1 (frame 1060/1264) /content/gdrive/MyDrive/FIAP/Hackathon/video.mp4: 384x640 1 Gun, 11.1ms\n",
            "video 1/1 (frame 1061/1264) /content/gdrive/MyDrive/FIAP/Hackathon/video.mp4: 384x640 1 Gun, 10.4ms\n",
            "video 1/1 (frame 1062/1264) /content/gdrive/MyDrive/FIAP/Hackathon/video.mp4: 384x640 1 Gun, 10.5ms\n",
            "video 1/1 (frame 1063/1264) /content/gdrive/MyDrive/FIAP/Hackathon/video.mp4: 384x640 1 Gun, 11.1ms\n",
            "video 1/1 (frame 1064/1264) /content/gdrive/MyDrive/FIAP/Hackathon/video.mp4: 384x640 1 Gun, 10.8ms\n",
            "video 1/1 (frame 1065/1264) /content/gdrive/MyDrive/FIAP/Hackathon/video.mp4: 384x640 2 Guns, 12.3ms\n",
            "video 1/1 (frame 1066/1264) /content/gdrive/MyDrive/FIAP/Hackathon/video.mp4: 384x640 1 Gun, 10.5ms\n",
            "video 1/1 (frame 1067/1264) /content/gdrive/MyDrive/FIAP/Hackathon/video.mp4: 384x640 1 Gun, 11.1ms\n",
            "video 1/1 (frame 1068/1264) /content/gdrive/MyDrive/FIAP/Hackathon/video.mp4: 384x640 1 Gun, 10.7ms\n",
            "video 1/1 (frame 1069/1264) /content/gdrive/MyDrive/FIAP/Hackathon/video.mp4: 384x640 2 Guns, 10.8ms\n",
            "video 1/1 (frame 1070/1264) /content/gdrive/MyDrive/FIAP/Hackathon/video.mp4: 384x640 2 Guns, 10.7ms\n",
            "video 1/1 (frame 1071/1264) /content/gdrive/MyDrive/FIAP/Hackathon/video.mp4: 384x640 2 Guns, 14.8ms\n",
            "video 1/1 (frame 1072/1264) /content/gdrive/MyDrive/FIAP/Hackathon/video.mp4: 384x640 3 Guns, 11.1ms\n",
            "video 1/1 (frame 1073/1264) /content/gdrive/MyDrive/FIAP/Hackathon/video.mp4: 384x640 3 Guns, 13.3ms\n",
            "video 1/1 (frame 1074/1264) /content/gdrive/MyDrive/FIAP/Hackathon/video.mp4: 384x640 3 Guns, 14.7ms\n",
            "video 1/1 (frame 1075/1264) /content/gdrive/MyDrive/FIAP/Hackathon/video.mp4: 384x640 3 Guns, 10.6ms\n",
            "video 1/1 (frame 1076/1264) /content/gdrive/MyDrive/FIAP/Hackathon/video.mp4: 384x640 3 Guns, 11.1ms\n",
            "video 1/1 (frame 1077/1264) /content/gdrive/MyDrive/FIAP/Hackathon/video.mp4: 384x640 3 Guns, 11.1ms\n",
            "video 1/1 (frame 1078/1264) /content/gdrive/MyDrive/FIAP/Hackathon/video.mp4: 384x640 3 Guns, 10.7ms\n",
            "video 1/1 (frame 1079/1264) /content/gdrive/MyDrive/FIAP/Hackathon/video.mp4: 384x640 3 Guns, 14.0ms\n",
            "video 1/1 (frame 1080/1264) /content/gdrive/MyDrive/FIAP/Hackathon/video.mp4: 384x640 2 Guns, 10.5ms\n",
            "video 1/1 (frame 1081/1264) /content/gdrive/MyDrive/FIAP/Hackathon/video.mp4: 384x640 3 Guns, 10.6ms\n",
            "video 1/1 (frame 1082/1264) /content/gdrive/MyDrive/FIAP/Hackathon/video.mp4: 384x640 2 Guns, 10.6ms\n",
            "video 1/1 (frame 1083/1264) /content/gdrive/MyDrive/FIAP/Hackathon/video.mp4: 384x640 2 Guns, 10.8ms\n",
            "video 1/1 (frame 1084/1264) /content/gdrive/MyDrive/FIAP/Hackathon/video.mp4: 384x640 3 Guns, 10.9ms\n",
            "video 1/1 (frame 1085/1264) /content/gdrive/MyDrive/FIAP/Hackathon/video.mp4: 384x640 3 Guns, 11.1ms\n",
            "video 1/1 (frame 1086/1264) /content/gdrive/MyDrive/FIAP/Hackathon/video.mp4: 384x640 2 Guns, 10.9ms\n",
            "video 1/1 (frame 1087/1264) /content/gdrive/MyDrive/FIAP/Hackathon/video.mp4: 384x640 1 Gun, 14.4ms\n",
            "video 1/1 (frame 1088/1264) /content/gdrive/MyDrive/FIAP/Hackathon/video.mp4: 384x640 2 Guns, 10.9ms\n",
            "video 1/1 (frame 1089/1264) /content/gdrive/MyDrive/FIAP/Hackathon/video.mp4: 384x640 2 Guns, 10.8ms\n",
            "video 1/1 (frame 1090/1264) /content/gdrive/MyDrive/FIAP/Hackathon/video.mp4: 384x640 3 Guns, 10.9ms\n",
            "video 1/1 (frame 1091/1264) /content/gdrive/MyDrive/FIAP/Hackathon/video.mp4: 384x640 1 Gun, 13.4ms\n",
            "video 1/1 (frame 1092/1264) /content/gdrive/MyDrive/FIAP/Hackathon/video.mp4: 384x640 2 Guns, 11.0ms\n",
            "video 1/1 (frame 1093/1264) /content/gdrive/MyDrive/FIAP/Hackathon/video.mp4: 384x640 1 Gun, 10.9ms\n",
            "video 1/1 (frame 1094/1264) /content/gdrive/MyDrive/FIAP/Hackathon/video.mp4: 384x640 1 Gun, 11.1ms\n",
            "video 1/1 (frame 1095/1264) /content/gdrive/MyDrive/FIAP/Hackathon/video.mp4: 384x640 1 Gun, 11.0ms\n",
            "video 1/1 (frame 1096/1264) /content/gdrive/MyDrive/FIAP/Hackathon/video.mp4: 384x640 1 Gun, 10.7ms\n",
            "video 1/1 (frame 1097/1264) /content/gdrive/MyDrive/FIAP/Hackathon/video.mp4: 384x640 1 Gun, 10.7ms\n",
            "video 1/1 (frame 1098/1264) /content/gdrive/MyDrive/FIAP/Hackathon/video.mp4: 384x640 2 Guns, 10.6ms\n",
            "video 1/1 (frame 1099/1264) /content/gdrive/MyDrive/FIAP/Hackathon/video.mp4: 384x640 2 Guns, 13.3ms\n",
            "video 1/1 (frame 1100/1264) /content/gdrive/MyDrive/FIAP/Hackathon/video.mp4: 384x640 1 Gun, 10.5ms\n",
            "video 1/1 (frame 1101/1264) /content/gdrive/MyDrive/FIAP/Hackathon/video.mp4: 384x640 1 Gun, 14.6ms\n",
            "video 1/1 (frame 1102/1264) /content/gdrive/MyDrive/FIAP/Hackathon/video.mp4: 384x640 1 Gun, 13.4ms\n",
            "video 1/1 (frame 1103/1264) /content/gdrive/MyDrive/FIAP/Hackathon/video.mp4: 384x640 2 Guns, 10.5ms\n",
            "video 1/1 (frame 1104/1264) /content/gdrive/MyDrive/FIAP/Hackathon/video.mp4: 384x640 2 Guns, 14.3ms\n",
            "video 1/1 (frame 1105/1264) /content/gdrive/MyDrive/FIAP/Hackathon/video.mp4: 384x640 2 Guns, 10.3ms\n",
            "video 1/1 (frame 1106/1264) /content/gdrive/MyDrive/FIAP/Hackathon/video.mp4: 384x640 2 Guns, 10.5ms\n",
            "video 1/1 (frame 1107/1264) /content/gdrive/MyDrive/FIAP/Hackathon/video.mp4: 384x640 1 Gun, 11.0ms\n",
            "video 1/1 (frame 1108/1264) /content/gdrive/MyDrive/FIAP/Hackathon/video.mp4: 384x640 2 Guns, 10.3ms\n",
            "video 1/1 (frame 1109/1264) /content/gdrive/MyDrive/FIAP/Hackathon/video.mp4: 384x640 3 Guns, 10.9ms\n",
            "video 1/1 (frame 1110/1264) /content/gdrive/MyDrive/FIAP/Hackathon/video.mp4: 384x640 1 Gun, 10.5ms\n",
            "video 1/1 (frame 1111/1264) /content/gdrive/MyDrive/FIAP/Hackathon/video.mp4: 384x640 3 Guns, 16.1ms\n",
            "video 1/1 (frame 1112/1264) /content/gdrive/MyDrive/FIAP/Hackathon/video.mp4: 384x640 2 Guns, 10.5ms\n",
            "video 1/1 (frame 1113/1264) /content/gdrive/MyDrive/FIAP/Hackathon/video.mp4: 384x640 2 Guns, 10.5ms\n",
            "video 1/1 (frame 1114/1264) /content/gdrive/MyDrive/FIAP/Hackathon/video.mp4: 384x640 2 Guns, 12.4ms\n",
            "video 1/1 (frame 1115/1264) /content/gdrive/MyDrive/FIAP/Hackathon/video.mp4: 384x640 2 Guns, 10.9ms\n",
            "video 1/1 (frame 1116/1264) /content/gdrive/MyDrive/FIAP/Hackathon/video.mp4: 384x640 2 Guns, 1 Pistol, 11.1ms\n",
            "video 1/1 (frame 1117/1264) /content/gdrive/MyDrive/FIAP/Hackathon/video.mp4: 384x640 (no detections), 10.8ms\n",
            "video 1/1 (frame 1118/1264) /content/gdrive/MyDrive/FIAP/Hackathon/video.mp4: 384x640 (no detections), 10.4ms\n",
            "video 1/1 (frame 1119/1264) /content/gdrive/MyDrive/FIAP/Hackathon/video.mp4: 384x640 (no detections), 10.7ms\n",
            "video 1/1 (frame 1120/1264) /content/gdrive/MyDrive/FIAP/Hackathon/video.mp4: 384x640 (no detections), 11.4ms\n",
            "video 1/1 (frame 1121/1264) /content/gdrive/MyDrive/FIAP/Hackathon/video.mp4: 384x640 (no detections), 10.6ms\n",
            "video 1/1 (frame 1122/1264) /content/gdrive/MyDrive/FIAP/Hackathon/video.mp4: 384x640 (no detections), 10.4ms\n",
            "video 1/1 (frame 1123/1264) /content/gdrive/MyDrive/FIAP/Hackathon/video.mp4: 384x640 (no detections), 11.0ms\n",
            "video 1/1 (frame 1124/1264) /content/gdrive/MyDrive/FIAP/Hackathon/video.mp4: 384x640 (no detections), 10.9ms\n",
            "video 1/1 (frame 1125/1264) /content/gdrive/MyDrive/FIAP/Hackathon/video.mp4: 384x640 (no detections), 10.3ms\n",
            "video 1/1 (frame 1126/1264) /content/gdrive/MyDrive/FIAP/Hackathon/video.mp4: 384x640 (no detections), 10.2ms\n",
            "video 1/1 (frame 1127/1264) /content/gdrive/MyDrive/FIAP/Hackathon/video.mp4: 384x640 (no detections), 10.5ms\n",
            "video 1/1 (frame 1128/1264) /content/gdrive/MyDrive/FIAP/Hackathon/video.mp4: 384x640 (no detections), 10.4ms\n",
            "video 1/1 (frame 1129/1264) /content/gdrive/MyDrive/FIAP/Hackathon/video.mp4: 384x640 (no detections), 10.8ms\n",
            "video 1/1 (frame 1130/1264) /content/gdrive/MyDrive/FIAP/Hackathon/video.mp4: 384x640 (no detections), 10.6ms\n",
            "video 1/1 (frame 1131/1264) /content/gdrive/MyDrive/FIAP/Hackathon/video.mp4: 384x640 (no detections), 10.4ms\n",
            "video 1/1 (frame 1132/1264) /content/gdrive/MyDrive/FIAP/Hackathon/video.mp4: 384x640 (no detections), 10.5ms\n",
            "video 1/1 (frame 1133/1264) /content/gdrive/MyDrive/FIAP/Hackathon/video.mp4: 384x640 (no detections), 10.6ms\n",
            "video 1/1 (frame 1134/1264) /content/gdrive/MyDrive/FIAP/Hackathon/video.mp4: 384x640 (no detections), 10.5ms\n",
            "video 1/1 (frame 1135/1264) /content/gdrive/MyDrive/FIAP/Hackathon/video.mp4: 384x640 (no detections), 10.5ms\n",
            "video 1/1 (frame 1136/1264) /content/gdrive/MyDrive/FIAP/Hackathon/video.mp4: 384x640 (no detections), 11.8ms\n",
            "video 1/1 (frame 1137/1264) /content/gdrive/MyDrive/FIAP/Hackathon/video.mp4: 384x640 (no detections), 10.7ms\n",
            "video 1/1 (frame 1138/1264) /content/gdrive/MyDrive/FIAP/Hackathon/video.mp4: 384x640 (no detections), 10.5ms\n",
            "video 1/1 (frame 1139/1264) /content/gdrive/MyDrive/FIAP/Hackathon/video.mp4: 384x640 (no detections), 10.7ms\n",
            "video 1/1 (frame 1140/1264) /content/gdrive/MyDrive/FIAP/Hackathon/video.mp4: 384x640 (no detections), 10.4ms\n",
            "video 1/1 (frame 1141/1264) /content/gdrive/MyDrive/FIAP/Hackathon/video.mp4: 384x640 (no detections), 10.4ms\n",
            "video 1/1 (frame 1142/1264) /content/gdrive/MyDrive/FIAP/Hackathon/video.mp4: 384x640 (no detections), 10.3ms\n",
            "video 1/1 (frame 1143/1264) /content/gdrive/MyDrive/FIAP/Hackathon/video.mp4: 384x640 (no detections), 12.2ms\n",
            "video 1/1 (frame 1144/1264) /content/gdrive/MyDrive/FIAP/Hackathon/video.mp4: 384x640 (no detections), 10.4ms\n",
            "video 1/1 (frame 1145/1264) /content/gdrive/MyDrive/FIAP/Hackathon/video.mp4: 384x640 (no detections), 10.4ms\n",
            "video 1/1 (frame 1146/1264) /content/gdrive/MyDrive/FIAP/Hackathon/video.mp4: 384x640 (no detections), 10.8ms\n",
            "video 1/1 (frame 1147/1264) /content/gdrive/MyDrive/FIAP/Hackathon/video.mp4: 384x640 (no detections), 11.7ms\n",
            "video 1/1 (frame 1148/1264) /content/gdrive/MyDrive/FIAP/Hackathon/video.mp4: 384x640 (no detections), 10.6ms\n",
            "video 1/1 (frame 1149/1264) /content/gdrive/MyDrive/FIAP/Hackathon/video.mp4: 384x640 (no detections), 10.4ms\n",
            "video 1/1 (frame 1150/1264) /content/gdrive/MyDrive/FIAP/Hackathon/video.mp4: 384x640 (no detections), 10.5ms\n",
            "video 1/1 (frame 1151/1264) /content/gdrive/MyDrive/FIAP/Hackathon/video.mp4: 384x640 (no detections), 10.3ms\n",
            "video 1/1 (frame 1152/1264) /content/gdrive/MyDrive/FIAP/Hackathon/video.mp4: 384x640 (no detections), 10.3ms\n",
            "video 1/1 (frame 1153/1264) /content/gdrive/MyDrive/FIAP/Hackathon/video.mp4: 384x640 (no detections), 10.6ms\n",
            "video 1/1 (frame 1154/1264) /content/gdrive/MyDrive/FIAP/Hackathon/video.mp4: 384x640 (no detections), 10.4ms\n",
            "video 1/1 (frame 1155/1264) /content/gdrive/MyDrive/FIAP/Hackathon/video.mp4: 384x640 (no detections), 10.9ms\n",
            "video 1/1 (frame 1156/1264) /content/gdrive/MyDrive/FIAP/Hackathon/video.mp4: 384x640 (no detections), 11.1ms\n",
            "video 1/1 (frame 1157/1264) /content/gdrive/MyDrive/FIAP/Hackathon/video.mp4: 384x640 (no detections), 11.1ms\n",
            "video 1/1 (frame 1158/1264) /content/gdrive/MyDrive/FIAP/Hackathon/video.mp4: 384x640 (no detections), 11.5ms\n",
            "video 1/1 (frame 1159/1264) /content/gdrive/MyDrive/FIAP/Hackathon/video.mp4: 384x640 (no detections), 11.7ms\n",
            "video 1/1 (frame 1160/1264) /content/gdrive/MyDrive/FIAP/Hackathon/video.mp4: 384x640 (no detections), 10.7ms\n",
            "video 1/1 (frame 1161/1264) /content/gdrive/MyDrive/FIAP/Hackathon/video.mp4: 384x640 (no detections), 10.7ms\n",
            "video 1/1 (frame 1162/1264) /content/gdrive/MyDrive/FIAP/Hackathon/video.mp4: 384x640 (no detections), 10.6ms\n",
            "video 1/1 (frame 1163/1264) /content/gdrive/MyDrive/FIAP/Hackathon/video.mp4: 384x640 (no detections), 10.7ms\n",
            "video 1/1 (frame 1164/1264) /content/gdrive/MyDrive/FIAP/Hackathon/video.mp4: 384x640 (no detections), 10.4ms\n",
            "video 1/1 (frame 1165/1264) /content/gdrive/MyDrive/FIAP/Hackathon/video.mp4: 384x640 (no detections), 10.4ms\n",
            "video 1/1 (frame 1166/1264) /content/gdrive/MyDrive/FIAP/Hackathon/video.mp4: 384x640 (no detections), 11.3ms\n",
            "video 1/1 (frame 1167/1264) /content/gdrive/MyDrive/FIAP/Hackathon/video.mp4: 384x640 (no detections), 10.5ms\n",
            "video 1/1 (frame 1168/1264) /content/gdrive/MyDrive/FIAP/Hackathon/video.mp4: 384x640 (no detections), 11.1ms\n",
            "video 1/1 (frame 1169/1264) /content/gdrive/MyDrive/FIAP/Hackathon/video.mp4: 384x640 (no detections), 12.2ms\n",
            "video 1/1 (frame 1170/1264) /content/gdrive/MyDrive/FIAP/Hackathon/video.mp4: 384x640 (no detections), 10.8ms\n",
            "video 1/1 (frame 1171/1264) /content/gdrive/MyDrive/FIAP/Hackathon/video.mp4: 384x640 (no detections), 10.7ms\n",
            "video 1/1 (frame 1172/1264) /content/gdrive/MyDrive/FIAP/Hackathon/video.mp4: 384x640 (no detections), 10.5ms\n",
            "video 1/1 (frame 1173/1264) /content/gdrive/MyDrive/FIAP/Hackathon/video.mp4: 384x640 (no detections), 11.1ms\n",
            "video 1/1 (frame 1174/1264) /content/gdrive/MyDrive/FIAP/Hackathon/video.mp4: 384x640 (no detections), 10.3ms\n",
            "video 1/1 (frame 1175/1264) /content/gdrive/MyDrive/FIAP/Hackathon/video.mp4: 384x640 (no detections), 10.8ms\n",
            "video 1/1 (frame 1176/1264) /content/gdrive/MyDrive/FIAP/Hackathon/video.mp4: 384x640 (no detections), 10.7ms\n",
            "video 1/1 (frame 1177/1264) /content/gdrive/MyDrive/FIAP/Hackathon/video.mp4: 384x640 (no detections), 10.7ms\n",
            "video 1/1 (frame 1178/1264) /content/gdrive/MyDrive/FIAP/Hackathon/video.mp4: 384x640 (no detections), 11.0ms\n",
            "video 1/1 (frame 1179/1264) /content/gdrive/MyDrive/FIAP/Hackathon/video.mp4: 384x640 (no detections), 10.8ms\n",
            "video 1/1 (frame 1180/1264) /content/gdrive/MyDrive/FIAP/Hackathon/video.mp4: 384x640 (no detections), 10.7ms\n",
            "video 1/1 (frame 1181/1264) /content/gdrive/MyDrive/FIAP/Hackathon/video.mp4: 384x640 (no detections), 10.8ms\n",
            "video 1/1 (frame 1182/1264) /content/gdrive/MyDrive/FIAP/Hackathon/video.mp4: 384x640 (no detections), 11.5ms\n",
            "video 1/1 (frame 1183/1264) /content/gdrive/MyDrive/FIAP/Hackathon/video.mp4: 384x640 (no detections), 11.9ms\n",
            "video 1/1 (frame 1184/1264) /content/gdrive/MyDrive/FIAP/Hackathon/video.mp4: 384x640 (no detections), 10.5ms\n",
            "video 1/1 (frame 1185/1264) /content/gdrive/MyDrive/FIAP/Hackathon/video.mp4: 384x640 (no detections), 10.7ms\n",
            "video 1/1 (frame 1186/1264) /content/gdrive/MyDrive/FIAP/Hackathon/video.mp4: 384x640 (no detections), 10.5ms\n",
            "video 1/1 (frame 1187/1264) /content/gdrive/MyDrive/FIAP/Hackathon/video.mp4: 384x640 (no detections), 10.5ms\n",
            "video 1/1 (frame 1188/1264) /content/gdrive/MyDrive/FIAP/Hackathon/video.mp4: 384x640 (no detections), 10.9ms\n",
            "video 1/1 (frame 1189/1264) /content/gdrive/MyDrive/FIAP/Hackathon/video.mp4: 384x640 (no detections), 10.6ms\n",
            "video 1/1 (frame 1190/1264) /content/gdrive/MyDrive/FIAP/Hackathon/video.mp4: 384x640 (no detections), 11.1ms\n",
            "video 1/1 (frame 1191/1264) /content/gdrive/MyDrive/FIAP/Hackathon/video.mp4: 384x640 (no detections), 10.6ms\n",
            "video 1/1 (frame 1192/1264) /content/gdrive/MyDrive/FIAP/Hackathon/video.mp4: 384x640 (no detections), 10.6ms\n",
            "video 1/1 (frame 1193/1264) /content/gdrive/MyDrive/FIAP/Hackathon/video.mp4: 384x640 (no detections), 10.6ms\n",
            "video 1/1 (frame 1194/1264) /content/gdrive/MyDrive/FIAP/Hackathon/video.mp4: 384x640 (no detections), 10.3ms\n",
            "video 1/1 (frame 1195/1264) /content/gdrive/MyDrive/FIAP/Hackathon/video.mp4: 384x640 (no detections), 10.7ms\n",
            "video 1/1 (frame 1196/1264) /content/gdrive/MyDrive/FIAP/Hackathon/video.mp4: 384x640 (no detections), 10.4ms\n",
            "video 1/1 (frame 1197/1264) /content/gdrive/MyDrive/FIAP/Hackathon/video.mp4: 384x640 (no detections), 11.0ms\n",
            "video 1/1 (frame 1198/1264) /content/gdrive/MyDrive/FIAP/Hackathon/video.mp4: 384x640 (no detections), 10.8ms\n",
            "video 1/1 (frame 1199/1264) /content/gdrive/MyDrive/FIAP/Hackathon/video.mp4: 384x640 (no detections), 10.7ms\n",
            "video 1/1 (frame 1200/1264) /content/gdrive/MyDrive/FIAP/Hackathon/video.mp4: 384x640 (no detections), 11.3ms\n",
            "video 1/1 (frame 1201/1264) /content/gdrive/MyDrive/FIAP/Hackathon/video.mp4: 384x640 (no detections), 11.0ms\n",
            "video 1/1 (frame 1202/1264) /content/gdrive/MyDrive/FIAP/Hackathon/video.mp4: 384x640 (no detections), 10.9ms\n",
            "video 1/1 (frame 1203/1264) /content/gdrive/MyDrive/FIAP/Hackathon/video.mp4: 384x640 (no detections), 10.9ms\n",
            "video 1/1 (frame 1204/1264) /content/gdrive/MyDrive/FIAP/Hackathon/video.mp4: 384x640 (no detections), 10.8ms\n",
            "video 1/1 (frame 1205/1264) /content/gdrive/MyDrive/FIAP/Hackathon/video.mp4: 384x640 (no detections), 10.5ms\n",
            "video 1/1 (frame 1206/1264) /content/gdrive/MyDrive/FIAP/Hackathon/video.mp4: 384x640 (no detections), 10.6ms\n",
            "video 1/1 (frame 1207/1264) /content/gdrive/MyDrive/FIAP/Hackathon/video.mp4: 384x640 (no detections), 10.7ms\n",
            "video 1/1 (frame 1208/1264) /content/gdrive/MyDrive/FIAP/Hackathon/video.mp4: 384x640 (no detections), 10.9ms\n",
            "video 1/1 (frame 1209/1264) /content/gdrive/MyDrive/FIAP/Hackathon/video.mp4: 384x640 (no detections), 11.2ms\n",
            "video 1/1 (frame 1210/1264) /content/gdrive/MyDrive/FIAP/Hackathon/video.mp4: 384x640 (no detections), 10.9ms\n",
            "video 1/1 (frame 1211/1264) /content/gdrive/MyDrive/FIAP/Hackathon/video.mp4: 384x640 (no detections), 10.5ms\n",
            "video 1/1 (frame 1212/1264) /content/gdrive/MyDrive/FIAP/Hackathon/video.mp4: 384x640 (no detections), 12.3ms\n",
            "video 1/1 (frame 1213/1264) /content/gdrive/MyDrive/FIAP/Hackathon/video.mp4: 384x640 (no detections), 10.7ms\n",
            "video 1/1 (frame 1214/1264) /content/gdrive/MyDrive/FIAP/Hackathon/video.mp4: 384x640 (no detections), 10.7ms\n",
            "video 1/1 (frame 1215/1264) /content/gdrive/MyDrive/FIAP/Hackathon/video.mp4: 384x640 (no detections), 10.4ms\n",
            "video 1/1 (frame 1216/1264) /content/gdrive/MyDrive/FIAP/Hackathon/video.mp4: 384x640 (no detections), 10.5ms\n",
            "video 1/1 (frame 1217/1264) /content/gdrive/MyDrive/FIAP/Hackathon/video.mp4: 384x640 (no detections), 10.4ms\n",
            "video 1/1 (frame 1218/1264) /content/gdrive/MyDrive/FIAP/Hackathon/video.mp4: 384x640 (no detections), 10.5ms\n",
            "video 1/1 (frame 1219/1264) /content/gdrive/MyDrive/FIAP/Hackathon/video.mp4: 384x640 (no detections), 10.3ms\n",
            "video 1/1 (frame 1220/1264) /content/gdrive/MyDrive/FIAP/Hackathon/video.mp4: 384x640 (no detections), 10.5ms\n",
            "video 1/1 (frame 1221/1264) /content/gdrive/MyDrive/FIAP/Hackathon/video.mp4: 384x640 (no detections), 10.6ms\n",
            "video 1/1 (frame 1222/1264) /content/gdrive/MyDrive/FIAP/Hackathon/video.mp4: 384x640 (no detections), 10.6ms\n",
            "video 1/1 (frame 1223/1264) /content/gdrive/MyDrive/FIAP/Hackathon/video.mp4: 384x640 (no detections), 10.6ms\n",
            "video 1/1 (frame 1224/1264) /content/gdrive/MyDrive/FIAP/Hackathon/video.mp4: 384x640 (no detections), 10.4ms\n",
            "video 1/1 (frame 1225/1264) /content/gdrive/MyDrive/FIAP/Hackathon/video.mp4: 384x640 (no detections), 10.9ms\n",
            "video 1/1 (frame 1226/1264) /content/gdrive/MyDrive/FIAP/Hackathon/video.mp4: 384x640 (no detections), 10.7ms\n",
            "video 1/1 (frame 1227/1264) /content/gdrive/MyDrive/FIAP/Hackathon/video.mp4: 384x640 (no detections), 10.9ms\n",
            "video 1/1 (frame 1228/1264) /content/gdrive/MyDrive/FIAP/Hackathon/video.mp4: 384x640 (no detections), 10.7ms\n",
            "video 1/1 (frame 1229/1264) /content/gdrive/MyDrive/FIAP/Hackathon/video.mp4: 384x640 (no detections), 10.7ms\n",
            "video 1/1 (frame 1230/1264) /content/gdrive/MyDrive/FIAP/Hackathon/video.mp4: 384x640 (no detections), 10.5ms\n",
            "video 1/1 (frame 1231/1264) /content/gdrive/MyDrive/FIAP/Hackathon/video.mp4: 384x640 (no detections), 10.5ms\n",
            "video 1/1 (frame 1232/1264) /content/gdrive/MyDrive/FIAP/Hackathon/video.mp4: 384x640 (no detections), 10.4ms\n",
            "video 1/1 (frame 1233/1264) /content/gdrive/MyDrive/FIAP/Hackathon/video.mp4: 384x640 (no detections), 11.5ms\n",
            "video 1/1 (frame 1234/1264) /content/gdrive/MyDrive/FIAP/Hackathon/video.mp4: 384x640 (no detections), 13.0ms\n",
            "video 1/1 (frame 1235/1264) /content/gdrive/MyDrive/FIAP/Hackathon/video.mp4: 384x640 (no detections), 11.1ms\n",
            "video 1/1 (frame 1236/1264) /content/gdrive/MyDrive/FIAP/Hackathon/video.mp4: 384x640 (no detections), 10.4ms\n",
            "video 1/1 (frame 1237/1264) /content/gdrive/MyDrive/FIAP/Hackathon/video.mp4: 384x640 (no detections), 10.3ms\n",
            "video 1/1 (frame 1238/1264) /content/gdrive/MyDrive/FIAP/Hackathon/video.mp4: 384x640 (no detections), 10.3ms\n",
            "video 1/1 (frame 1239/1264) /content/gdrive/MyDrive/FIAP/Hackathon/video.mp4: 384x640 (no detections), 10.4ms\n",
            "video 1/1 (frame 1240/1264) /content/gdrive/MyDrive/FIAP/Hackathon/video.mp4: 384x640 (no detections), 10.3ms\n",
            "video 1/1 (frame 1241/1264) /content/gdrive/MyDrive/FIAP/Hackathon/video.mp4: 384x640 (no detections), 10.2ms\n",
            "video 1/1 (frame 1242/1264) /content/gdrive/MyDrive/FIAP/Hackathon/video.mp4: 384x640 (no detections), 10.3ms\n",
            "video 1/1 (frame 1243/1264) /content/gdrive/MyDrive/FIAP/Hackathon/video.mp4: 384x640 (no detections), 10.2ms\n",
            "video 1/1 (frame 1244/1264) /content/gdrive/MyDrive/FIAP/Hackathon/video.mp4: 384x640 (no detections), 10.3ms\n",
            "video 1/1 (frame 1245/1264) /content/gdrive/MyDrive/FIAP/Hackathon/video.mp4: 384x640 (no detections), 10.4ms\n",
            "video 1/1 (frame 1246/1264) /content/gdrive/MyDrive/FIAP/Hackathon/video.mp4: 384x640 (no detections), 10.3ms\n",
            "video 1/1 (frame 1247/1264) /content/gdrive/MyDrive/FIAP/Hackathon/video.mp4: 384x640 (no detections), 10.5ms\n",
            "video 1/1 (frame 1248/1264) /content/gdrive/MyDrive/FIAP/Hackathon/video.mp4: 384x640 (no detections), 11.5ms\n",
            "video 1/1 (frame 1249/1264) /content/gdrive/MyDrive/FIAP/Hackathon/video.mp4: 384x640 (no detections), 10.5ms\n",
            "video 1/1 (frame 1250/1264) /content/gdrive/MyDrive/FIAP/Hackathon/video.mp4: 384x640 (no detections), 11.2ms\n",
            "video 1/1 (frame 1251/1264) /content/gdrive/MyDrive/FIAP/Hackathon/video.mp4: 384x640 (no detections), 10.5ms\n",
            "video 1/1 (frame 1252/1264) /content/gdrive/MyDrive/FIAP/Hackathon/video.mp4: 384x640 (no detections), 10.5ms\n",
            "video 1/1 (frame 1253/1264) /content/gdrive/MyDrive/FIAP/Hackathon/video.mp4: 384x640 (no detections), 10.6ms\n",
            "video 1/1 (frame 1254/1264) /content/gdrive/MyDrive/FIAP/Hackathon/video.mp4: 384x640 (no detections), 10.5ms\n",
            "video 1/1 (frame 1255/1264) /content/gdrive/MyDrive/FIAP/Hackathon/video.mp4: 384x640 (no detections), 10.6ms\n",
            "video 1/1 (frame 1256/1264) /content/gdrive/MyDrive/FIAP/Hackathon/video.mp4: 384x640 (no detections), 10.4ms\n",
            "video 1/1 (frame 1257/1264) /content/gdrive/MyDrive/FIAP/Hackathon/video.mp4: 384x640 (no detections), 10.6ms\n",
            "video 1/1 (frame 1258/1264) /content/gdrive/MyDrive/FIAP/Hackathon/video.mp4: 384x640 (no detections), 10.5ms\n",
            "video 1/1 (frame 1259/1264) /content/gdrive/MyDrive/FIAP/Hackathon/video.mp4: 384x640 (no detections), 10.4ms\n",
            "video 1/1 (frame 1260/1264) /content/gdrive/MyDrive/FIAP/Hackathon/video.mp4: 384x640 (no detections), 10.5ms\n",
            "video 1/1 (frame 1261/1264) /content/gdrive/MyDrive/FIAP/Hackathon/video.mp4: 384x640 (no detections), 10.3ms\n",
            "video 1/1 (frame 1262/1264) /content/gdrive/MyDrive/FIAP/Hackathon/video.mp4: 384x640 (no detections), 10.4ms\n",
            "video 1/1 (frame 1263/1264) /content/gdrive/MyDrive/FIAP/Hackathon/video.mp4: 384x640 (no detections), 10.4ms\n",
            "video 1/1 (frame 1264/1264) /content/gdrive/MyDrive/FIAP/Hackathon/video.mp4: 384x640 (no detections), 11.1ms\n",
            "Speed: 2.5ms preprocess, 11.1ms inference, 0.9ms postprocess per image at shape (1, 3, 384, 640)\n",
            "Results saved to \u001b[1mruns/detect/predict11\u001b[0m\n"
          ]
        }
      ],
      "source": [
        "# Se achar necessário, rode uma inferência com o modelo treinado\n",
        "from ultralytics import YOLO\n",
        "\n",
        "# Alterne o diretório atual para o diretório do projeto\n",
        "%cd /content/gdrive/MyDrive/FIAP/Hackathon\n",
        "\n",
        "model = YOLO(\"/runs/detect/best_20250204_133336/weights/best.pt\")\n",
        "\n",
        "results = model.predict(source=\"video.mp4\", save=True, conf=0.10)  # Substitua pelo caminho da imagem / vídeo"
      ]
    }
  ],
  "metadata": {
    "accelerator": "GPU",
    "colab": {
      "gpuType": "A100",
      "provenance": []
    },
    "kernelspec": {
      "display_name": "Python 3",
      "name": "python3"
    },
    "language_info": {
      "name": "python"
    }
  },
  "nbformat": 4,
  "nbformat_minor": 0
}
